{
 "cells": [
  {
   "cell_type": "code",
   "execution_count": 1,
   "id": "e91ae4da",
   "metadata": {},
   "outputs": [
    {
     "name": "stdout",
     "output_type": "stream",
     "text": [
      "Shahbaz alam\n"
     ]
    }
   ],
   "source": [
    "print(\"Shahbaz alam\")"
   ]
  },
  {
   "cell_type": "code",
   "execution_count": 5,
   "id": "3d3aba88",
   "metadata": {},
   "outputs": [],
   "source": [
    "import numpy as np"
   ]
  },
  {
   "cell_type": "code",
   "execution_count": 7,
   "id": "c0cd4993",
   "metadata": {},
   "outputs": [
    {
     "name": "stdout",
     "output_type": "stream",
     "text": [
      "<class 'float'>\n"
     ]
    }
   ],
   "source": [
    "print(type(10/5))"
   ]
  },
  {
   "cell_type": "code",
   "execution_count": 8,
   "id": "e0f1db25",
   "metadata": {},
   "outputs": [
    {
     "name": "stdout",
     "output_type": "stream",
     "text": [
      "2.0\n"
     ]
    }
   ],
   "source": [
    "print(4/2)"
   ]
  },
  {
   "cell_type": "code",
   "execution_count": 13,
   "id": "8ab4f8fa",
   "metadata": {},
   "outputs": [
    {
     "name": "stdout",
     "output_type": "stream",
     "text": [
      "<class 'int'>\n",
      "<class 'float'>\n"
     ]
    }
   ],
   "source": [
    "print(type(10//2))\n",
    "print(type(10/2))"
   ]
  },
  {
   "cell_type": "code",
   "execution_count": 14,
   "id": "35a75d4e",
   "metadata": {},
   "outputs": [
    {
     "name": "stdout",
     "output_type": "stream",
     "text": [
      "0b101\n"
     ]
    }
   ],
   "source": [
    "print(bin(5))"
   ]
  },
  {
   "cell_type": "code",
   "execution_count": 17,
   "id": "ca37d296",
   "metadata": {},
   "outputs": [
    {
     "name": "stdout",
     "output_type": "stream",
     "text": [
      "5\n"
     ]
    }
   ],
   "source": [
    "print(int('0b101',2))\n",
    "# print(( '0b101',8))"
   ]
  },
  {
   "cell_type": "code",
   "execution_count": 22,
   "id": "d8d555c3",
   "metadata": {},
   "outputs": [
    {
     "name": "stdout",
     "output_type": "stream",
     "text": [
      "100.1\n"
     ]
    }
   ],
   "source": [
    "id = 100.1\n",
    "print(id)"
   ]
  },
  {
   "cell_type": "code",
   "execution_count": 23,
   "id": "64133446",
   "metadata": {},
   "outputs": [
    {
     "name": "stdout",
     "output_type": "stream",
     "text": [
      "<class 'float'>\n"
     ]
    }
   ],
   "source": [
    "print(type(id))"
   ]
  },
  {
   "cell_type": "code",
   "execution_count": 30,
   "id": "4f1a3a79",
   "metadata": {},
   "outputs": [
    {
     "name": "stdout",
     "output_type": "stream",
     "text": [
      "<class 'float'>\n"
     ]
    }
   ],
   "source": [
    " a = 10.11111\n",
    "print(type(a))\n"
   ]
  },
  {
   "cell_type": "code",
   "execution_count": 35,
   "id": "68abd51d",
   "metadata": {},
   "outputs": [
    {
     "name": "stdout",
     "output_type": "stream",
     "text": [
      "shahbassszipu\n"
     ]
    }
   ],
   "source": [
    "useR_Name = 'shahbassszipu'\n",
    "print(useR_Name)"
   ]
  },
  {
   "cell_type": "code",
   "execution_count": 36,
   "id": "621f55d1",
   "metadata": {},
   "outputs": [
    {
     "name": "stdout",
     "output_type": "stream",
     "text": [
      "<built-in function print>\n"
     ]
    }
   ],
   "source": [
    "print(print)"
   ]
  },
  {
   "cell_type": "code",
   "execution_count": 37,
   "id": "97b8b733",
   "metadata": {},
   "outputs": [
    {
     "name": "stdout",
     "output_type": "stream",
     "text": [
      "5\n",
      "None\n"
     ]
    }
   ],
   "source": [
    "print(print(5))"
   ]
  },
  {
   "cell_type": "code",
   "execution_count": 38,
   "id": "e46f4155",
   "metadata": {},
   "outputs": [
    {
     "name": "stdout",
     "output_type": "stream",
     "text": [
      "<class 'builtin_function_or_method'>\n",
      "None\n"
     ]
    }
   ],
   "source": [
    "print(print(type(print)))"
   ]
  },
  {
   "cell_type": "code",
   "execution_count": 39,
   "id": "0a0241ad",
   "metadata": {},
   "outputs": [
    {
     "ename": "NameError",
     "evalue": "name 'PI' is not defined",
     "output_type": "error",
     "traceback": [
      "\u001b[0;31m---------------------------------------------------------------------------\u001b[0m",
      "\u001b[0;31mNameError\u001b[0m                                 Traceback (most recent call last)",
      "Cell \u001b[0;32mIn[39], line 1\u001b[0m\n\u001b[0;32m----> 1\u001b[0m \u001b[38;5;28mprint\u001b[39m(PI)\n",
      "\u001b[0;31mNameError\u001b[0m: name 'PI' is not defined"
     ]
    }
   ],
   "source": [
    "print(PI)"
   ]
  },
  {
   "cell_type": "code",
   "execution_count": 41,
   "id": "a9e1e923",
   "metadata": {},
   "outputs": [
    {
     "ename": "NameError",
     "evalue": "name 'PI' is not defined",
     "output_type": "error",
     "traceback": [
      "\u001b[0;31m---------------------------------------------------------------------------\u001b[0m",
      "\u001b[0;31mNameError\u001b[0m                                 Traceback (most recent call last)",
      "Cell \u001b[0;32mIn[41], line 2\u001b[0m\n\u001b[1;32m      1\u001b[0m \u001b[38;5;28;01mimport\u001b[39;00m \u001b[38;5;21;01mmath\u001b[39;00m\n\u001b[0;32m----> 2\u001b[0m \u001b[38;5;28mprint\u001b[39m(PI)\n",
      "\u001b[0;31mNameError\u001b[0m: name 'PI' is not defined"
     ]
    }
   ],
   "source": [
    "import math\n",
    "print(PI)"
   ]
  },
  {
   "cell_type": "code",
   "execution_count": 42,
   "id": "39a6ce9f",
   "metadata": {},
   "outputs": [
    {
     "name": "stdout",
     "output_type": "stream",
     "text": [
      "10\n",
      "30\n"
     ]
    }
   ],
   "source": [
    "a,b,c = 10,20,30\n",
    "print(a)\n",
    "print(c)"
   ]
  },
  {
   "cell_type": "code",
   "execution_count": 43,
   "id": "c4f74b7b",
   "metadata": {},
   "outputs": [
    {
     "ename": "SyntaxError",
     "evalue": "invalid syntax (1541671611.py, line 1)",
     "output_type": "error",
     "traceback": [
      "\u001b[0;36m  Cell \u001b[0;32mIn[43], line 1\u001b[0;36m\u001b[0m\n\u001b[0;31m    <HTML>\u001b[0m\n\u001b[0m    ^\u001b[0m\n\u001b[0;31mSyntaxError\u001b[0m\u001b[0;31m:\u001b[0m invalid syntax\n"
     ]
    }
   ],
   "source": [
    "<HTML>\n",
    "<h1> Argumented assigment operator<h1/>"
   ]
  },
  {
   "cell_type": "markdown",
   "id": "67f1a987",
   "metadata": {},
   "source": [
    "# Argumented assigment operator"
   ]
  },
  {
   "cell_type": "code",
   "execution_count": 44,
   "id": "d8edaf45",
   "metadata": {},
   "outputs": [
    {
     "name": "stdout",
     "output_type": "stream",
     "text": [
      "15\n"
     ]
    }
   ],
   "source": [
    "id = 10\n",
    "id = id + 5 \n",
    "print(id)"
   ]
  },
  {
   "cell_type": "code",
   "execution_count": 45,
   "id": "be646da3",
   "metadata": {},
   "outputs": [
    {
     "name": "stdout",
     "output_type": "stream",
     "text": [
      "30\n"
     ]
    }
   ],
   "source": [
    "id+= 15\n",
    "print(id)"
   ]
  },
  {
   "cell_type": "markdown",
   "id": "f4e84688",
   "metadata": {},
   "source": [
    "# String"
   ]
  },
  {
   "cell_type": "code",
   "execution_count": 46,
   "id": "67269827",
   "metadata": {},
   "outputs": [
    {
     "name": "stdout",
     "output_type": "stream",
     "text": [
      "Shahbaz\n"
     ]
    }
   ],
   "source": [
    "print('Shahbaz')"
   ]
  },
  {
   "cell_type": "code",
   "execution_count": 47,
   "id": "312d9479",
   "metadata": {},
   "outputs": [
    {
     "name": "stdout",
     "output_type": "stream",
     "text": [
      "<class 'str'>\n"
     ]
    }
   ],
   "source": [
    "print(type(\"shahbaz\"))"
   ]
  },
  {
   "cell_type": "code",
   "execution_count": 48,
   "id": "c6c77e7e",
   "metadata": {},
   "outputs": [
    {
     "name": "stdout",
     "output_type": "stream",
     "text": [
      "shahbaaz\n"
     ]
    }
   ],
   "source": [
    "print(\"shah\"+\"baaz\")"
   ]
  },
  {
   "cell_type": "code",
   "execution_count": 58,
   "id": "4530b2c8",
   "metadata": {},
   "outputs": [
    {
     "name": "stdout",
     "output_type": "stream",
     "text": [
      "shah   baz\n"
     ]
    }
   ],
   "source": [
    "print('shah'+ \"baz\")"
   ]
  },
  {
   "cell_type": "markdown",
   "id": "4eabe5dd",
   "metadata": {},
   "source": [
    "# String => Long_string"
   ]
  },
  {
   "cell_type": "code",
   "execution_count": 50,
   "id": "1c49ab17",
   "metadata": {},
   "outputs": [
    {
     "name": "stdout",
     "output_type": "stream",
     "text": [
      "\n",
      "Or, not quite as intended, you can use a multiline string.\n",
      "\n",
      "Since Python will ignore string literals that are not assigned to a variable, you can add a multiline string (triple quotes) in your code, and place your comment inside it:\n",
      "\n"
     ]
    }
   ],
   "source": [
    "name = '''\n",
    "Or, not quite as intended, you can use a multiline string.\n",
    "\n",
    "Since Python will ignore string literals that are not assigned to a variable, you can add a multiline string (triple quotes) in your code, and place your comment inside it:\n",
    "'''\n",
    "print(name)"
   ]
  },
  {
   "cell_type": "code",
   "execution_count": 51,
   "id": "4ae7d66d",
   "metadata": {},
   "outputs": [
    {
     "ename": "SyntaxError",
     "evalue": "unterminated string literal (detected at line 1) (3189757609.py, line 1)",
     "output_type": "error",
     "traceback": [
      "\u001b[0;36m  Cell \u001b[0;32mIn[51], line 1\u001b[0;36m\u001b[0m\n\u001b[0;31m    name1 = 'Or, not quite as intended, you can use a multiline string.\u001b[0m\n\u001b[0m            ^\u001b[0m\n\u001b[0;31mSyntaxError\u001b[0m\u001b[0;31m:\u001b[0m unterminated string literal (detected at line 1)\n"
     ]
    }
   ],
   "source": [
    "name1 = 'Or, not quite as intended, you can use a multiline string.\n",
    "\n",
    "Since Python will ignore string literals that are not assigned to a variable, you can add a multiline string (triple quotes) in your code, and place your comment inside it:'\n",
    "    \n",
    "print(name1)    "
   ]
  },
  {
   "cell_type": "code",
   "execution_count": 52,
   "id": "ba332d54",
   "metadata": {},
   "outputs": [
    {
     "name": "stdout",
     "output_type": "stream",
     "text": [
      "\n",
      "Or, not quite as intended, you can use a multiline string.\n",
      "\n",
      "Since Python will ignore string literals that are not assigned to a variable, you can add a multiline string (triple quotes) in your code, and place your comment inside it:\n",
      "\n"
     ]
    }
   ],
   "source": [
    "name = '''\n",
    "Or, not quite as intended, you can use a multiline string.\n",
    "\n",
    "Since Python will ignore string literals that are not assigned to a variable, you can add a multiline string (triple quotes) in your code, and place your comment inside it:\n",
    "'''\n",
    "print(name)"
   ]
  },
  {
   "cell_type": "code",
   "execution_count": 56,
   "id": "8c12467f",
   "metadata": {},
   "outputs": [
    {
     "name": "stdout",
     "output_type": "stream",
     "text": [
      "Shahbaz Alllam\n"
     ]
    }
   ],
   "source": [
    "f_name = \"Shahbaz\"\n",
    "l_name = \" Alllam\"\n",
    "full_name = f_name+         l_name\n",
    "print(full_name)"
   ]
  },
  {
   "cell_type": "code",
   "execution_count": 59,
   "id": "7dfbb41c",
   "metadata": {},
   "outputs": [
    {
     "ename": "TypeError",
     "evalue": "can only concatenate str (not \"int\") to str",
     "output_type": "error",
     "traceback": [
      "\u001b[0;31m---------------------------------------------------------------------------\u001b[0m",
      "\u001b[0;31mTypeError\u001b[0m                                 Traceback (most recent call last)",
      "Cell \u001b[0;32mIn[59], line 1\u001b[0m\n\u001b[0;32m----> 1\u001b[0m \u001b[38;5;28mprint\u001b[39m(\u001b[38;5;124m'\u001b[39m\u001b[38;5;124mshahb\u001b[39m\u001b[38;5;124m'\u001b[39m\u001b[38;5;241m+\u001b[39m \u001b[38;5;241m5\u001b[39m)\n",
      "\u001b[0;31mTypeError\u001b[0m: can only concatenate str (not \"int\") to str"
     ]
    }
   ],
   "source": [
    "print('shahb'+ 5)"
   ]
  },
  {
   "cell_type": "code",
   "execution_count": 60,
   "id": "97457a1e",
   "metadata": {},
   "outputs": [
    {
     "name": "stdout",
     "output_type": "stream",
     "text": [
      "shahbaz 5\n"
     ]
    }
   ],
   "source": [
    "print(\"shahbaz\"+' 5')"
   ]
  },
  {
   "cell_type": "markdown",
   "id": "1ba47226",
   "metadata": {},
   "source": [
    "# Int to String\n"
   ]
  },
  {
   "cell_type": "code",
   "execution_count": 61,
   "id": "e32780bd",
   "metadata": {},
   "outputs": [
    {
     "name": "stdout",
     "output_type": "stream",
     "text": [
      "100\n"
     ]
    }
   ],
   "source": [
    "a = str(100)\n",
    "print(a)"
   ]
  },
  {
   "cell_type": "code",
   "execution_count": 62,
   "id": "b7c79bf8",
   "metadata": {},
   "outputs": [
    {
     "name": "stdout",
     "output_type": "stream",
     "text": [
      "<class 'str'>\n"
     ]
    }
   ],
   "source": [
    "print(type(a))"
   ]
  },
  {
   "cell_type": "markdown",
   "id": "367b2fec",
   "metadata": {},
   "source": [
    "# Escape Sequence"
   ]
  },
  {
   "cell_type": "code",
   "execution_count": 63,
   "id": "b67a9548",
   "metadata": {},
   "outputs": [
    {
     "name": "stdout",
     "output_type": "stream",
     "text": [
      "shah'baz\n"
     ]
    }
   ],
   "source": [
    "value = \"shah'baz\"\n",
    "print(value)"
   ]
  },
  {
   "cell_type": "code",
   "execution_count": 64,
   "id": "2027ffa3",
   "metadata": {},
   "outputs": [
    {
     "name": "stdout",
     "output_type": "stream",
     "text": [
      "shah\"alam\n"
     ]
    }
   ],
   "source": [
    "value1 = 'shah\"alam'\n",
    "print(value1)"
   ]
  },
  {
   "cell_type": "code",
   "execution_count": 65,
   "id": "36bd35a0",
   "metadata": {},
   "outputs": [
    {
     "ename": "SyntaxError",
     "evalue": "unterminated string literal (detected at line 1) (591190021.py, line 1)",
     "output_type": "error",
     "traceback": [
      "\u001b[0;36m  Cell \u001b[0;32mIn[65], line 1\u001b[0;36m\u001b[0m\n\u001b[0;31m    value2 = 'shah' baz'\u001b[0m\n\u001b[0m                       ^\u001b[0m\n\u001b[0;31mSyntaxError\u001b[0m\u001b[0;31m:\u001b[0m unterminated string literal (detected at line 1)\n"
     ]
    }
   ],
   "source": [
    "value2 = 'shah' baz'\n",
    "print(value2)"
   ]
  },
  {
   "cell_type": "code",
   "execution_count": 66,
   "id": "ee1cf30a",
   "metadata": {},
   "outputs": [
    {
     "name": "stdout",
     "output_type": "stream",
     "text": [
      "it's shahbaz alam\n"
     ]
    }
   ],
   "source": [
    "name = \"it's shahbaz alam\"\n",
    "print(name)"
   ]
  },
  {
   "cell_type": "code",
   "execution_count": 67,
   "id": "553b9809",
   "metadata": {},
   "outputs": [
    {
     "ename": "SyntaxError",
     "evalue": "invalid syntax (3100650731.py, line 1)",
     "output_type": "error",
     "traceback": [
      "\u001b[0;36m  Cell \u001b[0;32mIn[67], line 1\u001b[0;36m\u001b[0m\n\u001b[0;31m    value = \"it's\" kind of sunny\"\"\u001b[0m\n\u001b[0m                   ^\u001b[0m\n\u001b[0;31mSyntaxError\u001b[0m\u001b[0;31m:\u001b[0m invalid syntax\n"
     ]
    }
   ],
   "source": [
    "value = \"it's\" kind of sunny\"\"\n",
    "print(value)"
   ]
  },
  {
   "cell_type": "markdown",
   "id": "b7de2be8",
   "metadata": {},
   "source": [
    "##  after \\ backward slace python consider it is symbol"
   ]
  },
  {
   "cell_type": "code",
   "execution_count": 70,
   "id": "e92f6f34",
   "metadata": {},
   "outputs": [
    {
     "name": "stdout",
     "output_type": "stream",
     "text": [
      "it's\"kind of sunny\"\n"
     ]
    }
   ],
   "source": [
    "value = \"it\\'s\\\"kind of sunny\\\" \"  # after \\ backward slace python consider it is symbol\n",
    "print(value)"
   ]
  },
  {
   "cell_type": "markdown",
   "id": "3a3e42c8",
   "metadata": {},
   "source": [
    "##  \\n for New Line"
   ]
  },
  {
   "cell_type": "code",
   "execution_count": 72,
   "id": "76402402",
   "metadata": {},
   "outputs": [
    {
     "name": "stdout",
     "output_type": "stream",
     "text": [
      "shahbaz\n",
      " alam\n"
     ]
    }
   ],
   "source": [
    "print(\"shahbaz\\n alam\")"
   ]
  },
  {
   "cell_type": "markdown",
   "id": "7ad1e521",
   "metadata": {},
   "source": [
    "##  \\t  for Tab "
   ]
  },
  {
   "cell_type": "code",
   "execution_count": 74,
   "id": "754dda03",
   "metadata": {},
   "outputs": [
    {
     "name": "stdout",
     "output_type": "stream",
     "text": [
      "\tshahbaz alam\n"
     ]
    }
   ],
   "source": [
    "print(\"\\tshahbaz alam\")"
   ]
  },
  {
   "cell_type": "markdown",
   "id": "cd78b3da",
   "metadata": {},
   "source": [
    "## Formatted String"
   ]
  },
  {
   "cell_type": "code",
   "execution_count": 80,
   "id": "df37abe6",
   "metadata": {},
   "outputs": [
    {
     "name": "stdout",
     "output_type": "stream",
     "text": [
      "Hi Shahbaz, You are eligible for vote age is 22\n"
     ]
    }
   ],
   "source": [
    "name = \"Shahbaz\"\n",
    "age = 22\n",
    "print('Hi '+ name +', You are eligible for vote age is '+str(age))"
   ]
  },
  {
   "cell_type": "markdown",
   "id": "433ceff2",
   "metadata": {},
   "source": [
    "##  using { f } for farmatting String"
   ]
  },
  {
   "cell_type": "code",
   "execution_count": 90,
   "id": "1121f54f",
   "metadata": {},
   "outputs": [
    {
     "name": "stdout",
     "output_type": "stream",
     "text": [
      "Hi Shahbaz Your age is22\n"
     ]
    }
   ],
   "source": [
    "name = \"Shahbaz\"\n",
    "age = 22\n",
    "print(f\"Hi {name} Your age is{age}\")"
   ]
  },
  {
   "cell_type": "markdown",
   "id": "e9d1f572",
   "metadata": {},
   "source": [
    "## using .farmate for formatting String "
   ]
  },
  {
   "cell_type": "code",
   "execution_count": 93,
   "id": "60e59423",
   "metadata": {},
   "outputs": [
    {
     "name": "stdout",
     "output_type": "stream",
     "text": [
      "Hi shahabz Your age isage\n"
     ]
    }
   ],
   "source": [
    "name = \"Shahbaz\"\n",
    "age = 22\n",
    "print(\"Hi {} Your age is{}\".format(\"shahabz\",'age'))"
   ]
  },
  {
   "cell_type": "code",
   "execution_count": 95,
   "id": "9a8d2c0d",
   "metadata": {},
   "outputs": [
    {
     "name": "stdout",
     "output_type": "stream",
     "text": [
      "Hi Shahbaz Your age is 22\n"
     ]
    }
   ],
   "source": [
    "name = \"Shahbaz\"\n",
    "age = 22\n",
    "print(\"Hi {0} Your age is {1}\".format(name,age))"
   ]
  },
  {
   "cell_type": "code",
   "execution_count": 97,
   "id": "09ab901a",
   "metadata": {},
   "outputs": [
    {
     "name": "stdout",
     "output_type": "stream",
     "text": [
      "Hi Arbaz Your age is 20\n"
     ]
    }
   ],
   "source": [
    "name = \"Shahbaz\"\n",
    "age = 22\n",
    "print(\"Hi {use_name} Your age is {curr_age}\".format(use_name = 'Arbaz',curr_age = 20))"
   ]
  },
  {
   "cell_type": "markdown",
   "id": "bbd97b07",
   "metadata": {},
   "source": [
    "## String Index"
   ]
  },
  {
   "cell_type": "code",
   "execution_count": 133,
   "id": "41471f36",
   "metadata": {},
   "outputs": [
    {
     "name": "stdout",
     "output_type": "stream",
     "text": [
      "S\n",
      "h\n",
      "a\n",
      "h\n",
      "b\n",
      "a\n",
      "z\n",
      " \n",
      "A\n",
      "l\n",
      "a\n",
      "m\n"
     ]
    }
   ],
   "source": [
    "name = \"Shahbaz Alam\"\n",
    "     #  0123456789\n",
    "print(name[0])\n",
    "print(name[1])\n",
    "print(name[2])\n",
    "print(name[3])\n",
    "print(name[4])\n",
    "print(name[5])\n",
    "print(name[6])\n",
    "print(name[7])\n",
    "print(name[8])\n",
    "print(name[9])\n",
    "print(name[10])\n",
    "print(name[11])\n",
    "# print(name[12])"
   ]
  },
  {
   "cell_type": "markdown",
   "id": "159e48ae",
   "metadata": {},
   "source": [
    "### Access value within in range in String [ start ,  end -1]"
   ]
  },
  {
   "cell_type": "code",
   "execution_count": 107,
   "id": "45e24999",
   "metadata": {},
   "outputs": [
    {
     "name": "stdout",
     "output_type": "stream",
     "text": [
      "Sha\n"
     ]
    }
   ],
   "source": [
    "print(name[0:3])# 0 to 3 print zero index to 2 index "
   ]
  },
  {
   "cell_type": "markdown",
   "id": "b2a0b9dc",
   "metadata": {},
   "source": [
    "### Access value within in range in String [ start, end, jump ] . Default jump value is 1"
   ]
  },
  {
   "cell_type": "code",
   "execution_count": 134,
   "id": "12b6cfe2",
   "metadata": {},
   "outputs": [
    {
     "name": "stdout",
     "output_type": "stream",
     "text": [
      "Shahbaz Ala\n"
     ]
    }
   ],
   "source": [
    "\n",
    "print(name[0:11])# ? Remember[0 to n-1] rule\n"
   ]
  },
  {
   "cell_type": "code",
   "execution_count": 135,
   "id": "83f8aa31",
   "metadata": {},
   "outputs": [
    {
     "name": "stdout",
     "output_type": "stream",
     "text": [
      "SabzAa\n"
     ]
    }
   ],
   "source": [
    " print(name[0:12:2]) # Shahabz alam { S[h]a[h]b[a]z[]A[l]a[m]}  = SabzAa => we skip [] value "
   ]
  },
  {
   "cell_type": "code",
   "execution_count": 144,
   "id": "eab45d6c",
   "metadata": {},
   "outputs": [
    {
     "name": "stdout",
     "output_type": "stream",
     "text": [
      "Sh\n",
      "Shahbaz Alam\n"
     ]
    }
   ],
   "source": [
    "print(name[:5:3])\n",
    "print(name[::])"
   ]
  },
  {
   "cell_type": "markdown",
   "id": "4c65f536",
   "metadata": {},
   "source": [
    "### Negative index [ -1 ] is last index of String"
   ]
  },
  {
   "cell_type": "code",
   "execution_count": 148,
   "id": "8c4b13e2",
   "metadata": {},
   "outputs": [
    {
     "name": "stdout",
     "output_type": "stream",
     "text": [
      "m\n",
      "a\n",
      "S\n"
     ]
    }
   ],
   "source": [
    "print(name[-1])\n",
    "print(name[-2])\n",
    "print(name[-12])"
   ]
  },
  {
   "cell_type": "markdown",
   "id": "051b9268",
   "metadata": {},
   "source": [
    "### Reverse String by : : -1 "
   ]
  },
  {
   "cell_type": "code",
   "execution_count": 154,
   "id": "3616a872",
   "metadata": {},
   "outputs": [
    {
     "name": "stdout",
     "output_type": "stream",
     "text": [
      "malA zabhahS\n"
     ]
    }
   ],
   "source": [
    "print(name[::-1])"
   ]
  },
  {
   "cell_type": "code",
   "execution_count": 159,
   "id": "505bc88f",
   "metadata": {},
   "outputs": [
    {
     "name": "stdout",
     "output_type": "stream",
     "text": [
      "malA zabhahS\n"
     ]
    }
   ],
   "source": [
    "\n",
    "print(name[-1  :  -13  :-1])\n",
    "        #  start  end  jump "
   ]
  },
  {
   "cell_type": "code",
   "execution_count": 160,
   "id": "ccc48f70",
   "metadata": {},
   "outputs": [
    {
     "name": "stdout",
     "output_type": "stream",
     "text": [
      "ml ahh\n"
     ]
    }
   ],
   "source": [
    "print(name[-1  :  -13  :-2])\n",
    "          Shahbaz alam\n"
   ]
  },
  {
   "cell_type": "markdown",
   "id": "2cec493b",
   "metadata": {},
   "source": [
    "### Here Their is no need to go in negative index and skip and work  "
   ]
  },
  {
   "cell_type": "code",
   "execution_count": 162,
   "id": "d2c017ad",
   "metadata": {},
   "outputs": [
    {
     "name": "stdout",
     "output_type": "stream",
     "text": [
      "ml ahh\n"
     ]
    }
   ],
   "source": [
    "print(name[-1  :  -13  :-2])\n",
    "        "
   ]
  },
  {
   "cell_type": "markdown",
   "id": "a11436a6",
   "metadata": {},
   "source": [
    "## Built Function in String "
   ]
  },
  {
   "cell_type": "markdown",
   "id": "44b710e5",
   "metadata": {},
   "source": [
    "\n",
    "\"\"\"Method\tDescription\n",
    "capitalize()\tConverts the first character to upper case\n",
    "casefold()\tConverts string into lower case\n",
    "center()\tReturns a centered string\n",
    "count()\tReturns the number of times a specified value occurs in a string\n",
    "encode()\tReturns an encoded version of the string\n",
    "endswith()\tReturns true if the string ends with the specified value\n",
    "expandtabs()\tSets the tab size of the string\n",
    "find()\tSearches the string for a specified value and returns the position of where it was found\n",
    "format()\tFormats specified values in a string\n",
    "format_map()\tFormats specified values in a string\n",
    "index()\tSearches the string for a specified value and returns the position of where it was found\n",
    "isalnum()\tReturns True if all characters in the string are alphanumeric\n",
    "isalpha()\tReturns True if all characters in the string are in the alphabet\n",
    "isascii()\tReturns True if all characters in the string are ascii characters\n",
    "isdecimal()\tReturns True if all characters in the string are decimals\n",
    "isdigit()\tReturns True if all characters in the string are digits\n",
    "isidentifier()\tReturns True if the string is an identifier\n",
    "islower()\tReturns True if all characters in the string are lower case\n",
    "isnumeric()\tReturns True if all characters in the string are numeric\n",
    "isprintable()\tReturns True if all characters in the string are printable\n",
    "isspace()\tReturns True if all characters in the string are whitespaces\n",
    "istitle()\tReturns True if the string follows the rules of a title\n",
    "isupper()\tReturns True if all characters in the string are upper case\n",
    "join()\tConverts the elements of an iterable into a string\n",
    "ljust()\tReturns a left justified version of the string\n",
    "lower()\tConverts a string into lower case\n",
    "lstrip()\tReturns a left trim version of the string\n",
    "maketrans()\tReturns a translation table to be used in translations\n",
    "partition()\tReturns a tuple where the string is parted into three parts\n",
    "replace()\tReturns a string where a specified value is replaced with a specified value\n",
    "rfind()\tSearches the string for a specified value and returns the last position of where it was found\n",
    "rindex()\tSearches the string for a specified value and returns the last position of where it was found\n",
    "rjust()\tReturns a right justified version of the string\n",
    "rpartition()\tReturns a tuple where the string is parted into three parts\n",
    "rsplit()\tSplits the string at the specified separator, and returns a list\n",
    "rstrip()\tReturns a right trim version of the string\n",
    "split()\tSplits the string at the specified separator, and returns a list\n",
    "splitlines()\tSplits the string at line breaks and returns a list\n",
    "startswith()\tReturns true if the string starts with the specified value\n",
    "strip()\tReturns a trimmed version of the string\n",
    "swapcase()\tSwaps cases, lower case becomes upper case and vice versa\n",
    "title()\tConverts the first character of each word to upper case\n",
    "translate()\tReturns a translated string\n",
    "upper()\tConverts a string into upper case\n",
    "zfill()\tFills the string with a specified number of 0 values at the beginning\n",
    "\"\"\""
   ]
  },
  {
   "cell_type": "markdown",
   "id": "38a17c6e",
   "metadata": {},
   "source": [
    "### Capitalize String"
   ]
  },
  {
   "cell_type": "code",
   "execution_count": 167,
   "id": "bad1b3b5",
   "metadata": {},
   "outputs": [
    {
     "name": "stdout",
     "output_type": "stream",
     "text": [
      "Hi my name is shahbaz alam from bvcoe\n"
     ]
    }
   ],
   "source": [
    "name = \"hi my name is Shahbaz alam from Bvcoe\"\n",
    "print(name.capitalize())"
   ]
  },
  {
   "cell_type": "markdown",
   "id": "7892633c",
   "metadata": {},
   "source": [
    "### lover the String  "
   ]
  },
  {
   "cell_type": "code",
   "execution_count": 170,
   "id": "92da6a88",
   "metadata": {},
   "outputs": [
    {
     "name": "stdout",
     "output_type": "stream",
     "text": [
      "hi my name is shahbaz alam from bvcoe\n"
     ]
    }
   ],
   "source": [
    "name = \"Hi my name is Shahbaz alam from Bvcoe\"\n",
    "print(name.lower())"
   ]
  },
  {
   "cell_type": "markdown",
   "id": "26a8829d",
   "metadata": {},
   "source": [
    "### Find Function in String [ it gives the index of string ] "
   ]
  },
  {
   "cell_type": "code",
   "execution_count": 175,
   "id": "800bca3e",
   "metadata": {},
   "outputs": [
    {
     "name": "stdout",
     "output_type": "stream",
     "text": [
      "14\n"
     ]
    }
   ],
   "source": [
    "name = \"Hi my name is Shahbaz alam from Bvcoe\"\n",
    "                    # S at 14 index\n",
    "      \n",
    "print(name.find('Shahbaz'))"
   ]
  },
  {
   "cell_type": "code",
   "execution_count": 176,
   "id": "279c9456",
   "metadata": {},
   "outputs": [
    {
     "name": "stdout",
     "output_type": "stream",
     "text": [
      "14\n"
     ]
    }
   ],
   "source": [
    "name = \"Hi my name is Shahbaz alam from Bvcoe\"\n",
    "                    # S at 14 index\n",
    "      \n",
    "print(name.index('Shahbaz'))"
   ]
  },
  {
   "cell_type": "markdown",
   "id": "344e88de",
   "metadata": {},
   "source": [
    "# Difference b/w find and index in String"
   ]
  },
  {
   "cell_type": "code",
   "execution_count": 177,
   "id": "e5a2d52c",
   "metadata": {},
   "outputs": [],
   "source": [
    "text = \"Hello, World!\"\n",
    "\n",
    "# Using index()\n",
    "index_result = text.index(\"o\")\n",
    "# index_result is 4\n",
    "\n",
    "# Using find()\n",
    "find_result = text.find(\"o\")\n",
    "# find_result is 4\n",
    "\n",
    "# If the substring is not found:\n",
    "# Using index()\n",
    "# Raises ValueError: substring not found\n",
    "# index_result = text.index(\"z\")\n",
    "\n",
    "# Using find()\n",
    "find_result = text.find(\"z\")\n",
    "# find_result is -1"
   ]
  },
  {
   "cell_type": "markdown",
   "id": "313a3bb8",
   "metadata": {},
   "source": [
    "### Replace "
   ]
  },
  {
   "cell_type": "code",
   "execution_count": 179,
   "id": "33edb2c7",
   "metadata": {},
   "outputs": [
    {
     "name": "stdout",
     "output_type": "stream",
     "text": [
      "Hi my name is Arbaz alam from Bvcoe\n"
     ]
    }
   ],
   "source": [
    "name = \"Hi my name is Shahbaz alam from Bvcoe\"\n",
    "print(name.replace('Shahbaz', 'Arbaz'))"
   ]
  },
  {
   "cell_type": "markdown",
   "id": "eb92203e",
   "metadata": {},
   "source": [
    "## String Immutable "
   ]
  },
  {
   "cell_type": "code",
   "execution_count": 180,
   "id": "4c7bb929",
   "metadata": {},
   "outputs": [
    {
     "name": "stdout",
     "output_type": "stream",
     "text": [
      "Hi my name is Shahbaz alam from Bvcoe\n"
     ]
    }
   ],
   "source": [
    "print(name) # our previous String is not change "
   ]
  },
  {
   "cell_type": "markdown",
   "id": "e9e74c43",
   "metadata": {},
   "source": [
    "# Boolean\n"
   ]
  },
  {
   "cell_type": "code",
   "execution_count": 192,
   "id": "8d90b43a",
   "metadata": {},
   "outputs": [
    {
     "name": "stdout",
     "output_type": "stream",
     "text": [
      "False\n",
      "True\n",
      "True\n",
      "True\n"
     ]
    }
   ],
   "source": [
    "print(bool(0))\n",
    "print(bool(1))\n",
    "print(bool('True'))\n",
    "print(bool('False')) ##  why True Reason in below  "
   ]
  },
  {
   "cell_type": "markdown",
   "id": "49caa377",
   "metadata": {},
   "source": [
    "## Why  print(bool('False')) is gives True value"
   ]
  },
  {
   "cell_type": "markdown",
   "id": "cd7e3cd8",
   "metadata": {},
   "source": [
    "#### The expression bool('false') evaluates to True because the string 'false' itself is a non-empty string, and in Python, a non-empty string is considered \"truthy.\" In other words, when you convert a non-empty string to a boolean using the bool() function, it will result in True.\n",
    "\n",
    "In Python, the following values are considered \"falsy\" when converted to boolean:\n",
    "\n",
    "An empty string ''\n",
    "The special value None\n",
    "Numeric zero values, such as 0, 0.0, and 0j (complex zero)\n",
    "Empty collections, such as empty lists ([]), empty dictionaries ({}), and empty sets (set())\n",
    "All other values, including non-empty strings like 'false', are considered \"truthy\" when converted to boolean.\n",
    "\n",
    "So, when you do bool('false'), it evaluates to True because the string 'false' is not empty. If you want to check whether the string contains the text \"false\" (ignoring case), you would need to perform a string comparison or use other methods, such as: "
   ]
  },
  {
   "cell_type": "code",
   "execution_count": 191,
   "id": "f7c619f3",
   "metadata": {},
   "outputs": [
    {
     "name": "stdout",
     "output_type": "stream",
     "text": [
      "It is \"false\"\n"
     ]
    }
   ],
   "source": [
    "text = 'shah'\n",
    "if text.lower() == 'shah':\n",
    "    print('It is \"false\"')\n",
    "else:\n",
    "    print('It is not \"false\"')\n"
   ]
  },
  {
   "cell_type": "markdown",
   "id": "5f86b886",
   "metadata": {},
   "source": [
    "# Exercise Take input and print Age"
   ]
  },
  {
   "cell_type": "code",
   "execution_count": 202,
   "id": "ad65ea68",
   "metadata": {},
   "outputs": [
    {
     "name": "stdout",
     "output_type": "stream",
     "text": [
      "Enter Your Current Age21\n",
      "Your Current age 21\n"
     ]
    }
   ],
   "source": [
    "age = int(input(\"Enter Your Current Age\"))\n",
    "print(\"Your Current age\",age)"
   ]
  },
  {
   "cell_type": "code",
   "execution_count": 216,
   "id": "38006990",
   "metadata": {},
   "outputs": [
    {
     "name": "stdout",
     "output_type": "stream",
     "text": [
      "Enter Your current Age 23\n",
      "Your born age is 2000\n"
     ]
    }
   ],
   "source": [
    "curr_age = (input(\"Enter Your current Age \"))\n",
    "age = 2023 - int(curr_age)\n",
    "# print(f\"Your born age is {age}\")\n",
    "print(\"Your born age is {0}\".format(age))\n"
   ]
  },
  {
   "cell_type": "markdown",
   "id": "7a2c13ce",
   "metadata": {},
   "source": [
    "# Exercise for password checker"
   ]
  },
  {
   "cell_type": "code",
   "execution_count": 249,
   "id": "b34dc796",
   "metadata": {},
   "outputs": [
    {
     "name": "stdout",
     "output_type": "stream",
     "text": [
      "Enter username :shabaz\n",
      "Enter the length of password5\n",
      "Your UserName is shabaz and password is ***** and length is 5\n"
     ]
    }
   ],
   "source": [
    "user_name = input(\"Enter username :\")\n",
    "inputPassLen = input(\"Enter the length of password\")\n",
    "\n",
    "password = '*'* int(inputPassLen)\n",
    "len_pass = (len(password))\n",
    "print(\"Your UserName is {0} and password is {1} and length is {2}\".format(user_name,password,len_pass))\n"
   ]
  },
  {
   "cell_type": "code",
   "execution_count": 252,
   "id": "c3206101",
   "metadata": {},
   "outputs": [
    {
     "name": "stdout",
     "output_type": "stream",
     "text": [
      "Enter username :Shabz\n",
      "Enter the password123\n",
      "Your UserName is Shabz and password is *** and length is 3\n"
     ]
    }
   ],
   "source": [
    "user_name = input(\"Enter username :\")\n",
    "inputPassLen = input(\"Enter the password\")\n",
    "pass_length = len(inputPassLen)\n",
    "secret_pass = '*'* pass_length;\n",
    "print(\"Your UserName is {0} and password is {1} and length is {2}\".format(user_name,secret_pass,pass_length))\n"
   ]
  },
  {
   "cell_type": "markdown",
   "id": "504a3475",
   "metadata": {},
   "source": [
    "#  List  => ordered "
   ]
  },
  {
   "cell_type": "code",
   "execution_count": 259,
   "id": "f0ea10ba",
   "metadata": {},
   "outputs": [
    {
     "name": "stdout",
     "output_type": "stream",
     "text": [
      "3\n",
      "Shahabz\n",
      "True\n"
     ]
    }
   ],
   "source": [
    "list1 = [0,1,3]\n",
    "list2 = [2,5,'Shahabz',True]\n",
    "print(list1[2])\n",
    "print(list2[2])\n",
    "print(list2[3])"
   ]
  },
  {
   "cell_type": "markdown",
   "id": "745bb1a9",
   "metadata": {},
   "source": [
    "### List Slice      {new list created  when slice a list}"
   ]
  },
  {
   "cell_type": "code",
   "execution_count": 268,
   "id": "404ec696",
   "metadata": {},
   "outputs": [
    {
     "name": "stdout",
     "output_type": "stream",
     "text": [
      "['watch', 'MacBook', 'desktop', 'bottle']\n",
      "['watch', 'MacBook', 'desktop', 'bottle']\n",
      "['watch', 'desktop']\n",
      "['MacBook', 'desktop']\n"
     ]
    }
   ],
   "source": [
    "cart = [\n",
    "    'watch',\n",
    "    'MacBook',\n",
    "    'desktop',\n",
    "    'bottle'\n",
    "]\n",
    "print(cart)\n",
    "print(cart[0:4:1])\n",
    "print(cart[0::2])\n",
    "print(cart[1:3])"
   ]
  },
  {
   "cell_type": "markdown",
   "id": "53fb9ae5",
   "metadata": {},
   "source": [
    "### List Mutable"
   ]
  },
  {
   "cell_type": "code",
   "execution_count": 267,
   "id": "3556507d",
   "metadata": {},
   "outputs": [
    {
     "name": "stdout",
     "output_type": "stream",
     "text": [
      "['Iphone', 'MacBook', 'desktop', 'bottle']\n"
     ]
    }
   ],
   "source": [
    "cart = [\n",
    "    'watch',\n",
    "    'MacBook',\n",
    "    'desktop',\n",
    "    'bottle'\n",
    "]\n",
    "\n",
    "cart[0] = 'Iphone' # we mutate the list \n",
    "print(cart)"
   ]
  },
  {
   "cell_type": "markdown",
   "id": "a1f1e55c",
   "metadata": {},
   "source": [
    "#### Here cart2 make copy of list bcz we use slice "
   ]
  },
  {
   "cell_type": "code",
   "execution_count": 270,
   "id": "3f7da460",
   "metadata": {},
   "outputs": [
    {
     "name": "stdout",
     "output_type": "stream",
     "text": [
      "['Iphone', 'MacBook', 'desktop', 'bottle']\n",
      "['Ipad', 'MacBook', 'desktop']\n"
     ]
    }
   ],
   "source": [
    "cart = [\n",
    "    'watch',\n",
    "    'MacBook',\n",
    "    'desktop',\n",
    "    'bottle'\n",
    "]\n",
    "\n",
    "cart[0] = 'Iphone'\n",
    "cart2 = cart[0:3]\n",
    "cart2[0] = 'Ipad'\n",
    "print(cart)\n",
    "print(cart2)"
   ]
  },
  {
   "cell_type": "markdown",
   "id": "99686ff7",
   "metadata": {},
   "source": [
    "####  But here don't make copy bcz we don't slice use here"
   ]
  },
  {
   "cell_type": "code",
   "execution_count": 271,
   "id": "e0262576",
   "metadata": {},
   "outputs": [
    {
     "name": "stdout",
     "output_type": "stream",
     "text": [
      "['Ipad', 'MacBook', 'desktop', 'bottle']\n",
      "['Ipad', 'MacBook', 'desktop', 'bottle']\n"
     ]
    }
   ],
   "source": [
    "cart = [\n",
    "    'watch',\n",
    "    'MacBook',\n",
    "    'desktop',\n",
    "    'bottle'\n",
    "]\n",
    "\n",
    "cart[0] = 'Iphone'\n",
    "cart2 = cart\n",
    "cart2[0] = 'Ipad'\n",
    "print(cart)\n",
    "print(cart2)"
   ]
  },
  {
   "cell_type": "markdown",
   "id": "cbf0e8c1",
   "metadata": {},
   "source": [
    "# List Method"
   ]
  },
  {
   "cell_type": "markdown",
   "id": "02e50582",
   "metadata": {},
   "source": [
    "\n",
    "\n",
    "Method\t    Description\n",
    "\n",
    "append() Adds an element at the end of the list\n",
    "clear()\t Removes all the elements from the list\n",
    "copy()\t Returns a copy of the list\n",
    "count()\t Returns the number of elements with the specified value # cart.count(\"bottle\")\n",
    "extend() Add the elements of a list (or any iterable), to the end of the current list\n",
    "index()\t Returns the index of the first element with the specified value\n",
    "insert() Adds an element at the specified position\n",
    "pop()\t Removes the element at the specified position\n",
    "remove() Removes the first item with the specified value\n",
    "reverse()Reverses the order of the list\n",
    "sort()\t Sorts the list"
   ]
  },
  {
   "cell_type": "code",
   "execution_count": 311,
   "id": "e156a9b3",
   "metadata": {},
   "outputs": [
    {
     "name": "stdout",
     "output_type": "stream",
     "text": [
      "2\n",
      "3\n",
      "['watch', 'MacBook', 'bottle', 'Pixel', 'desktop', 'bottle']\n",
      "['MacBook', 'bottle', 'Pixel', 'desktop', 'bottle']\n",
      "['MacBook', 'bottle', 'Pixel', 'desktop', 'bottle', '100']\n",
      "['MacBook', 'bottle', 'Pixel', 'desktop', 'bottle', '100', 'App', 'Jamia']\n",
      "['Jamia', 'App', '100', 'bottle', 'desktop', 'Pixel', 'bottle', 'MacBook']\n",
      "['100', 'App', 'Jamia', 'MacBook', 'Pixel', 'bottle', 'bottle', 'desktop']\n",
      "['100', 'Jamia', 'MacBook', 'Pixel', 'bottle', 'bottle']\n",
      "3\n"
     ]
    }
   ],
   "source": [
    "cart = [\n",
    "    'watch',\n",
    "    'MacBook',\n",
    "    'bottle',\n",
    "    'desktop',\n",
    "    'bottle'\n",
    "]\n",
    "print(cart.count(\"bottle\")) # 2 => it return count of Search element\n",
    "\n",
    "print(cart.index(\"desktop\")) # 3 => \n",
    "\n",
    "cart.insert(3,\"Pixel\") # insert at 3 index 'pixel'\n",
    "print(cart)\n",
    "\n",
    "cart.remove(\"watch\")\n",
    "print(cart)\n",
    "\n",
    "cart.append('100') # it insert at last index\n",
    "print(cart)\n",
    "\n",
    "\n",
    "cart.extend(['App','Jamia'])# we add a list in list in last in old list it not create new list\n",
    "print(cart)\n",
    "\n",
    "cart.reverse() # it reverse the List\n",
    "print(cart)\n",
    "\n",
    "cart.sort()# it sort the Alphabaticaly\n",
    "print(cart)\n",
    "\n",
    "cart.pop() # Remove the last element\n",
    "cart.pop(1) # but we can also pop by index of element \n",
    "print(cart)\n",
    "\n",
    "\n",
    "print(cart.index('Pixel', 0,6)) # ?? here we search Pixel in range 0 to 6 it return index"
   ]
  },
  {
   "cell_type": "code",
   "execution_count": 291,
   "id": "3784c914",
   "metadata": {},
   "outputs": [
    {
     "name": "stdout",
     "output_type": "stream",
     "text": [
      "['MacBook', 'bottle', 'Pixel', 'desktop', 200, 200, 'bottle', 200, 200, 200, 100]\n",
      "None\n"
     ]
    }
   ],
   "source": [
    "val = cart.insert(7,200)\n",
    "print(cart)\n",
    "print(val)"
   ]
  },
  {
   "cell_type": "markdown",
   "id": "a9f901ca",
   "metadata": {},
   "source": [
    "### Why None  After insting in cart and assign to val variable\n"
   ]
  },
  {
   "cell_type": "code",
   "execution_count": null,
   "id": "19f4389a",
   "metadata": {},
   "outputs": [],
   "source": [
    "It seems like you are working with a Python list named cart,\n",
    "and you are using the insert() method to add an element at \n",
    "index 7 with a value of 200. The insert() method in Python\n",
    "does not return anything (it returns None by default),\n",
    "which is why you see None when you print the result of the insert() method.\n",
    "\n",
    "The modified cart list you provided contains the inserted value of 200 at index 7, \n",
    "as expected:\n",
    "\n",
    "['MacBook', 'bottle', 'Pixel', 'desktop', 200, 200, 'bottle', 200, 200, 100]\n",
    "None\n",
    "So, in Python, when you use the insert() method to add an element to a list, \n",
    "it modifies the list in place and returns None. If you want to retrieve the \n",
    "modified list, you don't need to assign the result of insert() to a variable.\n",
    "You can simply use the cart list itself after the insertion to access the updated values."
   ]
  },
  {
   "cell_type": "markdown",
   "id": "c9bd2f8b",
   "metadata": {},
   "source": [
    "### Why pop()  return remove value but remove() method not return"
   ]
  },
  {
   "cell_type": "code",
   "execution_count": null,
   "id": "26794172",
   "metadata": {},
   "outputs": [],
   "source": [
    "In Python, the pop() method and the remove() method are used to remove elements from a list,\n",
    "but they have different behaviors, which is why they return different values (or in the case\n",
    "of remove(), it does not return a value).\n",
    "\n",
    "pop():\n",
    "\n",
    "pop() is used to remove an element from a list based on its index.\n",
    "It returns the removed element.\n",
    "You need to specify the index from which you want to remove an element.\n",
    "Example:\n",
    "\n",
    "my_list = [1, 2, 3, 4, 5]\n",
    "removed_element = my_list.pop(2)  # Removes the element at index 2 (3) and returns it\n",
    "\n",
    "remove():\n",
    "\n",
    "remove() is used to remove the first occurrence of a specified value from the list.\n",
    "It does not return any value (returns None by default).\n",
    "You need to specify the value you want to remove.\n",
    "\n",
    "Example:\n",
    "my_list = [1, 2, 3, 4, 5]\n",
    "my_list.remove(3)  # Removes the first occurrence of the value 3 from the list\n",
    "The reason for this difference in behavior is that pop() is used when you want \n",
    "to retrieve the removed item, which can be useful if you need to use it later\n",
    "in your program. On the other hand, remove() is used when you want to remove \n",
    "a specific value from the list without needing to access it separately.\n",
    "The choice between them depends on your specific use case and whether you \n",
    "need the removed value or not."
   ]
  },
  {
   "cell_type": "markdown",
   "id": "b0250efb",
   "metadata": {},
   "source": [
    "### Check Element Present or not in list  "
   ]
  },
  {
   "cell_type": "code",
   "execution_count": 317,
   "id": "b2ad655b",
   "metadata": {},
   "outputs": [
    {
     "name": "stdout",
     "output_type": "stream",
     "text": [
      "True\n"
     ]
    }
   ],
   "source": [
    "#cart = ['100', 'Jamia', 'MacBook', 'Pixel', 'bottle', 'bottle']\n",
    "print('bottle' in cart)"
   ]
  },
  {
   "cell_type": "markdown",
   "id": "e1c2cf35",
   "metadata": {},
   "source": [
    "### Sort not return but sorted return "
   ]
  },
  {
   "cell_type": "code",
   "execution_count": null,
   "id": "4a02c64b",
   "metadata": {},
   "outputs": [],
   "source": [
    "n summary, sort() sorts a list in place and doesn't return anything because \n",
    "it modifies the original list, while sorted() returns a new sorted iterable \n",
    "without modifying the original iterable. The choice between them depends on \n",
    "whether you want to sort in place or create a new sortedsequence."
   ]
  },
  {
   "cell_type": "markdown",
   "id": "d3c2b8ea",
   "metadata": {},
   "source": [
    "### Range in list"
   ]
  },
  {
   "cell_type": "code",
   "execution_count": 318,
   "id": "b10fae62",
   "metadata": {},
   "outputs": [
    {
     "name": "stdout",
     "output_type": "stream",
     "text": [
      "[0, 1, 2, 3, 4, 5, 6, 7, 8, 9, 10, 11, 12, 13, 14, 15, 16, 17, 18, 19, 20, 21, 22, 23, 24, 25, 26, 27, 28, 29, 30, 31, 32, 33, 34, 35, 36, 37, 38, 39, 40, 41, 42, 43, 44, 45, 46, 47, 48, 49, 50, 51, 52, 53, 54, 55, 56, 57, 58, 59, 60, 61, 62, 63, 64, 65, 66, 67, 68, 69, 70, 71, 72, 73, 74, 75, 76, 77, 78, 79, 80, 81, 82, 83, 84, 85, 86, 87, 88, 89, 90, 91, 92, 93, 94, 95, 96, 97, 98, 99, 100]\n"
     ]
    }
   ],
   "source": [
    "print(list(range(101)))"
   ]
  },
  {
   "cell_type": "code",
   "execution_count": 319,
   "id": "ca79ddbf",
   "metadata": {},
   "outputs": [
    {
     "name": "stdout",
     "output_type": "stream",
     "text": [
      "[1, 2, 3, 4, 5, 6, 7, 8, 9, 10, 11, 12, 13, 14, 15, 16, 17, 18, 19, 20, 21, 22, 23, 24, 25, 26, 27, 28, 29, 30, 31, 32, 33, 34, 35, 36, 37, 38, 39, 40, 41, 42, 43, 44, 45, 46, 47, 48, 49, 50, 51, 52, 53, 54, 55, 56, 57, 58, 59, 60, 61, 62, 63, 64, 65, 66, 67, 68, 69, 70, 71, 72, 73, 74, 75, 76, 77, 78, 79, 80, 81, 82, 83, 84, 85, 86, 87, 88, 89, 90, 91, 92, 93, 94, 95, 96, 97, 98, 99, 100]\n"
     ]
    }
   ],
   "source": [
    "print(list(range(1,101)))"
   ]
  },
  {
   "cell_type": "markdown",
   "id": "728a2c2c",
   "metadata": {},
   "source": [
    "## Join in list"
   ]
  },
  {
   "cell_type": "code",
   "execution_count": 336,
   "id": "52c916cd",
   "metadata": {},
   "outputs": [
    {
     "name": "stdout",
     "output_type": "stream",
     "text": [
      " \n"
     ]
    }
   ],
   "source": [
    "sentence = \" \"\n",
    "sentence.join([ \"name\",'shab'])\n",
    "print(sentence)"
   ]
  },
  {
   "cell_type": "code",
   "execution_count": 337,
   "id": "5598019d",
   "metadata": {},
   "outputs": [
    {
     "name": "stdout",
     "output_type": "stream",
     "text": [
      "Name Shahbaz Alam\n"
     ]
    }
   ],
   "source": [
    "sentence = \" \"\n",
    "new_sentence = sentence.join([ \"Name\",'Shahbaz', 'Alam'])\n",
    "print(new_sentence)"
   ]
  },
  {
   "cell_type": "code",
   "execution_count": 339,
   "id": "67febe45",
   "metadata": {},
   "outputs": [
    {
     "ename": "IndentationError",
     "evalue": "unexpected indent (73128938.py, line 2)",
     "output_type": "error",
     "traceback": [
      "\u001b[0;36m  Cell \u001b[0;32mIn[339], line 2\u001b[0;36m\u001b[0m\n\u001b[0;31m    print(sentence)\u001b[0m\n\u001b[0m    ^\u001b[0m\n\u001b[0;31mIndentationError\u001b[0m\u001b[0;31m:\u001b[0m unexpected indent\n"
     ]
    }
   ],
   "source": [
    "sentence = \" \".join([\"Name\", \"Arbaz\",\"Alam\"])\n",
    "print(sentence)"
   ]
  },
  {
   "cell_type": "markdown",
   "id": "5a00896e",
   "metadata": {},
   "source": [
    "### List Unpacked"
   ]
  },
  {
   "cell_type": "code",
   "execution_count": 340,
   "id": "ab1375ab",
   "metadata": {},
   "outputs": [
    {
     "name": "stdout",
     "output_type": "stream",
     "text": [
      "1\n",
      "2\n",
      "3\n"
     ]
    }
   ],
   "source": [
    "a,b,c = [1,2,3]\n",
    "print(a)\n",
    "print(b)\n",
    "print(c)"
   ]
  },
  {
   "cell_type": "code",
   "execution_count": 341,
   "id": "a717dcb3",
   "metadata": {},
   "outputs": [
    {
     "name": "stdout",
     "output_type": "stream",
     "text": [
      "1\n",
      "2\n",
      "3\n",
      "[4, 5, 6, 7, 8, 9]\n"
     ]
    }
   ],
   "source": [
    "a,b,c, *value = [1,2,3,4,5,6,7,8,9]\n",
    "print(a)\n",
    "print(b)\n",
    "print(c)\n",
    "print(value)"
   ]
  },
  {
   "cell_type": "code",
   "execution_count": 343,
   "id": "9164b185",
   "metadata": {},
   "outputs": [
    {
     "name": "stdout",
     "output_type": "stream",
     "text": [
      "1\n",
      "2\n",
      "3\n",
      "[4, 5, 6, 7]\n",
      "8\n",
      "9\n"
     ]
    }
   ],
   "source": [
    "a,b,c, *value,d,f = [1,2,3,4,5,6,7,8,9]\n",
    "print(a)\n",
    "print(b)\n",
    "print(c)\n",
    "print(value)\n",
    "print(d)\n",
    "print(f)"
   ]
  },
  {
   "cell_type": "markdown",
   "id": "8da05ab1",
   "metadata": {},
   "source": [
    "# None "
   ]
  },
  {
   "cell_type": "code",
   "execution_count": 344,
   "id": "f5ffbda9",
   "metadata": {},
   "outputs": [
    {
     "name": "stdout",
     "output_type": "stream",
     "text": [
      "None\n"
     ]
    }
   ],
   "source": [
    "a = None\n",
    "print(a)"
   ]
  },
  {
   "cell_type": "code",
   "execution_count": 346,
   "id": "17024a18",
   "metadata": {},
   "outputs": [
    {
     "ename": "NameError",
     "evalue": "name 'null' is not defined",
     "output_type": "error",
     "traceback": [
      "\u001b[0;31m---------------------------------------------------------------------------\u001b[0m",
      "\u001b[0;31mNameError\u001b[0m                                 Traceback (most recent call last)",
      "Cell \u001b[0;32mIn[346], line 1\u001b[0m\n\u001b[0;32m----> 1\u001b[0m b \u001b[38;5;241m=\u001b[39m null\n\u001b[1;32m      2\u001b[0m \u001b[38;5;28mprint\u001b[39m(b)\n",
      "\u001b[0;31mNameError\u001b[0m: name 'null' is not defined"
     ]
    }
   ],
   "source": [
    "b = null\n",
    "print(b)"
   ]
  },
  {
   "cell_type": "markdown",
   "id": "4450814d",
   "metadata": {},
   "source": [
    "# Dictionary    => unordered key value pair"
   ]
  },
  {
   "cell_type": "code",
   "execution_count": null,
   "id": "ffca5c50",
   "metadata": {},
   "outputs": [],
   "source": [
    "Python has a set of built-in methods that you can use on dictionaries.\n",
    "\n",
    "Method\tDescription\n",
    "clear()\tRemoves all the elements from the dictionary\n",
    "copy()\tReturns a copy of the dictionary\n",
    "fromkeys()\tReturns a dictionary with the specified keys and value\n",
    "get()\tReturns the value of the specified key\n",
    "items()\tReturns a list containing a tuple for each key value pair\n",
    "keys()\tReturns a list containing the dictionary's keys\n",
    "pop()\tRemoves the element with the specified key\n",
    "popitem()\tRemoves the last inserted key-value pair\n",
    "setdefault()\tReturns the value of the specified key. If the key does not exist: insert the key, with the specified value\n",
    "update()\tUpdates the dictionary with the specified key-value pairs\n",
    "values()\tReturns a list of all the values in the dictionary"
   ]
  },
  {
   "cell_type": "code",
   "execution_count": 347,
   "id": "3fa57b82",
   "metadata": {},
   "outputs": [
    {
     "name": "stdout",
     "output_type": "stream",
     "text": [
      "{'a': 2, 'b': 3, 'c': True}\n"
     ]
    }
   ],
   "source": [
    "dicts = {\n",
    "       #'a':2\n",
    "       # 'a' => key\n",
    "       # 2 => value\n",
    "       # 'a':2 => key value pair\n",
    "    'a':2,\n",
    "    'b':3,\n",
    "    'c':True\n",
    "}\n",
    "print(dicts)"
   ]
  },
  {
   "cell_type": "code",
   "execution_count": 351,
   "id": "cf72a72e",
   "metadata": {},
   "outputs": [
    {
     "name": "stdout",
     "output_type": "stream",
     "text": [
      "[12, 13, 14]\n"
     ]
    }
   ],
   "source": [
    "dicts = {\n",
    "    'a':[12,13,14],\n",
    "    'b':3,\n",
    "    'c':True\n",
    "}\n",
    "print(dicts['a'])"
   ]
  },
  {
   "cell_type": "code",
   "execution_count": 350,
   "id": "0a0fe9c2",
   "metadata": {},
   "outputs": [
    {
     "name": "stdout",
     "output_type": "stream",
     "text": [
      "True\n"
     ]
    }
   ],
   "source": [
    "dicts = {\n",
    "    'a':2,\n",
    "    'b':3,\n",
    "    'c':True\n",
    "}\n",
    "print(dicts['c'])"
   ]
  },
  {
   "cell_type": "code",
   "execution_count": 359,
   "id": "10d7b767",
   "metadata": {},
   "outputs": [
    {
     "name": "stdout",
     "output_type": "stream",
     "text": [
      "14\n",
      "4\n",
      "True\n"
     ]
    }
   ],
   "source": [
    "my_list = [\n",
    "    {\n",
    "    'a':[12,13,14],\n",
    "    'b':3,\n",
    "    'c':True\n",
    "    },\n",
    "    {\n",
    "    'x':[3,4,5],\n",
    "    'y':3,\n",
    "    'z':True\n",
    "    }\n",
    "]\n",
    "print(my_list[0]['a'][2])\n",
    "print(my_list[1]['x'][1])\n",
    "print(my_list[0]['c'])"
   ]
  },
  {
   "cell_type": "code",
   "execution_count": 366,
   "id": "9d935e5f",
   "metadata": {},
   "outputs": [
    {
     "name": "stdout",
     "output_type": "stream",
     "text": [
      "[12, 13, 14]\n",
      "3\n",
      "True\n"
     ]
    }
   ],
   "source": [
    "my_list ={\n",
    "    6:[12,13,14],\n",
    "    True:3,\n",
    "    'a':True\n",
    "    }\n",
    "print((my_list[6]))\n",
    "print((my_list[True]))\n",
    "print((my_list['a']))"
   ]
  },
  {
   "cell_type": "code",
   "execution_count": 368,
   "id": "a67843d9",
   "metadata": {},
   "outputs": [
    {
     "ename": "TypeError",
     "evalue": "unhashable type: 'list'",
     "output_type": "error",
     "traceback": [
      "\u001b[0;31m---------------------------------------------------------------------------\u001b[0m",
      "\u001b[0;31mTypeError\u001b[0m                                 Traceback (most recent call last)",
      "Cell \u001b[0;32mIn[368], line 1\u001b[0m\n\u001b[0;32m----> 1\u001b[0m my_list \u001b[38;5;241m=\u001b[39m{\n\u001b[1;32m      2\u001b[0m     \u001b[38;5;241m6\u001b[39m:[\u001b[38;5;241m12\u001b[39m,\u001b[38;5;241m13\u001b[39m,\u001b[38;5;241m14\u001b[39m],\n\u001b[1;32m      3\u001b[0m     \u001b[38;5;28;01mTrue\u001b[39;00m:\u001b[38;5;241m3\u001b[39m,\n\u001b[1;32m      4\u001b[0m     [\u001b[38;5;241m100\u001b[39m]:\u001b[38;5;28;01mTrue\u001b[39;00m\n\u001b[1;32m      5\u001b[0m     }\n\u001b[1;32m      6\u001b[0m \u001b[38;5;28mprint\u001b[39m(my_list[[\u001b[38;5;241m100\u001b[39m]])\n",
      "\u001b[0;31mTypeError\u001b[0m: unhashable type: 'list'"
     ]
    }
   ],
   "source": [
    "my_list ={\n",
    "    6:[12,13,14],\n",
    "    True:3,\n",
    "    [100]:True\n",
    "    }\n",
    "print(my_list[[100]])  ## Error bcz [100] is list and list is muttable "
   ]
  },
  {
   "cell_type": "code",
   "execution_count": 369,
   "id": "0e858571",
   "metadata": {},
   "outputs": [
    {
     "name": "stdout",
     "output_type": "stream",
     "text": [
      "True\n"
     ]
    }
   ],
   "source": [
    "my_list ={\n",
    "    6:[12,13,14],\n",
    "    True:3,\n",
    "    '100':True\n",
    "    }\n",
    "print(my_list['100'])"
   ]
  },
  {
   "cell_type": "code",
   "execution_count": 371,
   "id": "02733f1f",
   "metadata": {},
   "outputs": [
    {
     "name": "stdout",
     "output_type": "stream",
     "text": [
      "hello\n"
     ]
    }
   ],
   "source": [
    "my_list ={\n",
    "    '123':[12,13,14],\n",
    "    '123':'hello', # key is unique so last '123' key value is 'hello' override [12,13,14] \n",
    "    }\n",
    "print(my_list['123'])"
   ]
  },
  {
   "cell_type": "code",
   "execution_count": 372,
   "id": "6ee9922b",
   "metadata": {},
   "outputs": [
    {
     "name": "stdout",
     "output_type": "stream",
     "text": [
      "Shahbaz\n"
     ]
    }
   ],
   "source": [
    "my_list ={\n",
    "    '123':[12,13,14],\n",
    "    '123':'hello', # key is unique so last '123' key value is 'hello' override \"Shahbaz\"\n",
    "    '123':\"Shahbaz\"\n",
    "    }\n",
    "print(my_list['123'])"
   ]
  },
  {
   "cell_type": "markdown",
   "id": "6c03ef59",
   "metadata": {},
   "source": [
    "### Key is not present in Dictionary"
   ]
  },
  {
   "cell_type": "code",
   "execution_count": 375,
   "id": "0f1b1c7c",
   "metadata": {},
   "outputs": [
    {
     "ename": "KeyError",
     "evalue": "'age'",
     "output_type": "error",
     "traceback": [
      "\u001b[0;31m---------------------------------------------------------------------------\u001b[0m",
      "\u001b[0;31mKeyError\u001b[0m                                  Traceback (most recent call last)",
      "Cell \u001b[0;32mIn[375], line 5\u001b[0m\n\u001b[1;32m      1\u001b[0m data \u001b[38;5;241m=\u001b[39m {\n\u001b[1;32m      2\u001b[0m     \u001b[38;5;124m'\u001b[39m\u001b[38;5;124mName\u001b[39m\u001b[38;5;124m'\u001b[39m:\u001b[38;5;124m'\u001b[39m\u001b[38;5;124mShahbaz\u001b[39m\u001b[38;5;124m'\u001b[39m,\n\u001b[1;32m      3\u001b[0m     \u001b[38;5;124m'\u001b[39m\u001b[38;5;124msex\u001b[39m\u001b[38;5;124m'\u001b[39m:\u001b[38;5;124m'\u001b[39m\u001b[38;5;124mMale\u001b[39m\u001b[38;5;124m'\u001b[39m\n\u001b[1;32m      4\u001b[0m }\n\u001b[0;32m----> 5\u001b[0m \u001b[38;5;28mprint\u001b[39m(data[\u001b[38;5;124m'\u001b[39m\u001b[38;5;124mage\u001b[39m\u001b[38;5;124m'\u001b[39m])\n",
      "\u001b[0;31mKeyError\u001b[0m: 'age'"
     ]
    }
   ],
   "source": [
    "data = {\n",
    "    'Name':'Shahbaz',\n",
    "    'sex':'Male'\n",
    "}\n",
    "print(data['age'])"
   ]
  },
  {
   "cell_type": "markdown",
   "id": "81236016",
   "metadata": {},
   "source": [
    "### Avoid to give error to user "
   ]
  },
  {
   "cell_type": "code",
   "execution_count": 378,
   "id": "993bc6c4",
   "metadata": {},
   "outputs": [
    {
     "name": "stdout",
     "output_type": "stream",
     "text": [
      "None\n"
     ]
    }
   ],
   "source": [
    "data = {\n",
    "    'Name':'Shahbaz',\n",
    "    'sex':'Male'\n",
    "}\n",
    "print(data.get('age'))"
   ]
  },
  {
   "cell_type": "code",
   "execution_count": 379,
   "id": "47b26d5c",
   "metadata": {},
   "outputs": [
    {
     "name": "stdout",
     "output_type": "stream",
     "text": [
      "21\n"
     ]
    }
   ],
   "source": [
    "# Default value key is not present\n",
    "data = {\n",
    "    'Name':'Shahbaz',\n",
    "    'sex':'Male'\n",
    "}\n",
    "print(data.get('age',21))"
   ]
  },
  {
   "cell_type": "markdown",
   "id": "b6f39eed",
   "metadata": {},
   "source": [
    "## Fun create dict"
   ]
  },
  {
   "cell_type": "code",
   "execution_count": 383,
   "id": "99be5a1c",
   "metadata": {},
   "outputs": [
    {
     "name": "stdout",
     "output_type": "stream",
     "text": [
      "{'name': 'Shahbaz'}\n"
     ]
    }
   ],
   "source": [
    "user2 = dict(name =\"Shahbaz\")\n",
    "print(user2)"
   ]
  },
  {
   "cell_type": "code",
   "execution_count": 384,
   "id": "916abfaf",
   "metadata": {},
   "outputs": [
    {
     "name": "stdout",
     "output_type": "stream",
     "text": [
      "Shahbaz\n"
     ]
    }
   ],
   "source": [
    "user2 = dict(name =\"Shahbaz\")\n",
    "print(user2['name'])"
   ]
  },
  {
   "cell_type": "markdown",
   "id": "a95d3408",
   "metadata": {},
   "source": [
    "### pop"
   ]
  },
  {
   "cell_type": "code",
   "execution_count": 396,
   "id": "a25c57d7",
   "metadata": {},
   "outputs": [
    {
     "name": "stdout",
     "output_type": "stream",
     "text": [
      "3\n",
      "('c', True)\n",
      "{'a': [12, 13, 14]}\n"
     ]
    }
   ],
   "source": [
    "my_list ={\n",
    "    'a':[12,13,14],\n",
    "    'b':3,\n",
    "    'c':True\n",
    "    }\n",
    "        \n",
    "print(my_list.pop('b'))\n",
    "print(my_list.popitem())\n",
    "print(my_list)"
   ]
  },
  {
   "cell_type": "markdown",
   "id": "16af56a3",
   "metadata": {},
   "source": [
    "### update"
   ]
  },
  {
   "cell_type": "code",
   "execution_count": 398,
   "id": "36f1a755",
   "metadata": {},
   "outputs": [
    {
     "name": "stdout",
     "output_type": "stream",
     "text": [
      "{'Name': 'Shahbaz', 'sex': 'Male', 'age': 25}\n"
     ]
    }
   ],
   "source": [
    "data = {\n",
    "    'Name':'Shahbaz',\n",
    "    'sex':'Male',\n",
    "    'age':21\n",
    "}\n",
    "data.update({'age': 25})\n",
    "print(data)"
   ]
  },
  {
   "cell_type": "code",
   "execution_count": 399,
   "id": "641ac103",
   "metadata": {},
   "outputs": [
    {
     "name": "stdout",
     "output_type": "stream",
     "text": [
      "{'Name': 'Shahbaz', 'sex': 'Male', 'age': 21, 'ages': 40}\n"
     ]
    }
   ],
   "source": [
    "# if we want to update but key is not found then make a new entery\n",
    "data = {\n",
    "    'Name':'Shahbaz',\n",
    "    'sex':'Male',\n",
    "    'age':21\n",
    "}\n",
    "data.update({'ages': 40})\n",
    "print(data)"
   ]
  },
  {
   "cell_type": "markdown",
   "id": "5a884856",
   "metadata": {},
   "source": [
    "### Tuple Immutable"
   ]
  },
  {
   "cell_type": "code",
   "execution_count": 400,
   "id": "822e747b",
   "metadata": {},
   "outputs": [
    {
     "name": "stdout",
     "output_type": "stream",
     "text": [
      "(1, 2, 3, 4, 5)\n"
     ]
    }
   ],
   "source": [
    "my_tup = (1,2,3,4,5)\n",
    "print(my_tup)"
   ]
  },
  {
   "cell_type": "code",
   "execution_count": 401,
   "id": "415a6681",
   "metadata": {},
   "outputs": [
    {
     "name": "stdout",
     "output_type": "stream",
     "text": [
      "3\n"
     ]
    }
   ],
   "source": [
    "my_tup = (1,2,3,4,5)\n",
    "print(my_tup[2])"
   ]
  },
  {
   "cell_type": "code",
   "execution_count": 402,
   "id": "edc57149",
   "metadata": {},
   "outputs": [
    {
     "ename": "TypeError",
     "evalue": "'tuple' object does not support item assignment",
     "output_type": "error",
     "traceback": [
      "\u001b[0;31m---------------------------------------------------------------------------\u001b[0m",
      "\u001b[0;31mTypeError\u001b[0m                                 Traceback (most recent call last)",
      "Cell \u001b[0;32mIn[402], line 2\u001b[0m\n\u001b[1;32m      1\u001b[0m my_tup \u001b[38;5;241m=\u001b[39m (\u001b[38;5;241m1\u001b[39m,\u001b[38;5;241m2\u001b[39m,\u001b[38;5;241m3\u001b[39m,\u001b[38;5;241m4\u001b[39m,\u001b[38;5;241m5\u001b[39m)\n\u001b[0;32m----> 2\u001b[0m my_tup[\u001b[38;5;241m1\u001b[39m] \u001b[38;5;241m=\u001b[39m \u001b[38;5;241m20\u001b[39m\n\u001b[1;32m      3\u001b[0m \u001b[38;5;28mprint\u001b[39m(my_tup)\n",
      "\u001b[0;31mTypeError\u001b[0m: 'tuple' object does not support item assignment"
     ]
    }
   ],
   "source": [
    "my_tup = (1,2,3,4,5)\n",
    "my_tup[1] = 20\n",
    "print(my_tup)"
   ]
  },
  {
   "cell_type": "markdown",
   "id": "64a6ff27",
   "metadata": {},
   "source": [
    "### Tuple with dictionaary"
   ]
  },
  {
   "cell_type": "code",
   "execution_count": 404,
   "id": "1c5d8d76",
   "metadata": {},
   "outputs": [
    {
     "name": "stdout",
     "output_type": "stream",
     "text": [
      "[12, 13, 14]\n"
     ]
    }
   ],
   "source": [
    "my_list ={\n",
    "    (1,2):[12,13,14],\n",
    "    'b':3,\n",
    "    'c':True\n",
    "    }\n",
    "print(my_list[(1,2)]) # here we use tuple in dict bcz tuple is immutable but not with list "
   ]
  },
  {
   "cell_type": "code",
   "execution_count": 405,
   "id": "24f303e0",
   "metadata": {},
   "outputs": [
    {
     "name": "stdout",
     "output_type": "stream",
     "text": [
      "(1, 2, 3)\n"
     ]
    }
   ],
   "source": [
    "my_tup = (1,2,3,4,5)\n",
    "print(my_tup[0:3]) # print range 0 to 3 last is exclude"
   ]
  },
  {
   "cell_type": "code",
   "execution_count": 406,
   "id": "ff54df9b",
   "metadata": {},
   "outputs": [
    {
     "name": "stdout",
     "output_type": "stream",
     "text": [
      "(2,)\n"
     ]
    }
   ],
   "source": [
    "my_tup = (1,2,3,4,5)\n",
    "print(my_tup[1:2])"
   ]
  },
  {
   "cell_type": "markdown",
   "id": "da5e279f",
   "metadata": {},
   "source": [
    "### Why , in end of 2"
   ]
  },
  {
   "cell_type": "code",
   "execution_count": null,
   "id": "3c775ff8",
   "metadata": {},
   "outputs": [],
   "source": [
    "If you were to remove the comma and write print(my_tup[1:2]) without the comma,\n",
    "it would still work as expected and produce (2) (without the comma), but it\n",
    "would be treated as an integer inside parentheses, not a tuple."
   ]
  },
  {
   "cell_type": "code",
   "execution_count": 409,
   "id": "1e89bbee",
   "metadata": {},
   "outputs": [
    {
     "name": "stdout",
     "output_type": "stream",
     "text": [
      "34\n",
      "74\n"
     ]
    }
   ],
   "source": [
    "my_tup = (34,20,45,74,59)\n",
    "x = my_tup[0]\n",
    "y = my_tup[1]\n",
    "print(my_tup[0])\n",
    "print(my_tup[3])"
   ]
  },
  {
   "cell_type": "code",
   "execution_count": 414,
   "id": "fdb66120",
   "metadata": {},
   "outputs": [
    {
     "name": "stdout",
     "output_type": "stream",
     "text": [
      "34\n",
      "20\n",
      "45\n",
      "[74, 59, 100, 495]\n"
     ]
    }
   ],
   "source": [
    "x,y,z,*other = (34,20,45,74,59,100,495)\n",
    "print(x)\n",
    "print(y)\n",
    "print(z)\n",
    "print(other)\n"
   ]
  },
  {
   "cell_type": "code",
   "execution_count": 412,
   "id": "358bcfd3",
   "metadata": {},
   "outputs": [
    {
     "name": "stdout",
     "output_type": "stream",
     "text": [
      "34\n",
      "20\n",
      "45\n",
      "[74, 59, 100]\n",
      "495\n"
     ]
    }
   ],
   "source": [
    "x,y,z,*other,d = (34,20,45,74,59,100,495)\n",
    "print(x)\n",
    "print(y)\n",
    "print(z)\n",
    "print(other)\n",
    "print(d)"
   ]
  },
  {
   "cell_type": "code",
   "execution_count": null,
   "id": "bffb54a5",
   "metadata": {},
   "outputs": [],
   "source": [
    "x, y, z, *other, d = (34, 20, 45, 74, 59, 100, 495)\n",
    "Here's how the assignment works:\n",
    "\n",
    "x, y, and z are assigned the values at the respective positions in the tuple:\n",
    "\n",
    "x gets 34\n",
    "y gets 20\n",
    "z gets 45\n",
    "\n",
    "*other is a special syntax called \"extended unpacking\" using the asterisk *.\n",
    "It collects all the values after z into a list called other. In this case,\n",
    "it collects 74, 59, and 100, and assigns them to other as a list: [74, 59, 100].\n",
    "\n",
    "Finally, d is assigned the last value in the tuple, which is 495.\n",
    "\n",
    "So, d takes the value 495 because it corresponds to the last element of the original tuple.\n",
    "\n",
    "To summarize:\n",
    "\n",
    "x, y, and z are assigned the first three values in the tuple.\n",
    "other is assigned a list containing the remaining values after z.\n",
    "d is assigned the last value in the tuple.\n",
    "This behavior is consistent with how tuple unpacking works in Python, where you can use \n",
    "the * operator to collect multiple values into a list."
   ]
  },
  {
   "cell_type": "markdown",
   "id": "08fa8404",
   "metadata": {},
   "source": [
    "## Tuple method "
   ]
  },
  {
   "cell_type": "code",
   "execution_count": null,
   "id": "52ac475c",
   "metadata": {},
   "outputs": [],
   "source": [
    "Python has two built-in methods that you can use on tuples.\n",
    "\n",
    "Method\tDescription\n",
    "count()\tReturns the number of times a specified value occurs in a tuple\n",
    "index()\tSearches the tuple for a specified value and returns the position of where it was found"
   ]
  },
  {
   "cell_type": "code",
   "execution_count": 426,
   "id": "45e46160",
   "metadata": {},
   "outputs": [
    {
     "name": "stdout",
     "output_type": "stream",
     "text": [
      "2\n"
     ]
    }
   ],
   "source": [
    "# count method return number of element occure in tuple\n",
    "x = (34,20,45,74,34,59,100,495)\n",
    "print(x.count(34))\n",
    "\n"
   ]
  },
  {
   "cell_type": "code",
   "execution_count": 428,
   "id": "f11b67fb",
   "metadata": {},
   "outputs": [
    {
     "name": "stdout",
     "output_type": "stream",
     "text": [
      "3\n"
     ]
    }
   ],
   "source": [
    "#index method return index of search element \n",
    "print(x.index(74))"
   ]
  },
  {
   "cell_type": "code",
   "execution_count": 429,
   "id": "4d81f7f2",
   "metadata": {},
   "outputs": [
    {
     "name": "stdout",
     "output_type": "stream",
     "text": [
      "0\n"
     ]
    }
   ],
   "source": [
    "x = (34,20,45,74,34,59,100,495)\n",
    "print(x.index(34)) # it return first element index if found in multiple element in tuple "
   ]
  },
  {
   "cell_type": "markdown",
   "id": "b2fb89a1",
   "metadata": {},
   "source": [
    "# Set"
   ]
  },
  {
   "cell_type": "markdown",
   "id": "6af891c3",
   "metadata": {},
   "source": [
    "Set Items :- Set items are unordered, unchangeable, and do not allow duplicate values.\n",
    "\n",
    "Unordered :- Unordered means that the items in a set do not have a defined order.\n",
    "\n",
    "Set items can appear in a different order every time you use them, and cannot be referred to by index or key.\n",
    "\n",
    "Unchangeable :- Set items are unchangeable, meaning that we cannot change the items after the set has been created."
   ]
  },
  {
   "cell_type": "code",
   "execution_count": 430,
   "id": "72254497",
   "metadata": {},
   "outputs": [
    {
     "name": "stdout",
     "output_type": "stream",
     "text": [
      "{1, 2, 3}\n"
     ]
    }
   ],
   "source": [
    "my_set = {1,2,3}\n",
    "print(my_set)"
   ]
  },
  {
   "cell_type": "code",
   "execution_count": 431,
   "id": "d7c137c7",
   "metadata": {},
   "outputs": [
    {
     "ename": "TypeError",
     "evalue": "'set' object is not subscriptable",
     "output_type": "error",
     "traceback": [
      "\u001b[0;31m---------------------------------------------------------------------------\u001b[0m",
      "\u001b[0;31mTypeError\u001b[0m                                 Traceback (most recent call last)",
      "Cell \u001b[0;32mIn[431], line 2\u001b[0m\n\u001b[1;32m      1\u001b[0m my_set \u001b[38;5;241m=\u001b[39m {\u001b[38;5;241m1\u001b[39m,\u001b[38;5;241m2\u001b[39m,\u001b[38;5;241m3\u001b[39m}\n\u001b[0;32m----> 2\u001b[0m \u001b[38;5;28mprint\u001b[39m(my_set[\u001b[38;5;241m0\u001b[39m])\n",
      "\u001b[0;31mTypeError\u001b[0m: 'set' object is not subscriptable"
     ]
    }
   ],
   "source": [
    "my_set = {1,2,3}\n",
    "print(my_set[0]) # can't access by index"
   ]
  },
  {
   "cell_type": "code",
   "execution_count": 434,
   "id": "1cdb8f88",
   "metadata": {},
   "outputs": [
    {
     "name": "stdout",
     "output_type": "stream",
     "text": [
      "{10, 1, 2, 3}\n"
     ]
    }
   ],
   "source": [
    "my_set = {1,2,3}\n",
    "my_set.add(10)\n",
    "my_set.add(2) # can't add duplicate item in set\n",
    "\n",
    "print(my_set)"
   ]
  },
  {
   "cell_type": "markdown",
   "id": "1216d47b",
   "metadata": {},
   "source": [
    "### List with Set "
   ]
  },
  {
   "cell_type": "code",
   "execution_count": 435,
   "id": "7c2a68b2",
   "metadata": {},
   "outputs": [
    {
     "name": "stdout",
     "output_type": "stream",
     "text": [
      "{1, 2, 3, 4, 5, 7, 9}\n"
     ]
    }
   ],
   "source": [
    "my_list = [1,2,3,4,4,4,4,5,7,7,7,9]\n",
    "x = set(my_list) # here set remove all duplicate value from list and take a set\n",
    "print(x)"
   ]
  },
  {
   "cell_type": "code",
   "execution_count": 443,
   "id": "c2d5a9f0",
   "metadata": {},
   "outputs": [
    {
     "name": "stdout",
     "output_type": "stream",
     "text": [
      "[10, 1, 2, 3]\n"
     ]
    }
   ],
   "source": [
    "new_list = list(my_set) # here we convert set to list\n",
    "print(new_list)"
   ]
  },
  {
   "cell_type": "code",
   "execution_count": 436,
   "id": "8adbc5d4",
   "metadata": {},
   "outputs": [
    {
     "name": "stdout",
     "output_type": "stream",
     "text": [
      "True\n"
     ]
    }
   ],
   "source": [
    "print(2 in my_set)"
   ]
  },
  {
   "cell_type": "code",
   "execution_count": 442,
   "id": "e67c289f",
   "metadata": {},
   "outputs": [
    {
     "name": "stdout",
     "output_type": "stream",
     "text": [
      "3\n"
     ]
    }
   ],
   "source": [
    "new_set ={1,2,3,3,3,3,}\n",
    "print(len(new_set)) # it return only unique value count"
   ]
  },
  {
   "cell_type": "code",
   "execution_count": 445,
   "id": "e1247f58",
   "metadata": {},
   "outputs": [
    {
     "name": "stdout",
     "output_type": "stream",
     "text": [
      "{1, 2, 3, 4, 5}\n"
     ]
    }
   ],
   "source": [
    "old_set = {1,2,3,4,5,5}\n",
    "new_set = old_set.copy()\n",
    "print(new_set)"
   ]
  },
  {
   "cell_type": "code",
   "execution_count": 446,
   "id": "9410e860",
   "metadata": {},
   "outputs": [
    {
     "name": "stdout",
     "output_type": "stream",
     "text": [
      "None\n",
      "set()\n"
     ]
    }
   ],
   "source": [
    "old_set = {1,2,3,4,5,5}\n",
    "new_set = old_set.clear()\n",
    "print(new_set)\n",
    "print(old_set)"
   ]
  },
  {
   "cell_type": "markdown",
   "id": "f6b2ae3c",
   "metadata": {},
   "source": [
    "## Set Method "
   ]
  },
  {
   "cell_type": "code",
   "execution_count": null,
   "id": "517fabd4",
   "metadata": {},
   "outputs": [],
   "source": [
    "Set Methods\n",
    "Python has a set of built-in methods that you can use on sets.\n",
    "\n",
    "Method\tDescription\n",
    "add()\tAdds an element to the set\n",
    "clear()\tRemoves all the elements from the set\n",
    "copy()\tReturns a copy of the set\n",
    "difference()\tReturns a set containing the difference between two or more sets\n",
    "difference_update()\tRemoves the items in this set that are also included in another, specified set\n",
    "discard()\tRemove the specified item\n",
    "intersection()\tReturns a set, that is the intersection of two other sets\n",
    "intersection_update()\tRemoves the items in this set that are not present in other, specified set(s)\n",
    "isdisjoint()\tReturns whether two sets have a intersection or not\n",
    "issubset()\tReturns whether another set contains this set or not\n",
    "issuperset()\tReturns whether this set contains another set or not\n",
    "pop()\tRemoves an element from the set\n",
    "remove()\tRemoves the specified element\n",
    "symmetric_difference()\tReturns a set with the symmetric differences of two sets\n",
    "symmetric_difference_update()\tinserts the symmetric differences from this set and another\n",
    "union()\tReturn a set containing the union of sets\n",
    "update()\tUpdate the set with the union of this set and others"
   ]
  },
  {
   "cell_type": "code",
   "execution_count": 456,
   "id": "c8af22f1",
   "metadata": {},
   "outputs": [
    {
     "name": "stdout",
     "output_type": "stream",
     "text": [
      "{1, 2, 3}\n",
      "{1, 2, 3, 4, 5}\n"
     ]
    }
   ],
   "source": [
    "#difference()\n",
    "my_set = {1,2,3,4,5}\n",
    "your_set = {4,5,6,7,8,9}\n",
    "print(my_set.difference(your_set))\n",
    "print(my_set) # my_set is not modified\n",
    "\n"
   ]
  },
  {
   "cell_type": "code",
   "execution_count": 455,
   "id": "5c875980",
   "metadata": {},
   "outputs": [
    {
     "name": "stdout",
     "output_type": "stream",
     "text": [
      "{1, 2, 3}\n"
     ]
    }
   ],
   "source": [
    "#difference_update()\n",
    "my_set = {1,2,3,4,5}\n",
    "your_set = {4,5,6,7,8,9}\n",
    "my_set.difference_update(your_set)#difference_update =>it remove my_set element present in your_set\n",
    "print(my_set)"
   ]
  },
  {
   "cell_type": "code",
   "execution_count": 469,
   "id": "e9e8cc12",
   "metadata": {},
   "outputs": [
    {
     "name": "stdout",
     "output_type": "stream",
     "text": [
      "{1, 2, 3, 4, 5, 6, 7, 8, 9}\n",
      "{1, 2, 3, 4, 5, 6, 7, 8, 9}\n"
     ]
    }
   ],
   "source": [
    "#union\n",
    "my_set = {1,2,3,4,5}\n",
    "your_set = {4,5,6,7,8,9}\n",
    "print(my_set.union(your_set))\n",
    "print(my_set |(your_set))"
   ]
  },
  {
   "cell_type": "code",
   "execution_count": 470,
   "id": "64bcf128",
   "metadata": {},
   "outputs": [
    {
     "name": "stdout",
     "output_type": "stream",
     "text": [
      "{4, 5}\n",
      "{4, 5}\n"
     ]
    }
   ],
   "source": [
    "#intersection\n",
    "my_set = {1,2,3,4,5}\n",
    "your_set = {4,5,6,7,8,9}\n",
    "print(my_set.intersection(your_set))\n",
    "print(my_set & (your_set))"
   ]
  },
  {
   "cell_type": "code",
   "execution_count": 460,
   "id": "6bd6dc69",
   "metadata": {},
   "outputs": [
    {
     "name": "stdout",
     "output_type": "stream",
     "text": [
      "{'apple', 'cherry'}\n"
     ]
    }
   ],
   "source": [
    "#discard\n",
    "thisset = {\"apple\", \"banana\", \"cherry\"}\n",
    "\n",
    "thisset.discard(\"banana\")\n",
    "\n",
    "print(thisset)"
   ]
  },
  {
   "cell_type": "code",
   "execution_count": 462,
   "id": "db56c149",
   "metadata": {},
   "outputs": [
    {
     "name": "stdout",
     "output_type": "stream",
     "text": [
      "True\n"
     ]
    }
   ],
   "source": [
    "#issubset\n",
    "my_set = {4,5}\n",
    "your_set = {4,5,6,7,8,9}\n",
    "print(my_set.issubset(your_set))"
   ]
  },
  {
   "cell_type": "code",
   "execution_count": 464,
   "id": "ff876c65",
   "metadata": {},
   "outputs": [
    {
     "name": "stdout",
     "output_type": "stream",
     "text": [
      "True\n"
     ]
    }
   ],
   "source": [
    "#issuperset\n",
    "your_set = {4,5,6,7,8,9}\n",
    "my_set = {4,5}\n",
    "print(your_set.issuperset(my_set))\n",
    "#The issuperset() method returns True if all items in the specified set exists \n",
    "#in the original set, otherwise it returns False."
   ]
  },
  {
   "cell_type": "code",
   "execution_count": 468,
   "id": "c102fc94",
   "metadata": {},
   "outputs": [
    {
     "name": "stdout",
     "output_type": "stream",
     "text": [
      "True\n"
     ]
    }
   ],
   "source": [
    "#isdisjoint\n",
    "#Return True if no items in set x is present in set y:\n",
    "\n",
    "x = {\"apple\", \"banana\", \"cherry\"}\n",
    "y = {\"google\", \"microsoft\", \"facebook\"}\n",
    "\n",
    "z = x.isdisjoint(y)\n",
    "\n",
    "print(z)"
   ]
  },
  {
   "cell_type": "markdown",
   "id": "4b103905",
   "metadata": {},
   "source": [
    "# Here Data Type is completed"
   ]
  },
  {
   "cell_type": "markdown",
   "id": "112190db",
   "metadata": {},
   "source": [
    "## If else"
   ]
  },
  {
   "cell_type": "code",
   "execution_count": 476,
   "id": "fb9c23d8",
   "metadata": {},
   "outputs": [
    {
     "name": "stdout",
     "output_type": "stream",
     "text": [
      "Enter the value of A 34\n",
      "Enter the value of B 1\n",
      "A is greater\n"
     ]
    }
   ],
   "source": [
    "a = int(input(\"Enter the value of A \"))\n",
    "b = int(input(\"Enter the value of B \"))\n",
    "\n",
    "if a>b:\n",
    "    print(\"A is greater\")\n",
    "else:\n",
    "    print(\"B is greater\")"
   ]
  },
  {
   "cell_type": "markdown",
   "id": "2c1c8101",
   "metadata": {},
   "source": [
    "## elif "
   ]
  },
  {
   "cell_type": "code",
   "execution_count": 484,
   "id": "b08ef4fa",
   "metadata": {},
   "outputs": [
    {
     "name": "stdout",
     "output_type": "stream",
     "text": [
      "Enter the value of A greater than 1 : 98\n",
      "Range of A is 51 To 100\n"
     ]
    }
   ],
   "source": [
    "a = int(input(\"Enter the value of A greater than 1 : \"))\n",
    "\n",
    "\n",
    "if a>1 and a<50:\n",
    "    print(\"Range of A is 1 To 49\")\n",
    "elif a==50:\n",
    "    print(\"A is 50\")\n",
    "else:\n",
    "    print(\"Range of A is 51 To 100\")"
   ]
  },
  {
   "cell_type": "markdown",
   "id": "3755671d",
   "metadata": {},
   "source": [
    "### Ternary Operator"
   ]
  },
  {
   "cell_type": "code",
   "execution_count": 486,
   "id": "2cd79538",
   "metadata": {},
   "outputs": [
    {
     "name": "stdout",
     "output_type": "stream",
     "text": [
      "20\n"
     ]
    }
   ],
   "source": [
    "#Syntax: [on_true] if [expression] else [on_false]\n",
    "a = 10\n",
    "b = 20\n",
    "val = a if a<b else b\n",
    "print(val)"
   ]
  },
  {
   "cell_type": "markdown",
   "id": "de095ab9",
   "metadata": {},
   "source": [
    "### Shorrt Circuiting"
   ]
  },
  {
   "cell_type": "code",
   "execution_count": 488,
   "id": "cbcfe828",
   "metadata": {},
   "outputs": [
    {
     "name": "stdout",
     "output_type": "stream",
     "text": [
      "Best frnd\n"
     ]
    }
   ],
   "source": [
    "#and \n",
    "is_frnd = True\n",
    "is_admin = True\n",
    "if is_frnd and is_admin:\n",
    "    print(\"Best frnd\")"
   ]
  },
  {
   "cell_type": "code",
   "execution_count": 492,
   "id": "7689d856",
   "metadata": {},
   "outputs": [
    {
     "name": "stdout",
     "output_type": "stream",
     "text": [
      "Best frnd\n"
     ]
    }
   ],
   "source": [
    "#or \n",
    "is_frnd = True\n",
    "is_admin = False\n",
    "if is_frnd or is_admin:\n",
    "    print(\"Best frnd\")"
   ]
  },
  {
   "cell_type": "markdown",
   "id": "db892ecc",
   "metadata": {},
   "source": [
    "### == vs is"
   ]
  },
  {
   "cell_type": "code",
   "execution_count": null,
   "id": "311aba03",
   "metadata": {},
   "outputs": [],
   "source": [
    "is checks if two things are the exact same object in computer memory. \n",
    "It's like asking if two people are literally the same person.\n",
    "\n",
    "== checks if two things have the same content or value.\n",
    "It's like comparing two books to see if they have the \n",
    "same story inside, even if they are different physical books.\n",
    "\n",
    "Example:\n",
    "\n",
    "is would be like checking if two names point to the exact same person.\n",
    "== would be like checking if two names refer to people with the same \n",
    "name, even if they are different individuals.\n",
    "So, when you want to see if things are the same object in memory,\n",
    "use is. When you want to see if things have the same value or content, use ==."
   ]
  },
  {
   "cell_type": "code",
   "execution_count": 495,
   "id": "b797d650",
   "metadata": {},
   "outputs": [
    {
     "name": "stdout",
     "output_type": "stream",
     "text": [
      "True\n",
      "False\n",
      "True\n",
      "True\n",
      "True\n"
     ]
    }
   ],
   "source": [
    "print(True == 1)\n",
    "print('1' == 1)\n",
    "print([] == [])\n",
    "print(10 == 10.0)\n",
    "print([1,2,3] ==[1,2,3])"
   ]
  },
  {
   "cell_type": "code",
   "execution_count": 497,
   "id": "9da6c779",
   "metadata": {},
   "outputs": [
    {
     "name": "stdout",
     "output_type": "stream",
     "text": [
      "False\n",
      "False\n",
      "True\n",
      "False\n",
      "False\n",
      "False\n"
     ]
    },
    {
     "name": "stderr",
     "output_type": "stream",
     "text": [
      "<>:1: SyntaxWarning: \"is\" with a literal. Did you mean \"==\"?\n",
      "<>:2: SyntaxWarning: \"is\" with a literal. Did you mean \"==\"?\n",
      "<>:3: SyntaxWarning: \"is\" with a literal. Did you mean \"==\"?\n",
      "<>:5: SyntaxWarning: \"is\" with a literal. Did you mean \"==\"?\n",
      "<>:1: SyntaxWarning: \"is\" with a literal. Did you mean \"==\"?\n",
      "<>:2: SyntaxWarning: \"is\" with a literal. Did you mean \"==\"?\n",
      "<>:3: SyntaxWarning: \"is\" with a literal. Did you mean \"==\"?\n",
      "<>:5: SyntaxWarning: \"is\" with a literal. Did you mean \"==\"?\n",
      "/var/folders/8l/d7tzn3zn5yxdpkvh0w57hqxw0000gn/T/ipykernel_55445/1820614597.py:1: SyntaxWarning: \"is\" with a literal. Did you mean \"==\"?\n",
      "  print(True is 1)\n",
      "/var/folders/8l/d7tzn3zn5yxdpkvh0w57hqxw0000gn/T/ipykernel_55445/1820614597.py:2: SyntaxWarning: \"is\" with a literal. Did you mean \"==\"?\n",
      "  print('1' is 1)\n",
      "/var/folders/8l/d7tzn3zn5yxdpkvh0w57hqxw0000gn/T/ipykernel_55445/1820614597.py:3: SyntaxWarning: \"is\" with a literal. Did you mean \"==\"?\n",
      "  print(1 is 1)\n",
      "/var/folders/8l/d7tzn3zn5yxdpkvh0w57hqxw0000gn/T/ipykernel_55445/1820614597.py:5: SyntaxWarning: \"is\" with a literal. Did you mean \"==\"?\n",
      "  print(10 is 10.0)\n"
     ]
    }
   ],
   "source": [
    "print(True is 1)\n",
    "print('1' is 1)\n",
    "print(1 is 1)\n",
    "print([] is [])\n",
    "print(10 is 10.0)\n",
    "print([1,2,3] is [1,2,3])"
   ]
  },
  {
   "cell_type": "code",
   "execution_count": 498,
   "id": "1e84d623",
   "metadata": {},
   "outputs": [
    {
     "name": "stdout",
     "output_type": "stream",
     "text": [
      "True\n",
      "False\n"
     ]
    }
   ],
   "source": [
    "x = [1, 2, 3]\n",
    "y = x  # Both x and y point to the same list object in memory\n",
    "z = [1, 2, 3]  # z is a different list object with the same content\n",
    "\n",
    "print(x is y)  # True\n",
    "print(x is z)  # False"
   ]
  },
  {
   "cell_type": "code",
   "execution_count": 499,
   "id": "b4f69cfb",
   "metadata": {},
   "outputs": [
    {
     "name": "stdout",
     "output_type": "stream",
     "text": [
      "True\n"
     ]
    }
   ],
   "source": [
    "a = [1, 2, 3]\n",
    "b = [1, 2, 3]\n",
    "\n",
    "print(a == b)  # True, because both lists have the same content"
   ]
  },
  {
   "cell_type": "code",
   "execution_count": 504,
   "id": "c1fb2639",
   "metadata": {},
   "outputs": [
    {
     "name": "stdout",
     "output_type": "stream",
     "text": [
      "1\n",
      "2\n",
      "3\n",
      "4\n"
     ]
    }
   ],
   "source": [
    "# set\n",
    "for i in {1,2,3,4}:\n",
    "    print(i)\n"
   ]
  },
  {
   "cell_type": "code",
   "execution_count": 505,
   "id": "5ba5ffa5",
   "metadata": {},
   "outputs": [
    {
     "name": "stdout",
     "output_type": "stream",
     "text": [
      "1\n",
      "2\n",
      "3\n",
      "4\n"
     ]
    }
   ],
   "source": [
    "#list\n",
    "for i in [1,2,3,4]:\n",
    "    print(i)\n"
   ]
  },
  {
   "cell_type": "code",
   "execution_count": 508,
   "id": "2d6ead2e",
   "metadata": {},
   "outputs": [
    {
     "name": "stdout",
     "output_type": "stream",
     "text": [
      "('Name', 'Shahbaz')\n",
      "('Age', 21)\n",
      "('Married', 'Single')\n"
     ]
    }
   ],
   "source": [
    "#dict\n",
    "user = {\n",
    "    'Name':\"Shahbaz\",\n",
    "    'Age': 21,\n",
    "    'Married':\"Single\"\n",
    "}\n",
    "for i in user.items():\n",
    "    print(i)\n"
   ]
  },
  {
   "cell_type": "code",
   "execution_count": 511,
   "id": "764d1da1",
   "metadata": {},
   "outputs": [
    {
     "name": "stdout",
     "output_type": "stream",
     "text": [
      "Name\n",
      "Age\n",
      "Married\n"
     ]
    }
   ],
   "source": [
    "#dict\n",
    "user = {\n",
    "    'Name':\"Shahbaz\",\n",
    "    'Age': 21,\n",
    "    'Married':\"Single\"\n",
    "}\n",
    "for i in user.keys():\n",
    "    print(i)\n"
   ]
  },
  {
   "cell_type": "code",
   "execution_count": 513,
   "id": "5a851197",
   "metadata": {},
   "outputs": [
    {
     "name": "stdout",
     "output_type": "stream",
     "text": [
      "Shahbaz\n",
      "21\n",
      "Single\n"
     ]
    }
   ],
   "source": [
    "#dict\n",
    "user = {\n",
    "    'Name':\"Shahbaz\",\n",
    "    'Age': 21,\n",
    "    'Married':\"Single\"\n",
    "}\n",
    "for i in user.values():\n",
    "    print(i)\n"
   ]
  },
  {
   "cell_type": "code",
   "execution_count": 518,
   "id": "2ccadd1a",
   "metadata": {},
   "outputs": [
    {
     "name": "stdout",
     "output_type": "stream",
     "text": [
      "Name Shahbaz\n",
      "Age 21\n",
      "Married Single\n"
     ]
    }
   ],
   "source": [
    "#dict\n",
    "user = {\n",
    "    'Name':\"Shahbaz\",\n",
    "    'Age': 21,\n",
    "    'Married':\"Single\"\n",
    "}\n",
    "for i in user.items():\n",
    "    key,val = i\n",
    "    print(key,val)\n"
   ]
  },
  {
   "cell_type": "code",
   "execution_count": 514,
   "id": "d70e73b7",
   "metadata": {},
   "outputs": [
    {
     "name": "stdout",
     "output_type": "stream",
     "text": [
      "Name Shahbaz\n",
      "Age 21\n",
      "Married Single\n"
     ]
    }
   ],
   "source": [
    "#dict\n",
    "user = {\n",
    "    'Name':\"Shahbaz\",\n",
    "    'Age': 21,\n",
    "    'Married':\"Single\"\n",
    "}\n",
    "for key,val in user.items():\n",
    "    print(key,val)\n"
   ]
  },
  {
   "cell_type": "code",
   "execution_count": 519,
   "id": "cce4bb82",
   "metadata": {},
   "outputs": [
    {
     "name": "stdout",
     "output_type": "stream",
     "text": [
      "55\n"
     ]
    }
   ],
   "source": [
    "my_list = [1,2,3,4,5,6,7,8,9,10]\n",
    "sum = 0\n",
    "for i in my_list:\n",
    "    sum += i;\n",
    "print(sum)    "
   ]
  },
  {
   "cell_type": "markdown",
   "id": "0cb45ebd",
   "metadata": {},
   "source": [
    "# Range "
   ]
  },
  {
   "cell_type": "code",
   "execution_count": 522,
   "id": "28bce213",
   "metadata": {},
   "outputs": [
    {
     "name": "stdout",
     "output_type": "stream",
     "text": [
      "range(0, 100)\n"
     ]
    }
   ],
   "source": [
    "print(range(100))"
   ]
  },
  {
   "cell_type": "code",
   "execution_count": 523,
   "id": "eb4c1a0d",
   "metadata": {},
   "outputs": [
    {
     "name": "stdout",
     "output_type": "stream",
     "text": [
      "range(0, 100)\n"
     ]
    }
   ],
   "source": [
    "print(range(0,100))"
   ]
  },
  {
   "cell_type": "code",
   "execution_count": 524,
   "id": "8530d97c",
   "metadata": {},
   "outputs": [
    {
     "name": "stdout",
     "output_type": "stream",
     "text": [
      "0\n",
      "1\n",
      "2\n",
      "3\n",
      "4\n",
      "5\n",
      "6\n",
      "7\n",
      "8\n",
      "9\n"
     ]
    }
   ],
   "source": [
    "for i in range(0,10):\n",
    "    print(i)"
   ]
  },
  {
   "cell_type": "code",
   "execution_count": 525,
   "id": "fc9e134e",
   "metadata": {},
   "outputs": [
    {
     "name": "stdout",
     "output_type": "stream",
     "text": [
      "5\n",
      "6\n",
      "7\n",
      "8\n",
      "9\n"
     ]
    }
   ],
   "source": [
    "for i in range(5,10):\n",
    "    print(i)"
   ]
  },
  {
   "cell_type": "code",
   "execution_count": 526,
   "id": "6ffdfb3f",
   "metadata": {},
   "outputs": [
    {
     "name": "stdout",
     "output_type": "stream",
     "text": [
      "0\n",
      "2\n",
      "4\n",
      "6\n",
      "8\n"
     ]
    }
   ],
   "source": [
    "for i in range(0,10,2): \n",
    "    print(i)"
   ]
  },
  {
   "cell_type": "code",
   "execution_count": 529,
   "id": "1dd4b6d2",
   "metadata": {},
   "outputs": [
    {
     "name": "stdout",
     "output_type": "stream",
     "text": [
      "[0, 1, 2, 3, 4]\n",
      "[0, 1, 2, 3, 4]\n"
     ]
    }
   ],
   "source": [
    "for i in range(2):\n",
    "    print(list(range(5)))"
   ]
  },
  {
   "cell_type": "code",
   "execution_count": null,
   "id": "26001b81",
   "metadata": {},
   "outputs": [],
   "source": [
    "The difference you're seeing between print(range(100)) and the for loop is due to how Python\n",
    "handles iterators, specifically the range function.\n",
    "\n",
    "print(range(100)):\n",
    "\n",
    "When you use print(range(100)), it doesn't actually print all the numbers from 0 to 99.\n",
    "Instead, it prints a representation of the range object itself, which is a special kind\n",
    "of iterable in Python. The range object represents a sequence of numbers, but it doesn't\n",
    "generate or store all those numbers in memory at once. It generates them on the fly as \n",
    "you iterate through it.\n",
    "\n",
    "So, print(range(100)) shows you that it's a range starting from 0 and ending at 99, but\n",
    "it doesn't list all the numbers because that would be memory-intensive.\n",
    "\n",
    "for loop with list(range(5)):\n",
    "\n",
    "In the for loop, when you convert range(5) to a list using list(range(5)), you are\n",
    "explicitly asking Python to generate all the numbers from 0 to 4 and create a list \n",
    "containing those numbers. It generates and prints the entire list [0, 1, 2, 3, 4] \n",
    "because you asked for it.\n",
    "\n",
    "In summary, the difference is in how the range object is represented and processed.\n",
    "When you use print(range(100)), it doesn't generate all the numbers at once for \n",
    "efficiency reasons, but in the for loop, you explicitly convert it to a list, which\n",
    "generates and prints all the numbers in that range."
   ]
  },
  {
   "cell_type": "markdown",
   "id": "49eb2180",
   "metadata": {},
   "source": [
    "### enumerator"
   ]
  },
  {
   "cell_type": "code",
   "execution_count": 534,
   "id": "72ba3986",
   "metadata": {},
   "outputs": [
    {
     "name": "stdout",
     "output_type": "stream",
     "text": [
      "0 20\n",
      "1 21\n",
      "2 22\n",
      "3 23\n",
      "4 24\n"
     ]
    }
   ],
   "source": [
    "for index,value in enumerate(range(20,25)):\n",
    "    print(index,value)"
   ]
  },
  {
   "cell_type": "code",
   "execution_count": 541,
   "id": "20900677",
   "metadata": {},
   "outputs": [
    {
     "name": "stdout",
     "output_type": "stream",
     "text": [
      "index is 10 value is 50\n"
     ]
    }
   ],
   "source": [
    "for index,value in enumerate(range(40,100)):\n",
    "    if(value ==50):\n",
    "        print('index is',index,'value is',value)"
   ]
  },
  {
   "cell_type": "code",
   "execution_count": 543,
   "id": "526dbb94",
   "metadata": {},
   "outputs": [],
   "source": [
    "while False:\n",
    "    print('s')"
   ]
  },
  {
   "cell_type": "code",
   "execution_count": 564,
   "id": "5e845388",
   "metadata": {},
   "outputs": [
    {
     "name": "stdout",
     "output_type": "stream",
     "text": [
      "['a', 'b']\n"
     ]
    }
   ],
   "source": [
    "data = ['a','b','c','d','b','a','a','b']\n",
    "dupt = []\n",
    "for i in data:\n",
    "    if data.count(i)>1:\n",
    "        if i not in dupt:\n",
    "            dupt.append(i)\n",
    "print(dupt)"
   ]
  },
  {
   "cell_type": "markdown",
   "id": "06bccc1d",
   "metadata": {},
   "source": [
    "# Function "
   ]
  },
  {
   "cell_type": "code",
   "execution_count": 568,
   "id": "4bd1069f",
   "metadata": {},
   "outputs": [],
   "source": [
    "def say_hello():\n",
    "    print(\"Shahbaz Welcome\")\n",
    "    "
   ]
  },
  {
   "cell_type": "code",
   "execution_count": 569,
   "id": "13981446",
   "metadata": {},
   "outputs": [
    {
     "name": "stdout",
     "output_type": "stream",
     "text": [
      "Shahbaz Welcome\n"
     ]
    }
   ],
   "source": [
    "def say_hello():\n",
    "    print(\"Shahbaz Welcome\")\n",
    "say_hello()    "
   ]
  },
  {
   "cell_type": "code",
   "execution_count": 570,
   "id": "b809c255",
   "metadata": {},
   "outputs": [
    {
     "name": "stdout",
     "output_type": "stream",
     "text": [
      "Hi Shahbaz your age is 21\n"
     ]
    }
   ],
   "source": [
    "#parameterized and argumented function\n",
    "def say_hello(name, age): #parameter\n",
    "    print(f'Hi {name} your age is {age}')\n",
    "    \n",
    "say_hello(\"Shahbaz\",21)    \n"
   ]
  },
  {
   "cell_type": "code",
   "execution_count": 571,
   "id": "15236073",
   "metadata": {},
   "outputs": [
    {
     "name": "stdout",
     "output_type": "stream",
     "text": [
      "Hi Shahbaz your age is 23\n"
     ]
    }
   ],
   "source": [
    "#parameterized and argumented function\n",
    "def say_hello(name, age): #parameter\n",
    "    print(f'Hi {name} your age is {age}')\n",
    "    \n",
    "say_hello(name = \"Shahbaz\",age = 23)    \n"
   ]
  },
  {
   "cell_type": "code",
   "execution_count": 572,
   "id": "e1bae73c",
   "metadata": {},
   "outputs": [
    {
     "name": "stdout",
     "output_type": "stream",
     "text": [
      "Hi 21 your age is Shahbaz\n"
     ]
    }
   ],
   "source": [
    "#positional argumented function\n",
    "def say_hello(name, age): #parameter\n",
    "    print(f'Hi {name} your age is {age}')\n",
    "\n",
    "say_hello(21,\"Shahbaz\")    \n"
   ]
  },
  {
   "cell_type": "code",
   "execution_count": 575,
   "id": "fae450f4",
   "metadata": {},
   "outputs": [
    {
     "name": "stdout",
     "output_type": "stream",
     "text": [
      "Hi Yami your age is 29\n"
     ]
    }
   ],
   "source": [
    "# Default argumented function\n",
    "def say_hello(name=\"Yami\", age = 29): #parameter\n",
    "    print(f'Hi {name} your age is {age}')\n",
    "    \n",
    "say_hello()    \n"
   ]
  },
  {
   "cell_type": "code",
   "execution_count": 576,
   "id": "b0d35a3a",
   "metadata": {},
   "outputs": [
    {
     "name": "stdout",
     "output_type": "stream",
     "text": [
      "Hi Arbaz your age is 29\n"
     ]
    }
   ],
   "source": [
    "# Default argumented function\n",
    "def say_hello(name=\"Yami\", age = 29): #parameter\n",
    "    print(f'Hi {name} your age is {age}')\n",
    "    \n",
    "say_hello('Arbaz')    \n"
   ]
  },
  {
   "cell_type": "code",
   "execution_count": 579,
   "id": "2e04fab0",
   "metadata": {},
   "outputs": [
    {
     "name": "stdout",
     "output_type": "stream",
     "text": [
      "Hi 29 your age is 29\n"
     ]
    }
   ],
   "source": [
    "# Default argumented function\n",
    "def say_hello(name=\"Yami\", age = '29'): #parameter\n",
    "    print(f'Hi {name} your age is {age}')\n",
    "    \n",
    "say_hello(29)    \n"
   ]
  },
  {
   "cell_type": "code",
   "execution_count": 583,
   "id": "e0fd9cf8",
   "metadata": {},
   "outputs": [],
   "source": [
    "def sum(n1,n2):\n",
    "     n1+n2\n",
    "sum(2,3)    "
   ]
  },
  {
   "cell_type": "code",
   "execution_count": 584,
   "id": "d44cafdf",
   "metadata": {},
   "outputs": [
    {
     "name": "stdout",
     "output_type": "stream",
     "text": [
      "5\n"
     ]
    }
   ],
   "source": [
    "def sum(n1,n2):\n",
    "    print( n1+n2)\n",
    "sum(2,3)    "
   ]
  },
  {
   "cell_type": "code",
   "execution_count": 586,
   "id": "afa9dcbf",
   "metadata": {},
   "outputs": [
    {
     "data": {
      "text/plain": [
       "5"
      ]
     },
     "execution_count": 586,
     "metadata": {},
     "output_type": "execute_result"
    }
   ],
   "source": [
    "def sum(n1,n2):\n",
    "    return  n1+n2\n",
    "sum(2,3)    "
   ]
  },
  {
   "cell_type": "code",
   "execution_count": 588,
   "id": "7564de6c",
   "metadata": {},
   "outputs": [
    {
     "name": "stdout",
     "output_type": "stream",
     "text": [
      "5\n"
     ]
    }
   ],
   "source": [
    "def sum(n1,n2):\n",
    "     return n1+n2\n",
    "print(sum(2,3))  "
   ]
  },
  {
   "cell_type": "code",
   "execution_count": 589,
   "id": "a780f99c",
   "metadata": {},
   "outputs": [
    {
     "name": "stdout",
     "output_type": "stream",
     "text": [
      "15\n"
     ]
    }
   ],
   "source": [
    "def sum(n1,n2):\n",
    "    return  n1+n2\n",
    "\n",
    "total = sum(2,3)\n",
    "print(sum(10,total))"
   ]
  },
  {
   "cell_type": "markdown",
   "id": "aa6e9b77",
   "metadata": {},
   "source": [
    "### Docstring "
   ]
  },
  {
   "cell_type": "code",
   "execution_count": 596,
   "id": "bd447d2a",
   "metadata": {},
   "outputs": [
    {
     "name": "stdout",
     "output_type": "stream",
     "text": [
      "Help on function test in module __main__:\n",
      "\n",
      "test(a)\n",
      "    This function test how car engine works\n",
      "\n",
      "\n",
      "     This function test how car engine works \n",
      "    \n"
     ]
    }
   ],
   "source": [
    "def test(a):\n",
    "    '''\n",
    "     This function test how car engine works \n",
    "    '''\n",
    "    print(a)\n",
    "\n",
    "    \n",
    "    # These both below line gives what this functio works\n",
    "help(test)\n",
    "print(test.__doc__)"
   ]
  },
  {
   "cell_type": "markdown",
   "id": "c7186b6c",
   "metadata": {},
   "source": [
    "## Walrus Operator  { n := }"
   ]
  },
  {
   "cell_type": "code",
   "execution_count": 599,
   "id": "16b5f81a",
   "metadata": {},
   "outputs": [
    {
     "name": "stdout",
     "output_type": "stream",
     "text": [
      "Your string length is 15\n"
     ]
    }
   ],
   "source": [
    "# here not use Walrus Operator\n",
    "data = 'heloooooooooooo'\n",
    "if len(data) > 10:\n",
    "    print(f\"Your string length is {(len(data))}\")"
   ]
  },
  {
   "cell_type": "code",
   "execution_count": 600,
   "id": "a9363481",
   "metadata": {},
   "outputs": [
    {
     "name": "stdout",
     "output_type": "stream",
     "text": [
      "Your string length is 15\n"
     ]
    }
   ],
   "source": [
    "# here use Walrus Operator\n",
    "data = 'heloooooooooooo'\n",
    "if (n:=len(data)) > 10:\n",
    "    print(f\"Your string length is {n}\")"
   ]
  },
  {
   "cell_type": "code",
   "execution_count": 601,
   "id": "3abeb75a",
   "metadata": {},
   "outputs": [
    {
     "name": "stdout",
     "output_type": "stream",
     "text": [
      "5\n",
      "5\n"
     ]
    }
   ],
   "source": [
    "print(5)\n",
    "print(int(5))"
   ]
  },
  {
   "cell_type": "code",
   "execution_count": 603,
   "id": "f4b3b5e0",
   "metadata": {},
   "outputs": [
    {
     "name": "stdout",
     "output_type": "stream",
     "text": [
      "h\n"
     ]
    }
   ],
   "source": [
    "print(\"hello\"[0])"
   ]
  },
  {
   "cell_type": "code",
   "execution_count": 604,
   "id": "08929d90",
   "metadata": {},
   "outputs": [
    {
     "name": "stdout",
     "output_type": "stream",
     "text": [
      "This is a string with whitespace\n"
     ]
    }
   ],
   "source": [
    "original_string = \"  This is a string with whitespace   \"\n",
    "stripped_string = original_string.strip()\n",
    "\n",
    "print(stripped_string)  # Outputs: \"This is a string with whitespace\""
   ]
  },
  {
   "cell_type": "code",
   "execution_count": 609,
   "id": "f4d59d52",
   "metadata": {},
   "outputs": [
    {
     "name": "stdout",
     "output_type": "stream",
     "text": [
      "shah baz\n"
     ]
    }
   ],
   "source": [
    "data = 'shah alam'\n",
    "newstr =  data.replace('alam','baz')\n",
    "print(newstr)"
   ]
  },
  {
   "cell_type": "code",
   "execution_count": null,
   "id": "a5cd32e1",
   "metadata": {},
   "outputs": [],
   "source": [
    "x = (\"shahbaz\",\"Rajat\")\n",
    "y = list(x)\n",
    "y[0] = \"mohit\"\n",
    "x = tuple(y)"
   ]
  }
 ],
 "metadata": {
  "kernelspec": {
   "display_name": "Python 3 (ipykernel)",
   "language": "python",
   "name": "python3"
  },
  "language_info": {
   "codemirror_mode": {
    "name": "ipython",
    "version": 3
   },
   "file_extension": ".py",
   "mimetype": "text/x-python",
   "name": "python",
   "nbconvert_exporter": "python",
   "pygments_lexer": "ipython3",
   "version": "3.11.5"
  }
 },
 "nbformat": 4,
 "nbformat_minor": 5
}
