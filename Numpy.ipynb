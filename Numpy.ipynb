{
 "cells": [
  {
   "cell_type": "markdown",
   "id": "a299d9ff",
   "metadata": {},
   "source": [
    "# What is Numpy"
   ]
  },
  {
   "cell_type": "markdown",
   "id": "8a01b6da",
   "metadata": {},
   "source": [
    "\n",
    "NumPy, which stands for \"Numerical Python,\" is a fundamental Python library for numerical and scientific computing. It provides support for large, multi-dimensional arrays and matrices, along with a collection of mathematical functions to operate on these arrays. NumPy is a core library for data manipulation and analysis in the field of data science, machine learning, and scientific research."
   ]
  },
  {
   "cell_type": "code",
   "execution_count": 3,
   "id": "7a4990e9",
   "metadata": {},
   "outputs": [],
   "source": [
    "import numpy as np"
   ]
  },
  {
   "cell_type": "code",
   "execution_count": 7,
   "id": "0bef48d9",
   "metadata": {},
   "outputs": [
    {
     "name": "stdout",
     "output_type": "stream",
     "text": [
      "[1 2 3 4]\n",
      "<class 'numpy.ndarray'>\n"
     ]
    }
   ],
   "source": [
    "x = np.array([1,2,3,4])\n",
    "print(x)\n",
    "print(type(x))"
   ]
  },
  {
   "cell_type": "code",
   "execution_count": 8,
   "id": "77946951",
   "metadata": {},
   "outputs": [
    {
     "name": "stdout",
     "output_type": "stream",
     "text": [
      "[1, 2, 3, 4]\n",
      "<class 'list'>\n"
     ]
    }
   ],
   "source": [
    "x = [1,2,3,4]\n",
    "print(x)\n",
    "print(type(x))"
   ]
  },
  {
   "cell_type": "markdown",
   "id": "e5b5a1df",
   "metadata": {},
   "source": [
    "# Array"
   ]
  },
  {
   "cell_type": "markdown",
   "id": "33b28d5b",
   "metadata": {},
   "source": [
    "### Create array "
   ]
  },
  {
   "cell_type": "code",
   "execution_count": 15,
   "id": "bbbf6acd",
   "metadata": {},
   "outputs": [
    {
     "name": "stdout",
     "output_type": "stream",
     "text": [
      "Enter the element of list65\n",
      "Enter the element of list32\n",
      "Enter the element of list45\n",
      "Enter the element of list87\n",
      "['65' '32' '45' '87']\n"
     ]
    }
   ],
   "source": [
    "lst = []\n",
    "for i in range(1,5):\n",
    "    x = input(\"Enter the element of list\")\n",
    "    lst.append(x)\n",
    "print(np.array(lst))    "
   ]
  },
  {
   "cell_type": "markdown",
   "id": "083d03ff",
   "metadata": {},
   "source": [
    "If we Enter in input it treated like String\n"
   ]
  },
  {
   "cell_type": "code",
   "execution_count": 16,
   "id": "bf260c9a",
   "metadata": {},
   "outputs": [
    {
     "name": "stdout",
     "output_type": "stream",
     "text": [
      "Enter the element of list: 2\n",
      "Enter the element of list: 4\n",
      "Enter the element of list: 6\n",
      "Enter the element of list: 8\n",
      "[2 4 6 8]\n",
      "<class 'numpy.ndarray'>\n"
     ]
    }
   ],
   "source": [
    "lst = []\n",
    "for i in range(1,5):\n",
    "    x = int(input(\"Enter the element of list: \"))\n",
    "    lst.append(x)\n",
    "y = np.array(lst) \n",
    "print(y)\n",
    "print(type(y))"
   ]
  },
  {
   "cell_type": "markdown",
   "id": "f80d21f5",
   "metadata": {},
   "source": [
    "### Array types "
   ]
  },
  {
   "cell_type": "markdown",
   "id": "3c597740",
   "metadata": {},
   "source": [
    "1D Array\n",
    "2D Array\n",
    "3D Array\n",
    "Multi Dimensional Array"
   ]
  },
  {
   "cell_type": "markdown",
   "id": "fd2048d4",
   "metadata": {},
   "source": [
    "###  To check array dimension .ndim"
   ]
  },
  {
   "cell_type": "code",
   "execution_count": 22,
   "id": "64b76f69",
   "metadata": {},
   "outputs": [
    {
     "name": "stdout",
     "output_type": "stream",
     "text": [
      "Enter the element of list: 4\n",
      "Enter the element of list: 3\n",
      "Enter the element of list: 2\n",
      "Enter the element of list: 1\n",
      "Array dimension  1\n"
     ]
    }
   ],
   "source": [
    "lst = []\n",
    "for i in range(1,5):\n",
    "    x = int(input(\"Enter the element of list: \"))\n",
    "    lst.append(x)\n",
    "y = np.array(lst) \n",
    "print(\"Array dimension \",y.ndim)"
   ]
  },
  {
   "cell_type": "markdown",
   "id": "6a4101d3",
   "metadata": {},
   "source": [
    "## 2D Array "
   ]
  },
  {
   "cell_type": "code",
   "execution_count": 23,
   "id": "146953d6",
   "metadata": {},
   "outputs": [
    {
     "name": "stdout",
     "output_type": "stream",
     "text": [
      "[[1 2 3 4]\n",
      " [7 8 9 3]]\n",
      "2\n"
     ]
    }
   ],
   "source": [
    "two_d = [[1,2,3,4],[7,8,9,3]]\n",
    "y = np.array(two_d)\n",
    "print(y)\n",
    "print(y.ndim)"
   ]
  },
  {
   "cell_type": "code",
   "execution_count": 24,
   "id": "e9cb44bf",
   "metadata": {},
   "outputs": [
    {
     "ename": "ValueError",
     "evalue": "setting an array element with a sequence. The requested array has an inhomogeneous shape after 1 dimensions. The detected shape was (2,) + inhomogeneous part.",
     "output_type": "error",
     "traceback": [
      "\u001b[0;31m---------------------------------------------------------------------------\u001b[0m",
      "\u001b[0;31mValueError\u001b[0m                                Traceback (most recent call last)",
      "Cell \u001b[0;32mIn[24], line 2\u001b[0m\n\u001b[1;32m      1\u001b[0m two_d \u001b[38;5;241m=\u001b[39m [[\u001b[38;5;241m1\u001b[39m,\u001b[38;5;241m2\u001b[39m,\u001b[38;5;241m3\u001b[39m,\u001b[38;5;241m4\u001b[39m],[\u001b[38;5;241m7\u001b[39m,\u001b[38;5;241m8\u001b[39m,\u001b[38;5;241m9\u001b[39m]]\n\u001b[0;32m----> 2\u001b[0m y \u001b[38;5;241m=\u001b[39m np\u001b[38;5;241m.\u001b[39marray(two_d)\n\u001b[1;32m      3\u001b[0m \u001b[38;5;28mprint\u001b[39m(y)\n\u001b[1;32m      4\u001b[0m \u001b[38;5;28mprint\u001b[39m(y\u001b[38;5;241m.\u001b[39mndim)\n",
      "\u001b[0;31mValueError\u001b[0m: setting an array element with a sequence. The requested array has an inhomogeneous shape after 1 dimensions. The detected shape was (2,) + inhomogeneous part."
     ]
    }
   ],
   "source": [
    "two_d = [[1,2,3,4],[7,8,9]]\n",
    "y = np.array(two_d)\n",
    "print(y)\n",
    "print(y.ndim)"
   ]
  },
  {
   "cell_type": "markdown",
   "id": "505e1e2f",
   "metadata": {},
   "source": [
    "In 2D Array element is same in each 1D array otherwise it gives error"
   ]
  },
  {
   "cell_type": "markdown",
   "id": "dd11d979",
   "metadata": {},
   "source": [
    "## 3D Array "
   ]
  },
  {
   "cell_type": "code",
   "execution_count": 25,
   "id": "e774589c",
   "metadata": {},
   "outputs": [
    {
     "name": "stdout",
     "output_type": "stream",
     "text": [
      "[[[1 2 3]\n",
      "  [5 6 7]\n",
      "  [8 3 5]\n",
      "  [5 3 6]]]\n",
      "3\n"
     ]
    }
   ],
   "source": [
    "tree_d = [[[1,2,3],[5,6,7],[8,3,5],[5,3,6]]]\n",
    "y = np.array(tree_d)\n",
    "print(y)\n",
    "print(y.ndim)"
   ]
  },
  {
   "cell_type": "markdown",
   "id": "718e003c",
   "metadata": {},
   "source": [
    "## Multi Dimensional Array ndmin"
   ]
  },
  {
   "cell_type": "code",
   "execution_count": 26,
   "id": "7d3d95c7",
   "metadata": {
    "scrolled": true
   },
   "outputs": [
    {
     "name": "stdout",
     "output_type": "stream",
     "text": [
      "[[[[[[[[[[1 2 3 4]]]]]]]]]]\n",
      "10\n"
     ]
    }
   ],
   "source": [
    "mda = np.array([1,2,3,4],ndmin = 10)\n",
    "print(mda)\n",
    "print(mda.ndim)"
   ]
  },
  {
   "cell_type": "markdown",
   "id": "defc703f",
   "metadata": {},
   "source": [
    "# Spacial Numpy Array"
   ]
  },
  {
   "cell_type": "markdown",
   "id": "2185b299",
   "metadata": {},
   "source": [
    "Array Filled with 0's\n",
    "Array Filled with 1's\n",
    "Create a empty array\n",
    "An array with a range of element\n",
    "Array diagonal element filled with 1's\n",
    "Create an array with values that are spaced linearly in a speadified interval"
   ]
  },
  {
   "cell_type": "code",
   "execution_count": 27,
   "id": "d155c432",
   "metadata": {},
   "outputs": [
    {
     "name": "stdout",
     "output_type": "stream",
     "text": [
      "[0. 0. 0. 0.]\n"
     ]
    }
   ],
   "source": [
    "#Array Filled with 0's\n",
    "val_zero = np.zeros(4)\n",
    "print(val_zero)"
   ]
  },
  {
   "cell_type": "code",
   "execution_count": 28,
   "id": "a76792c3",
   "metadata": {},
   "outputs": [
    {
     "name": "stdout",
     "output_type": "stream",
     "text": [
      "[[0. 0. 0.]\n",
      " [0. 0. 0.]\n",
      " [0. 0. 0.]\n",
      " [0. 0. 0.]]\n"
     ]
    }
   ],
   "source": [
    "#Array Filled with 0's 2D dim\n",
    "val_zero = np.zeros((4,3))\n",
    "print(val_zero)"
   ]
  },
  {
   "cell_type": "code",
   "execution_count": 30,
   "id": "a4dbd906",
   "metadata": {},
   "outputs": [
    {
     "name": "stdout",
     "output_type": "stream",
     "text": [
      "[1. 1. 1. 1. 1.]\n"
     ]
    }
   ],
   "source": [
    "#Array Filled with 1's\n",
    "val_one = np.ones(5)\n",
    "print(val_one)"
   ]
  },
  {
   "cell_type": "code",
   "execution_count": 32,
   "id": "b38efc80",
   "metadata": {},
   "outputs": [
    {
     "name": "stdout",
     "output_type": "stream",
     "text": [
      "[[1. 1. 1. 1.]\n",
      " [1. 1. 1. 1.]\n",
      " [1. 1. 1. 1.]]\n"
     ]
    }
   ],
   "source": [
    "#Array Filled with 1's  2D dim\n",
    "val_one = np.ones((3,4))\n",
    "print(val_one)"
   ]
  },
  {
   "cell_type": "code",
   "execution_count": 2,
   "id": "4c57e8d5",
   "metadata": {},
   "outputs": [
    {
     "ename": "TypeError",
     "evalue": "ones() got an unexpected keyword argument 'ndmin'",
     "output_type": "error",
     "traceback": [
      "\u001b[0;31m---------------------------------------------------------------------------\u001b[0m",
      "\u001b[0;31mTypeError\u001b[0m                                 Traceback (most recent call last)",
      "Cell \u001b[0;32mIn[2], line 3\u001b[0m\n\u001b[1;32m      1\u001b[0m \u001b[38;5;66;03m#Array Filled with 1's  2D dim\u001b[39;00m\n\u001b[1;32m      2\u001b[0m \u001b[38;5;28;01mimport\u001b[39;00m \u001b[38;5;21;01mnumpy\u001b[39;00m \u001b[38;5;28;01mas\u001b[39;00m \u001b[38;5;21;01mnp\u001b[39;00m\n\u001b[0;32m----> 3\u001b[0m val_one \u001b[38;5;241m=\u001b[39m np\u001b[38;5;241m.\u001b[39mones(\u001b[38;5;241m3\u001b[39m,\u001b[38;5;241m4\u001b[39m,ndmin \u001b[38;5;241m=\u001b[39m \u001b[38;5;241m4\u001b[39m)\n\u001b[1;32m      4\u001b[0m \u001b[38;5;28mprint\u001b[39m(val_one)\n",
      "\u001b[0;31mTypeError\u001b[0m: ones() got an unexpected keyword argument 'ndmin'"
     ]
    }
   ],
   "source": [
    "#Array Filled with 1's  2D dim\n",
    "import numpy as np\n",
    "val_one = np.ones(3,4,ndmin = 4)\n",
    "print(val_one)"
   ]
  },
  {
   "cell_type": "markdown",
   "id": "9d0cca1b",
   "metadata": {},
   "source": [
    "\n",
    "The error you're encountering is because the np.ones function doesn't have an ndmin parameter.\n",
    "The np.ones function is used to create an array filled with 1's of a specified shape, but you \n",
    "should provide the shape as a single tuple, not as separate arguments. Here's how you can fix \n",
    "the error:\n",
    "\n"
   ]
  },
  {
   "cell_type": "code",
   "execution_count": 39,
   "id": "66558b9f",
   "metadata": {},
   "outputs": [
    {
     "name": "stdout",
     "output_type": "stream",
     "text": [
      "[[[1. 1. 1. 1.]\n",
      "  [1. 1. 1. 1.]\n",
      "  [1. 1. 1. 1.]]\n",
      "\n",
      " [[1. 1. 1. 1.]\n",
      "  [1. 1. 1. 1.]\n",
      "  [1. 1. 1. 1.]]]\n"
     ]
    }
   ],
   "source": [
    "\n",
    "# Create a 3D array filled with 1's of shape (2, 3, 4)\n",
    "# This will create a 3D array with 2 \"layers,\" each having 3 rows and 4 columns.\n",
    "array_3d = np.ones((2, 3, 4))\n",
    "\n",
    "print(array_3d)"
   ]
  },
  {
   "cell_type": "markdown",
   "id": "ae3a89ba",
   "metadata": {},
   "source": [
    "## Empty array"
   ]
  },
  {
   "cell_type": "code",
   "execution_count": 40,
   "id": "7bc81fb4",
   "metadata": {},
   "outputs": [
    {
     "name": "stdout",
     "output_type": "stream",
     "text": [
      "[1. 1. 1. 1. 1.]\n"
     ]
    }
   ],
   "source": [
    "ar_em = np.empty(5)\n",
    "print(ar_em)"
   ]
  },
  {
   "cell_type": "markdown",
   "id": "76b1f9e6",
   "metadata": {},
   "source": [
    "empty array take previous memory data"
   ]
  },
  {
   "cell_type": "markdown",
   "id": "fd7c9aa2",
   "metadata": {},
   "source": [
    "## Range"
   ]
  },
  {
   "cell_type": "code",
   "execution_count": 43,
   "id": "137aedc2",
   "metadata": {},
   "outputs": [
    {
     "name": "stdout",
     "output_type": "stream",
     "text": [
      "[0 1 2 3]\n"
     ]
    }
   ],
   "source": [
    "ar_rng = np.arange(4) # if we not starting position then it take 0 is default\n",
    "print(ar_rng)"
   ]
  },
  {
   "cell_type": "code",
   "execution_count": 45,
   "id": "fe817316",
   "metadata": {},
   "outputs": [
    {
     "name": "stdout",
     "output_type": "stream",
     "text": [
      "[1 2 3]\n"
     ]
    }
   ],
   "source": [
    "ar_rng = np.arange(1,4)\n",
    "print(ar_rng)"
   ]
  },
  {
   "cell_type": "markdown",
   "id": "62a20427",
   "metadata": {},
   "source": [
    "## Diagonal "
   ]
  },
  {
   "cell_type": "code",
   "execution_count": 47,
   "id": "801e1b99",
   "metadata": {},
   "outputs": [
    {
     "name": "stdout",
     "output_type": "stream",
     "text": [
      "[[1. 0. 0. 0.]\n",
      " [0. 1. 0. 0.]\n",
      " [0. 0. 1. 0.]\n",
      " [0. 0. 0. 1.]]\n"
     ]
    }
   ],
   "source": [
    "ar_dia = np.eye(4)\n",
    "print(ar_dia)"
   ]
  },
  {
   "cell_type": "code",
   "execution_count": 49,
   "id": "55b8a1ab",
   "metadata": {},
   "outputs": [
    {
     "name": "stdout",
     "output_type": "stream",
     "text": [
      "[[1. 0. 0. 0.]\n",
      " [0. 1. 0. 0.]\n",
      " [0. 0. 1. 0.]\n",
      " [0. 0. 0. 1.]]\n"
     ]
    }
   ],
   "source": [
    "ar_dia = np.eye(4,4)\n",
    "print(ar_dia)"
   ]
  },
  {
   "cell_type": "code",
   "execution_count": 51,
   "id": "4fe85918",
   "metadata": {},
   "outputs": [
    {
     "name": "stdout",
     "output_type": "stream",
     "text": [
      "[[1. 0. 0. 0.]\n",
      " [0. 1. 0. 0.]\n",
      " [0. 0. 1. 0.]\n",
      " [0. 0. 0. 1.]\n",
      " [0. 0. 0. 0.]]\n"
     ]
    }
   ],
   "source": [
    "ar_dia = np.eye(5,4)\n",
    "print(ar_dia)"
   ]
  },
  {
   "cell_type": "code",
   "execution_count": 55,
   "id": "42ab840e",
   "metadata": {},
   "outputs": [
    {
     "name": "stdout",
     "output_type": "stream",
     "text": [
      "[[1. 0. 0. 0. 0. 0. 0. 0.]\n",
      " [0. 1. 0. 0. 0. 0. 0. 0.]\n",
      " [0. 0. 1. 0. 0. 0. 0. 0.]\n",
      " [0. 0. 0. 1. 0. 0. 0. 0.]]\n"
     ]
    }
   ],
   "source": [
    "ar_dia = np.eye(4,8)\n",
    "print(ar_dia)"
   ]
  },
  {
   "cell_type": "markdown",
   "id": "d1fa93d5",
   "metadata": {},
   "source": [
    "## linspace "
   ]
  },
  {
   "cell_type": "code",
   "execution_count": 59,
   "id": "41ca4855",
   "metadata": {},
   "outputs": [
    {
     "name": "stdout",
     "output_type": "stream",
     "text": [
      "[ 0.  5. 10. 15. 20.]\n"
     ]
    }
   ],
   "source": [
    "ar_line = np.linspace(0,20, num = 5)\n",
    "print(ar_line)"
   ]
  },
  {
   "cell_type": "markdown",
   "id": "1402c100",
   "metadata": {},
   "source": [
    "## Create Numpy array with Random Numbers "
   ]
  },
  {
   "cell_type": "markdown",
   "id": "e628eb81",
   "metadata": {},
   "source": [
    "## Random "
   ]
  },
  {
   "cell_type": "markdown",
   "id": "2cd9787d",
   "metadata": {},
   "source": [
    "### rand() "
   ]
  },
  {
   "cell_type": "markdown",
   "id": "66f1b710",
   "metadata": {},
   "source": [
    "np.random.rand(shape): Generates random numbers from a uniform distribution in the interval [0, 1]. The shape argument specifies the dimensions of the output array.\n",
    "import numpy as np\n",
    "random_array = np.random.rand(2, 3)  # 2x3 array of random numbers between 0 and 1"
   ]
  },
  {
   "cell_type": "code",
   "execution_count": 60,
   "id": "f1474c5a",
   "metadata": {},
   "outputs": [
    {
     "name": "stdout",
     "output_type": "stream",
     "text": [
      "[0.18465083 0.79619303 0.55886527 0.34701495 0.17399696]\n"
     ]
    }
   ],
   "source": [
    "ar_rn = np.random.rand(5)\n",
    "print(ar_rn)"
   ]
  },
  {
   "cell_type": "code",
   "execution_count": 61,
   "id": "d04ebb64",
   "metadata": {},
   "outputs": [
    {
     "name": "stdout",
     "output_type": "stream",
     "text": [
      "[0.08177787 0.04916602 0.05475248 0.08577576 0.91867193 0.78366361\n",
      " 0.77350221 0.26794694 0.57710619 0.29731882]\n"
     ]
    }
   ],
   "source": [
    "ar_rn = np.random.rand(10)\n",
    "print(ar_rn)"
   ]
  },
  {
   "cell_type": "code",
   "execution_count": 63,
   "id": "ef114809",
   "metadata": {},
   "outputs": [
    {
     "name": "stdout",
     "output_type": "stream",
     "text": [
      "[[0.03744263 0.27135791 0.78614575 0.55648247 0.06143631]\n",
      " [0.77465045 0.44612361 0.40018435 0.0662253  0.71053745]]\n"
     ]
    }
   ],
   "source": [
    "# 2D Random array range 0 to 1\n",
    "ar_rn = np.random.rand(2,5)\n",
    "print(ar_rn)"
   ]
  },
  {
   "cell_type": "markdown",
   "id": "6c401508",
   "metadata": {},
   "source": [
    "## randn()"
   ]
  },
  {
   "cell_type": "markdown",
   "id": "c11bb23e",
   "metadata": {},
   "source": [
    "np.random.randn(shape): Generates random numbers from a standard normal (Gaussian) distribution with mean 0 and standard deviation 1.\n",
    "\n",
    "\n",
    "import numpy as np\n",
    "random_array = np.random.randn(3, 4)  # 3x4 array of random numbers from a standard normal distribution"
   ]
  },
  {
   "cell_type": "code",
   "execution_count": 64,
   "id": "99e87e4d",
   "metadata": {},
   "outputs": [
    {
     "name": "stdout",
     "output_type": "stream",
     "text": [
      "[ 0.03470717 -2.7276999  -0.6077187  -0.50085121 -0.44636657]\n"
     ]
    }
   ],
   "source": [
    "var = np.random.randn(5)\n",
    "print(var)"
   ]
  },
  {
   "cell_type": "code",
   "execution_count": 65,
   "id": "4261437a",
   "metadata": {},
   "outputs": [
    {
     "name": "stdout",
     "output_type": "stream",
     "text": [
      "[[-1.81411841 -0.19265465 -1.57289732  0.44026196]\n",
      " [ 0.85332179  0.40403475 -1.70912803 -0.23105647]\n",
      " [ 1.15866696  1.15651806 -0.34492604  0.80924611]]\n"
     ]
    }
   ],
   "source": [
    "var = np.random.randn(3,4)\n",
    "print(var)"
   ]
  },
  {
   "cell_type": "markdown",
   "id": "b66adce2",
   "metadata": {},
   "source": [
    "## ranf() "
   ]
  },
  {
   "cell_type": "markdown",
   "id": "51e966c7",
   "metadata": {},
   "source": [
    "numpy.random.random are functions used to generate random numbers from a uniform distribution over the interval [0, 1)"
   ]
  },
  {
   "cell_type": "code",
   "execution_count": 66,
   "id": "686ce3b8",
   "metadata": {},
   "outputs": [
    {
     "name": "stdout",
     "output_type": "stream",
     "text": [
      "[0.86914852 0.54329801 0.16059278 0.28751873 0.61152565]\n"
     ]
    }
   ],
   "source": [
    "var = np.random.ranf(5)\n",
    "\n",
    "print(var)"
   ]
  },
  {
   "cell_type": "markdown",
   "id": "a82af8bb",
   "metadata": {},
   "source": [
    "## randint "
   ]
  },
  {
   "cell_type": "markdown",
   "id": "f0bc2c03",
   "metadata": {},
   "source": [
    "In NumPy, the numpy.random.randint function is used to generate random integers within a specified range. You can use this function to create arrays of random integers. Here's the basic syntax:\n",
    "\n",
    "\n",
    "numpy.random.randint(low, high=None, size=None, dtype='l')\n",
    "low: The lowest (inclusive) integer in the range.\n",
    "high: The highest (exclusive) integer in the range. If not provided, it defaults to one above low.\n",
    "size: The shape of the output array. If not provided, a single random integer is generated.\n",
    "dtype: The data type of the output array. It's optional and defaults to 'int64' ('l' stands for long integer).\n",
    "Here are some examples of how to use numpy.random.randint:\n",
    "\n",
    "\n",
    "import numpy as np\n",
    "\n",
    "\n",
    "rand_int = np.random.randint(10)\n",
    "print(rand_int)\n",
    "\n",
    "rand_int = np.random.randint(5, 16)\n",
    "print(rand_int)\n",
    "\n",
    "rand_array_1d = np.random.randint(1, 101, size=5)\n",
    "print(rand_array_1d)\n",
    "\n",
    "rand_array_2d = np.random.randint(-10, 11, size=(3, 4))\n",
    "print(rand_array_2d)\n",
    "Keep in mind that the low value is inclusive, while the high value is exclusive. In other words, the generated random integers can include low but not high. Also, the random integers are generated using a pseudorandom number generator and can be controlled using the random seed with numpy.random.seed for reproducibility."
   ]
  },
  {
   "cell_type": "code",
   "execution_count": 69,
   "id": "e0422d26",
   "metadata": {},
   "outputs": [
    {
     "name": "stdout",
     "output_type": "stream",
     "text": [
      "[10  5  9 14  6]\n"
     ]
    }
   ],
   "source": [
    "var = np.random.randint(5 , 20, 5, dtype='l')\n",
    "print(var)"
   ]
  },
  {
   "cell_type": "code",
   "execution_count": 70,
   "id": "c0b67a26",
   "metadata": {},
   "outputs": [
    {
     "name": "stdout",
     "output_type": "stream",
     "text": [
      "5\n"
     ]
    }
   ],
   "source": [
    "# Generate a random integer between 0 and 9\n",
    "rand_int = np.random.randint(10)\n",
    "print(rand_int)\n"
   ]
  },
  {
   "cell_type": "code",
   "execution_count": 71,
   "id": "bee44b69",
   "metadata": {},
   "outputs": [
    {
     "name": "stdout",
     "output_type": "stream",
     "text": [
      "14\n"
     ]
    }
   ],
   "source": [
    "# Generate a random integer between 5 and 15\n",
    "rand_int = np.random.randint(5, 16)\n",
    "print(rand_int)"
   ]
  },
  {
   "cell_type": "code",
   "execution_count": 72,
   "id": "5b84e802",
   "metadata": {},
   "outputs": [
    {
     "name": "stdout",
     "output_type": "stream",
     "text": [
      "[62 24 38 55 58]\n"
     ]
    }
   ],
   "source": [
    "# Generate a 1D array of 5 random integers between 1 and 100\n",
    "rand_array_1d = np.random.randint(1, 101, size=5)\n",
    "print(rand_array_1d)"
   ]
  },
  {
   "cell_type": "code",
   "execution_count": 75,
   "id": "eba6c946",
   "metadata": {},
   "outputs": [
    {
     "name": "stdout",
     "output_type": "stream",
     "text": [
      "[[21 11 30 20]\n",
      " [29 23 11 22]\n",
      " [30 29 12 20]]\n"
     ]
    }
   ],
   "source": [
    "# Generate a 2D array of shape (3, 4) with random integers between -10 and 10\n",
    "rand_array_2d = np.random.randint(10, 31, size=(3, 4))\n",
    "print(rand_array_2d)"
   ]
  },
  {
   "cell_type": "code",
   "execution_count": 77,
   "id": "f147a191",
   "metadata": {},
   "outputs": [
    {
     "name": "stdout",
     "output_type": "stream",
     "text": [
      "[-9  7  0 -1]\n"
     ]
    }
   ],
   "source": [
    "# Generate a 2D array of shape (3, 4) with random integers between -10 and 10\n",
    "rand_array_2d = np.random.randint(-10, 11, 4)\n",
    "print(rand_array_2d)"
   ]
  },
  {
   "cell_type": "markdown",
   "id": "99503076",
   "metadata": {},
   "source": [
    "# Data Type Numpy Array"
   ]
  },
  {
   "cell_type": "code",
   "execution_count": null,
   "id": "adfd48b3",
   "metadata": {},
   "outputs": [],
   "source": [
    "Data Type\tCode\tDescription\n",
    "int8\t'int8'\t8-bit signed integer\n",
    "int16\t'int16'\t16-bit signed integer\n",
    "int32\t'int32'\t32-bit signed integer\n",
    "int64\t'int64'\t64-bit signed integer\n",
    "uint8\t'uint8'\t8-bit unsigned integer\n",
    "uint16\t'uint16'\t16-bit unsigned integer\n",
    "uint32\t'uint32'\t32-bit unsigned integer\n",
    "uint64\t'uint64'\t64-bit unsigned integer\n",
    "float16\t'float16'\t16-bit floating-point number (half-precision)\n",
    "float32\t'float32'\t32-bit floating-point number (single-precision)\n",
    "float64\t'float64'\t64-bit floating-point number (double-precision)\n",
    "complex64\t'complex64'\tComplex number with two 32-bit floats (real and imaginary parts)\n",
    "complex128\t'complex128'\tComplex number with two 64-bit floats (real and imaginary parts)\n",
    "bool\t'bool'\tBoolean (True/False)\n",
    "object\t'object'\tPython object (generic data type)\n",
    "string (fixed size)\t'S'\tString with fixed size\n",
    "string (variable size)\t'U'\tUnicode string with variable size"
   ]
  },
  {
   "cell_type": "code",
   "execution_count": 78,
   "id": "4e772311",
   "metadata": {},
   "outputs": [
    {
     "name": "stdout",
     "output_type": "stream",
     "text": [
      "int64\n"
     ]
    }
   ],
   "source": [
    "var = np.array([1,2,3,4,5])\n",
    "\n",
    "print(var.dtype)"
   ]
  },
  {
   "cell_type": "code",
   "execution_count": 81,
   "id": "cee0ea21",
   "metadata": {},
   "outputs": [
    {
     "name": "stdout",
     "output_type": "stream",
     "text": [
      "int64\n"
     ]
    }
   ],
   "source": [
    "var = np.array([1,2])\n",
    "\n",
    "print(var.dtype)"
   ]
  },
  {
   "cell_type": "code",
   "execution_count": 82,
   "id": "491e8482",
   "metadata": {},
   "outputs": [
    {
     "name": "stdout",
     "output_type": "stream",
     "text": [
      "int64\n"
     ]
    }
   ],
   "source": [
    "var = np.array([1,2,3,4,555555])\n",
    "\n",
    "print(var.dtype)"
   ]
  },
  {
   "cell_type": "code",
   "execution_count": 83,
   "id": "251448ba",
   "metadata": {},
   "outputs": [
    {
     "name": "stdout",
     "output_type": "stream",
     "text": [
      "float64\n"
     ]
    }
   ],
   "source": [
    "var = np.array([1.9,2.6,3,4,5])\n",
    "\n",
    "print(var.dtype)"
   ]
  },
  {
   "cell_type": "code",
   "execution_count": 84,
   "id": "4fa9c4ef",
   "metadata": {},
   "outputs": [
    {
     "name": "stdout",
     "output_type": "stream",
     "text": [
      "<U1\n"
     ]
    }
   ],
   "source": [
    "var = np.array(['s','h','b'])\n",
    "\n",
    "print(var.dtype)"
   ]
  },
  {
   "cell_type": "markdown",
   "id": "9d948573",
   "metadata": {},
   "source": [
    "##### What is  <U1 "
   ]
  },
  {
   "cell_type": "code",
   "execution_count": null,
   "id": "1f4d48bb",
   "metadata": {},
   "outputs": [],
   "source": [
    "The <U1 data type code represents a Unicode string of 1 character. In other words, \n",
    "it's a one-character Unicode string. This is the default data type inferred by NumPy\n",
    "when you create an array of single-character strings.\n",
    "\n",
    "Here's a breakdown of what <U1 means:\n",
    "\n",
    "<: Indicates little-endian byte order (the default for most platforms).\n",
    "U: Indicates Unicode string.\n",
    "1: Specifies the length of the string in characters, which in this case is 1 character.\n",
    "So, when you create a NumPy array with single-character strings, NumPy assigns \n",
    "the <U1 data type to that array to represent each element as a one-character Unicode string."
   ]
  },
  {
   "cell_type": "code",
   "execution_count": 85,
   "id": "fbd52722",
   "metadata": {},
   "outputs": [
    {
     "name": "stdout",
     "output_type": "stream",
     "text": [
      "<U7\n"
     ]
    }
   ],
   "source": [
    "var = np.array(['Shahbaz','alam'])\n",
    "\n",
    "print(var.dtype)"
   ]
  },
  {
   "cell_type": "markdown",
   "id": "2df50e6a",
   "metadata": {},
   "source": [
    "<: Indicates little-endian byte order (the default for most platforms).\n",
    "U: Indicates Unicode string.\n",
    "7: Specifies the length of the string in characters, which in this case is 7 characters."
   ]
  },
  {
   "cell_type": "code",
   "execution_count": 86,
   "id": "d9c4e007",
   "metadata": {},
   "outputs": [
    {
     "name": "stdout",
     "output_type": "stream",
     "text": [
      "<U37\n"
     ]
    }
   ],
   "source": [
    "var = np.array(['Shahbazzzzzzzzzzzzzzzzzzzzzzzzzzzzzzz','alam'])\n",
    "\n",
    "print(var.dtype)"
   ]
  },
  {
   "cell_type": "code",
   "execution_count": null,
   "id": "18e838ef",
   "metadata": {},
   "outputs": [],
   "source": [
    "Below is a list of all data types in NumPy and the characters used to represent them.\n",
    "\n",
    "i - integer\n",
    "b - boolean\n",
    "u - unsigned integer\n",
    "f - float\n",
    "c - complex float\n",
    "m - timedelta\n",
    "M - datetime\n",
    "O - object\n",
    "S - string\n",
    "U - unicode string\n",
    "V - fixed chunk of memory for other type ( void )"
   ]
  },
  {
   "cell_type": "code",
   "execution_count": 87,
   "id": "879d4596",
   "metadata": {},
   "outputs": [
    {
     "name": "stdout",
     "output_type": "stream",
     "text": [
      "int64\n"
     ]
    }
   ],
   "source": [
    "var = np.array([1,2,5,6,7])\n",
    "\n",
    "print(var.dtype)"
   ]
  },
  {
   "cell_type": "code",
   "execution_count": 88,
   "id": "cb6ff653",
   "metadata": {},
   "outputs": [
    {
     "ename": "NameError",
     "evalue": "name 'int8' is not defined",
     "output_type": "error",
     "traceback": [
      "\u001b[0;31m---------------------------------------------------------------------------\u001b[0m",
      "\u001b[0;31mNameError\u001b[0m                                 Traceback (most recent call last)",
      "Cell \u001b[0;32mIn[88], line 1\u001b[0m\n\u001b[0;32m----> 1\u001b[0m var \u001b[38;5;241m=\u001b[39m np\u001b[38;5;241m.\u001b[39marray([\u001b[38;5;241m1\u001b[39m,\u001b[38;5;241m2\u001b[39m,\u001b[38;5;241m5\u001b[39m,\u001b[38;5;241m6\u001b[39m,\u001b[38;5;241m7\u001b[39m,\u001b[38;5;241m9\u001b[39m],dtype \u001b[38;5;241m=\u001b[39m int8)\n\u001b[1;32m      3\u001b[0m \u001b[38;5;28mprint\u001b[39m(var\u001b[38;5;241m.\u001b[39mdtype)\n",
      "\u001b[0;31mNameError\u001b[0m: name 'int8' is not defined"
     ]
    }
   ],
   "source": [
    "var = np.array([1,2,5,6,7,9],dtype = int8)\n",
    "\n",
    "print(var.dtype)"
   ]
  },
  {
   "cell_type": "code",
   "execution_count": 89,
   "id": "53758467",
   "metadata": {},
   "outputs": [
    {
     "name": "stdout",
     "output_type": "stream",
     "text": [
      "int8\n"
     ]
    }
   ],
   "source": [
    "var = np.array([1,2,5,6,7,9],dtype = np.int8)\n",
    "\n",
    "print(var.dtype)"
   ]
  },
  {
   "cell_type": "code",
   "execution_count": 94,
   "id": "4ef2cf9b",
   "metadata": {},
   "outputs": [
    {
     "name": "stdout",
     "output_type": "stream",
     "text": [
      "[1 2 5 6 7 9]\n",
      "int32\n"
     ]
    }
   ],
   "source": [
    "var = np.array([1,2,5,6,7,9],dtype = np.int32)\n",
    "print(var)\n",
    "print(var.dtype)"
   ]
  },
  {
   "cell_type": "code",
   "execution_count": 95,
   "id": "bdf3770a",
   "metadata": {},
   "outputs": [
    {
     "name": "stdout",
     "output_type": "stream",
     "text": [
      "[1. 2. 5. 6. 7. 9.]\n",
      "float32\n"
     ]
    }
   ],
   "source": [
    "var = np.array([1,2,5,6,7,9],dtype =  'f')\n",
    "print(var)\n",
    "print(var.dtype)"
   ]
  },
  {
   "cell_type": "code",
   "execution_count": 96,
   "id": "ded68749",
   "metadata": {},
   "outputs": [
    {
     "name": "stdout",
     "output_type": "stream",
     "text": [
      "int64\n",
      "float32\n",
      "[1 2 5 6 7 9]\n",
      "[1. 2. 5. 6. 7. 9.]\n"
     ]
    }
   ],
   "source": [
    "# convert int to float using float function\n",
    "var = np.array([1,2,5,6,7,9])\n",
    "\n",
    "new = np.float32(var)\n",
    "\n",
    "print(var.dtype)\n",
    "print(new.dtype)\n",
    "print(var)\n",
    "print(new)"
   ]
  },
  {
   "cell_type": "code",
   "execution_count": 98,
   "id": "765a91c4",
   "metadata": {},
   "outputs": [
    {
     "name": "stdout",
     "output_type": "stream",
     "text": [
      "float64\n",
      "int16\n",
      "[1.3  2.54 5.   6.   7.   9.  ]\n",
      "[1 2 5 6 7 9]\n"
     ]
    }
   ],
   "source": [
    "var = np.array([1.3,2.54,5,6,7,9])\n",
    "new = np.int16(var)\n",
    "print(var.dtype)\n",
    "print(new.dtype)\n",
    "print(var)\n",
    "print(new)"
   ]
  },
  {
   "cell_type": "code",
   "execution_count": 100,
   "id": "cc0c3fc5",
   "metadata": {},
   "outputs": [
    {
     "name": "stdout",
     "output_type": "stream",
     "text": [
      "float64\n",
      "int16\n",
      "float64\n",
      "[1.3  2.54 5.   6.   7.   9.  ]\n",
      "[1 2 5 6 7 9]\n",
      "[1. 2. 5. 6. 7. 9.]\n"
     ]
    }
   ],
   "source": [
    "# here we convert float to int and int to float same data\n",
    "var = np.array([1.3,2.54,5,6,7,9])\n",
    "new = np.int16(var)\n",
    "old = np.float64(new)\n",
    "print(var.dtype)\n",
    "print(new.dtype)\n",
    "print(old.dtype)\n",
    "print(var)\n",
    "print(new)\n",
    "print(old)"
   ]
  },
  {
   "cell_type": "markdown",
   "id": "f1eaadab",
   "metadata": {},
   "source": [
    "#### astype   to convert data type of numpy"
   ]
  },
  {
   "cell_type": "code",
   "execution_count": 104,
   "id": "21b804f6",
   "metadata": {},
   "outputs": [
    {
     "name": "stdout",
     "output_type": "stream",
     "text": [
      "float64\n",
      "int64\n",
      "float64\n",
      "[1.3  2.54 5.   6.   7.   9.  ]\n",
      "[1 2 5 6 7 9]\n",
      "[1. 2. 5. 6. 7. 9.]\n"
     ]
    }
   ],
   "source": [
    "# here we convert float to int and int to float same data\n",
    "var = np.array([1.3,2.54,5,6,7,9])\n",
    "new = var.astype(int)\n",
    "old = new.astype(float)\n",
    "print(var.dtype)\n",
    "print(new.dtype)\n",
    "print(old.dtype)\n",
    "print(var)\n",
    "print(new)\n",
    "print(old)"
   ]
  },
  {
   "cell_type": "markdown",
   "id": "82a7aaa5",
   "metadata": {},
   "source": [
    "## Shape And Reshape of numpy array "
   ]
  },
  {
   "cell_type": "markdown",
   "id": "caa50dda",
   "metadata": {},
   "source": [
    "### Shape"
   ]
  },
  {
   "cell_type": "code",
   "execution_count": 105,
   "id": "540ec0d1",
   "metadata": {},
   "outputs": [
    {
     "name": "stdout",
     "output_type": "stream",
     "text": [
      "[1 2 3 4]\n"
     ]
    }
   ],
   "source": [
    "var = np.array([1,2,3,4,])\n",
    "print(var)"
   ]
  },
  {
   "cell_type": "code",
   "execution_count": 106,
   "id": "c46c0cd6",
   "metadata": {},
   "outputs": [
    {
     "name": "stdout",
     "output_type": "stream",
     "text": [
      "[1 2 3 4]\n",
      "(4,)\n"
     ]
    }
   ],
   "source": [
    "var = np.array([1,2,3,4,])\n",
    "print(var)\n",
    "print(var.shape)"
   ]
  },
  {
   "cell_type": "code",
   "execution_count": 107,
   "id": "8eb04439",
   "metadata": {},
   "outputs": [
    {
     "name": "stdout",
     "output_type": "stream",
     "text": [
      "[[1 2 3 4]\n",
      " [1 2 3 4]]\n",
      "(2, 4)\n"
     ]
    }
   ],
   "source": [
    "var = np.array([[1,2,3,4,],[1,2,3,4,]])\n",
    "\n",
    "print(var)\n",
    "print(var.shape)"
   ]
  },
  {
   "cell_type": "code",
   "execution_count": 109,
   "id": "7618d3a9",
   "metadata": {},
   "outputs": [
    {
     "name": "stdout",
     "output_type": "stream",
     "text": [
      "[[[[1 2 3 4 5 6]]]]\n",
      "4\n",
      "(1, 1, 1, 6)\n"
     ]
    }
   ],
   "source": [
    "var = np.array([1,2,3,4,5,6], ndmin = 4)\n",
    "\n",
    "print(var)\n",
    "print(var.ndim)\n",
    "print(var.shape)"
   ]
  },
  {
   "cell_type": "markdown",
   "id": "1d14aa99",
   "metadata": {},
   "source": [
    "1,1,1 represent row, means three row and 6 represent col one column"
   ]
  },
  {
   "cell_type": "markdown",
   "id": "bbcab0a4",
   "metadata": {},
   "source": [
    "## Reshape "
   ]
  },
  {
   "cell_type": "code",
   "execution_count": 110,
   "id": "203ae5fd",
   "metadata": {},
   "outputs": [
    {
     "name": "stdout",
     "output_type": "stream",
     "text": [
      "[1 2 3 4 5 6]\n",
      "1\n",
      "[[1 2]\n",
      " [3 4]\n",
      " [5 6]]\n",
      "2\n"
     ]
    }
   ],
   "source": [
    "var = np.array([1,2,3,4,5,6])\n",
    "new = var.reshape(3,2)\n",
    "print(var)\n",
    "print(var.ndim)\n",
    "print(new)\n",
    "print(new.ndim)"
   ]
  },
  {
   "cell_type": "code",
   "execution_count": 111,
   "id": "e9a6cbab",
   "metadata": {},
   "outputs": [
    {
     "ename": "ValueError",
     "evalue": "cannot reshape array of size 6 into shape (3,3)",
     "output_type": "error",
     "traceback": [
      "\u001b[0;31m---------------------------------------------------------------------------\u001b[0m",
      "\u001b[0;31mValueError\u001b[0m                                Traceback (most recent call last)",
      "Cell \u001b[0;32mIn[111], line 2\u001b[0m\n\u001b[1;32m      1\u001b[0m var \u001b[38;5;241m=\u001b[39m np\u001b[38;5;241m.\u001b[39marray([\u001b[38;5;241m1\u001b[39m,\u001b[38;5;241m2\u001b[39m,\u001b[38;5;241m3\u001b[39m,\u001b[38;5;241m4\u001b[39m,\u001b[38;5;241m5\u001b[39m,\u001b[38;5;241m6\u001b[39m])\n\u001b[0;32m----> 2\u001b[0m new \u001b[38;5;241m=\u001b[39m var\u001b[38;5;241m.\u001b[39mreshape(\u001b[38;5;241m3\u001b[39m,\u001b[38;5;241m3\u001b[39m)\n\u001b[1;32m      3\u001b[0m \u001b[38;5;28mprint\u001b[39m(var)\n\u001b[1;32m      4\u001b[0m \u001b[38;5;28mprint\u001b[39m(var\u001b[38;5;241m.\u001b[39mndim)\n",
      "\u001b[0;31mValueError\u001b[0m: cannot reshape array of size 6 into shape (3,3)"
     ]
    }
   ],
   "source": [
    "var = np.array([1,2,3,4,5,6])\n",
    "new = var.reshape(3,3)\n",
    "print(var)\n",
    "print(var.ndim)\n",
    "print(new)\n",
    "print(new.ndim)"
   ]
  },
  {
   "cell_type": "code",
   "execution_count": 113,
   "id": "dd37f31a",
   "metadata": {},
   "outputs": [
    {
     "name": "stdout",
     "output_type": "stream",
     "text": [
      "[1 2 3 4 5 6 4 5 8]\n",
      "1\n",
      "[[1 2 3]\n",
      " [4 5 6]\n",
      " [4 5 8]]\n",
      "2\n"
     ]
    }
   ],
   "source": [
    "var = np.array([1,2,3,4,5,6,4,5,8])\n",
    "new = var.reshape(3,3)\n",
    "print(var)\n",
    "print(var.ndim)\n",
    "print(new)\n",
    "print(new.ndim)"
   ]
  },
  {
   "cell_type": "code",
   "execution_count": 4,
   "id": "22bb3152",
   "metadata": {},
   "outputs": [
    {
     "name": "stdout",
     "output_type": "stream",
     "text": [
      "[ 1  2  3  4  5  6  4  5  8  9 10 11 12 13 14  1  5 16 17 18 19 20 21 22]\n",
      "1\n",
      "[[[ 1  2  3  4]\n",
      "  [ 5  6  4  5]\n",
      "  [ 8  9 10 11]]\n",
      "\n",
      " [[12 13 14  1]\n",
      "  [ 5 16 17 18]\n",
      "  [19 20 21 22]]]\n",
      "3\n"
     ]
    }
   ],
   "source": [
    "var = np.array([1,2,3,4,5,6,4,5,8,9,10,11,12,13,14,1,5,16,17,18,19,20,21,22])\n",
    "new = var.reshape(2,3,4) # x-axis =2 row, y axis = 3 column, z axis = 4\n",
    "# ** Refer on this link for better understanding, remove # in starting\n",
    "#https://www.google.com/search?q=3d+numpy+array&sca_esv=571840155&tbm=isch&sxsrf=AM9HkKlzaWZUqiDgRiDWpPJvRrCmoC32eA:1696842402875&source=lnms&sa=X&sqi=2&ved=2ahUKEwioxqbFzuiBAxW7zjgGHXgEBpMQ_AUoAnoECAEQBA&biw=1440&bih=783&dpr=2#imgrc=VC7l8pq8AbQr1M\n",
    "\n",
    "print(var)\n",
    "print(var.ndim)\n",
    "print(new)\n",
    "print(new.ndim)"
   ]
  },
  {
   "cell_type": "markdown",
   "id": "5445b429",
   "metadata": {},
   "source": [
    "In a 3D NumPy array with dimensions (2, 3, 4), the size represents the total number of elements in the array. To calculate the size, you can multiply the sizes of each dimension together. In this case:\n",
    "\n",
    "Size = 2 (dimension along the first axis) * 3 (dimension along the second axis) * 4 (dimension along the third axis)\n",
    "\n",
    "Size = 2 * 3 * 4 = 24\n",
    "\n",
    "So, the size of a 3D NumPy array with dimensions (2, 3, 4) is 24. This means there are 24 elements in the array when you consider all three dimensions."
   ]
  },
  {
   "cell_type": "code",
   "execution_count": 3,
   "id": "b5457d93",
   "metadata": {},
   "outputs": [
    {
     "name": "stdout",
     "output_type": "stream",
     "text": [
      "[ 1  2  3  4  5  6  4  5  8  9 10 11 12 13 14  1  5 16 17 18 19 20 21 22]\n",
      "1\n",
      "[[[ 1  2  3  4]\n",
      "  [ 5  6  4  5]\n",
      "  [ 8  9 10 11]]\n",
      "\n",
      " [[12 13 14  1]\n",
      "  [ 5 16 17 18]\n",
      "  [19 20 21 22]]]\n",
      "3\n",
      "[ 1  2  3  4  5  6  4  5  8  9 10 11 12 13 14  1  5 16 17 18 19 20 21 22]\n",
      "1\n"
     ]
    }
   ],
   "source": [
    "#1D to 3D to 1D\n",
    "var = np.array([1,2,3,4,5,6,4,5,8,9,10,11,12,13,14,1,5,16,17,18,19,20,21,22])\n",
    "new = var.reshape(2,3,4) # x-axis =2 row, y axis = 3 column, z axis = 4\n",
    "\n",
    "old = new.reshape(-1)\n",
    "\n",
    "print(var)\n",
    "print(var.ndim)\n",
    "print(new)\n",
    "print(new.ndim)\n",
    "print(old)\n",
    "print(old.ndim)"
   ]
  },
  {
   "cell_type": "markdown",
   "id": "0ee8592f",
   "metadata": {},
   "source": [
    "## Arithematic operator in Numpy array "
   ]
  },
  {
   "cell_type": "code",
   "execution_count": 5,
   "id": "9d3f165c",
   "metadata": {},
   "outputs": [
    {
     "name": "stdout",
     "output_type": "stream",
     "text": [
      "[4 5 6 7]\n"
     ]
    }
   ],
   "source": [
    "import numpy as np\n",
    "var = np.array([1,2,3,4])\n",
    "var_add = var + 3 # add 3 in each element\n",
    "print(var_add)"
   ]
  },
  {
   "cell_type": "code",
   "execution_count": 6,
   "id": "19c159ab",
   "metadata": {},
   "outputs": [
    {
     "name": "stdout",
     "output_type": "stream",
     "text": [
      "[-2 -1  0  1]\n"
     ]
    }
   ],
   "source": [
    "import numpy as np\n",
    "var = np.array([1,2,3,4])\n",
    "var_add = var - 3 # subtract 3 in each element\n",
    "print(var_add)"
   ]
  },
  {
   "cell_type": "code",
   "execution_count": 7,
   "id": "032bfc99",
   "metadata": {},
   "outputs": [
    {
     "name": "stdout",
     "output_type": "stream",
     "text": [
      "[ 3  6  9 12]\n"
     ]
    }
   ],
   "source": [
    "import numpy as np\n",
    "var = np.array([1,2,3,4])\n",
    "var_add = var * 3 # mul 3 in each element\n",
    "print(var_add)"
   ]
  },
  {
   "cell_type": "code",
   "execution_count": 8,
   "id": "5107fe41",
   "metadata": {},
   "outputs": [
    {
     "name": "stdout",
     "output_type": "stream",
     "text": [
      "[0.33333333 0.66666667 1.         1.33333333]\n"
     ]
    }
   ],
   "source": [
    "import numpy as np\n",
    "var = np.array([1,2,3,4])\n",
    "var_add = var / 3 # add 3 in each element\n",
    "print(var_add)"
   ]
  },
  {
   "cell_type": "code",
   "execution_count": 9,
   "id": "bffca857",
   "metadata": {},
   "outputs": [
    {
     "name": "stdout",
     "output_type": "stream",
     "text": [
      "[ 1.66666667  3.          3.33333333 10.         16.66666667]\n"
     ]
    }
   ],
   "source": [
    "import numpy as np\n",
    "var = np.array([5,9,10,30,50])\n",
    "var_add = var / 3 # add 3 in each element\n",
    "print(var_add)"
   ]
  },
  {
   "cell_type": "code",
   "execution_count": 12,
   "id": "ff74342e",
   "metadata": {},
   "outputs": [
    {
     "name": "stdout",
     "output_type": "stream",
     "text": [
      "[2 0 1 0 2]\n"
     ]
    }
   ],
   "source": [
    "import numpy as np\n",
    "var = np.array([5,9,10,30,50])\n",
    "var_add = var % 3 # mod 3 in each element\n",
    "print(var_add)"
   ]
  },
  {
   "cell_type": "code",
   "execution_count": 13,
   "id": "0355c2a5",
   "metadata": {},
   "outputs": [
    {
     "name": "stdout",
     "output_type": "stream",
     "text": [
      "[2 4 6 8]\n"
     ]
    }
   ],
   "source": [
    "import numpy as np\n",
    "var1 = np.array([1,2,3,4])\n",
    "var2 = np.array([1,2,3,4])\n",
    "\n",
    "var_add = var1 + var2 # add 3 in each element\n",
    "print(var_add)"
   ]
  },
  {
   "cell_type": "code",
   "execution_count": 18,
   "id": "4502a9be",
   "metadata": {},
   "outputs": [
    {
     "name": "stdout",
     "output_type": "stream",
     "text": [
      "[14 24 34 44]\n"
     ]
    }
   ],
   "source": [
    "\n",
    "import numpy as np\n",
    "var1 = np.array([11,21,31,41])\n",
    "\n",
    "var_add = np.add(var1,3)\n",
    "print(var_add)"
   ]
  },
  {
   "cell_type": "code",
   "execution_count": 14,
   "id": "11a29f1c",
   "metadata": {},
   "outputs": [
    {
     "name": "stdout",
     "output_type": "stream",
     "text": [
      "[10 19 28 37]\n"
     ]
    }
   ],
   "source": [
    "\n",
    "import numpy as np\n",
    "var1 = np.array([11,21,31,41])\n",
    "var2 = np.array([1,2,3,4])\n",
    "\n",
    "var_add = var1 - var2 # add 3 in each element\n",
    "print(var_add)"
   ]
  },
  {
   "cell_type": "code",
   "execution_count": 20,
   "id": "541d2fc2",
   "metadata": {},
   "outputs": [
    {
     "name": "stdout",
     "output_type": "stream",
     "text": [
      "[ 8 18 28 38]\n"
     ]
    }
   ],
   "source": [
    "\n",
    "import numpy as np\n",
    "var1 = np.array([11,21,31,41])\n",
    "var_add = np.subtract(var1, 3)\n",
    "print(var_add)"
   ]
  },
  {
   "cell_type": "code",
   "execution_count": 15,
   "id": "08337459",
   "metadata": {},
   "outputs": [
    {
     "name": "stdout",
     "output_type": "stream",
     "text": [
      "[ 11  42  93 164]\n"
     ]
    }
   ],
   "source": [
    "\n",
    "import numpy as np\n",
    "var1 = np.array([11,21,31,41])\n",
    "var2 = np.array([1,2,3,4])\n",
    "\n",
    "var_add = var1 * var2 # add 3 in each element\n",
    "print(var_add)"
   ]
  },
  {
   "cell_type": "code",
   "execution_count": 21,
   "id": "394df8a8",
   "metadata": {},
   "outputs": [
    {
     "name": "stdout",
     "output_type": "stream",
     "text": [
      "[ 33  63  93 123]\n"
     ]
    }
   ],
   "source": [
    "\n",
    "import numpy as np\n",
    "var1 = np.array([11,21,31,41])\n",
    "var_add = np.multiply(var1, 3)\n",
    "print(var_add)"
   ]
  },
  {
   "cell_type": "code",
   "execution_count": 16,
   "id": "2b73c022",
   "metadata": {},
   "outputs": [
    {
     "name": "stdout",
     "output_type": "stream",
     "text": [
      "[11.         10.5        10.33333333 10.25      ]\n"
     ]
    }
   ],
   "source": [
    "\n",
    "import numpy as np\n",
    "var1 = np.array([11,21,31,41])\n",
    "var2 = np.array([1,2,3,4])\n",
    "\n",
    "var_add = var1 / var2 # add 3 in each element\n",
    "print(var_add)"
   ]
  },
  {
   "cell_type": "code",
   "execution_count": 22,
   "id": "e8293f2d",
   "metadata": {},
   "outputs": [
    {
     "name": "stdout",
     "output_type": "stream",
     "text": [
      "[ 3.66666667  7.         10.33333333 13.66666667]\n"
     ]
    }
   ],
   "source": [
    "\n",
    "import numpy as np\n",
    "var1 = np.array([11,21,31,41])\n",
    "var_add = np.divide(var1, 3)\n",
    "print(var_add)"
   ]
  },
  {
   "cell_type": "code",
   "execution_count": 17,
   "id": "6316f1fe",
   "metadata": {},
   "outputs": [
    {
     "name": "stdout",
     "output_type": "stream",
     "text": [
      "[0 1 1 1]\n"
     ]
    }
   ],
   "source": [
    "\n",
    "import numpy as np\n",
    "var1 = np.array([11,21,31,41])\n",
    "var2 = np.array([1,2,3,4])\n",
    "\n",
    "var_add = var1 % var2 # add 3 in each element\n",
    "print(var_add)"
   ]
  },
  {
   "cell_type": "code",
   "execution_count": 23,
   "id": "0ae74ba4",
   "metadata": {},
   "outputs": [
    {
     "name": "stdout",
     "output_type": "stream",
     "text": [
      "[2 0 1 2]\n"
     ]
    }
   ],
   "source": [
    "\n",
    "import numpy as np\n",
    "var1 = np.array([11,21,31,41])\n",
    "var_add = np.mod(var1, 3)\n",
    "print(var_add)"
   ]
  },
  {
   "cell_type": "code",
   "execution_count": 24,
   "id": "081ff1cc",
   "metadata": {},
   "outputs": [
    {
     "ename": "TypeError",
     "evalue": "return arrays must be of ArrayType",
     "output_type": "error",
     "traceback": [
      "\u001b[0;31m---------------------------------------------------------------------------\u001b[0m",
      "\u001b[0;31mTypeError\u001b[0m                                 Traceback (most recent call last)",
      "Cell \u001b[0;32mIn[24], line 4\u001b[0m\n\u001b[1;32m      2\u001b[0m \u001b[38;5;28;01mimport\u001b[39;00m \u001b[38;5;21;01mnumpy\u001b[39;00m \u001b[38;5;28;01mas\u001b[39;00m \u001b[38;5;21;01mnp\u001b[39;00m\n\u001b[1;32m      3\u001b[0m var1 \u001b[38;5;241m=\u001b[39m np\u001b[38;5;241m.\u001b[39marray([\u001b[38;5;241m11\u001b[39m,\u001b[38;5;241m21\u001b[39m,\u001b[38;5;241m31\u001b[39m,\u001b[38;5;241m41\u001b[39m])\n\u001b[0;32m----> 4\u001b[0m var_add \u001b[38;5;241m=\u001b[39m np\u001b[38;5;241m.\u001b[39mreciprocal(var1, \u001b[38;5;241m3\u001b[39m)\n\u001b[1;32m      5\u001b[0m \u001b[38;5;28mprint\u001b[39m(var_add)\n",
      "\u001b[0;31mTypeError\u001b[0m: return arrays must be of ArrayType"
     ]
    }
   ],
   "source": [
    "# Reciprocal\n",
    "import numpy as np\n",
    "var1 = np.array([11,21,31,41])\n",
    "var_add = np.reciprocal(var1,3)\n",
    "print(var_add)"
   ]
  },
  {
   "cell_type": "code",
   "execution_count": 27,
   "id": "723d526f",
   "metadata": {},
   "outputs": [
    {
     "name": "stdout",
     "output_type": "stream",
     "text": [
      "[0 0 0 0]\n"
     ]
    }
   ],
   "source": [
    "# Reciprocal\n",
    "import numpy as np\n",
    "var1 = np.array([11,21,31,41])\n",
    "var_add = np.reciprocal(var1)\n",
    "print(var_add)"
   ]
  },
  {
   "cell_type": "code",
   "execution_count": 29,
   "id": "a31a1265",
   "metadata": {},
   "outputs": [
    {
     "name": "stdout",
     "output_type": "stream",
     "text": [
      "[1.         0.43478261 0.32258065 0.20408163]\n"
     ]
    }
   ],
   "source": [
    "# Reciprocal\n",
    "import numpy as np\n",
    "var1 = np.array([1.0,2.3,3.1,4.9])\n",
    "var_add = np.reciprocal(var1)\n",
    "print(var_add)"
   ]
  },
  {
   "cell_type": "code",
   "execution_count": 30,
   "id": "e51bed01",
   "metadata": {},
   "outputs": [
    {
     "ename": "TypeError",
     "evalue": "return arrays must be of ArrayType",
     "output_type": "error",
     "traceback": [
      "\u001b[0;31m---------------------------------------------------------------------------\u001b[0m",
      "\u001b[0;31mTypeError\u001b[0m                                 Traceback (most recent call last)",
      "Cell \u001b[0;32mIn[30], line 5\u001b[0m\n\u001b[1;32m      3\u001b[0m var1 \u001b[38;5;241m=\u001b[39m np\u001b[38;5;241m.\u001b[39marray([\u001b[38;5;241m11\u001b[39m,\u001b[38;5;241m21\u001b[39m,\u001b[38;5;241m31\u001b[39m,\u001b[38;5;241m41\u001b[39m])\n\u001b[1;32m      4\u001b[0m var2 \u001b[38;5;241m=\u001b[39m \u001b[38;5;241m0.5\u001b[39m\n\u001b[0;32m----> 5\u001b[0m var_add \u001b[38;5;241m=\u001b[39m np\u001b[38;5;241m.\u001b[39mreciprocal(var1,var2)\n\u001b[1;32m      6\u001b[0m \u001b[38;5;28mprint\u001b[39m(var_add)\n",
      "\u001b[0;31mTypeError\u001b[0m: return arrays must be of ArrayType"
     ]
    }
   ],
   "source": [
    "# Reciprocal\n",
    "import numpy as np\n",
    "var1 = np.array([11,21,31,41])\n",
    "var2 = 0.5\n",
    "var_add = np.reciprocal(var1,var2)\n",
    "print(var_add)"
   ]
  },
  {
   "cell_type": "code",
   "execution_count": 32,
   "id": "08f8c56e",
   "metadata": {},
   "outputs": [
    {
     "name": "stdout",
     "output_type": "stream",
     "text": [
      "[[1 2 3 4]\n",
      " [1 2 3 4]]\n",
      "\n",
      "[[1 2 3 4]\n",
      " [1 2 3 4]]\n",
      "\n",
      "[[2 4 6 8]\n",
      " [2 4 6 8]]\n"
     ]
    }
   ],
   "source": [
    "var1 = np.array([[1,2,3,4],[1,2,3,4]])\n",
    "var2 = np.array([[1,2,3,4],[1,2,3,4]])\n",
    "print(var1)\n",
    "print()\n",
    "print(var2)\n",
    "print()\n",
    "var_add = var1 + var2\n",
    "print(var_add)"
   ]
  },
  {
   "cell_type": "code",
   "execution_count": 33,
   "id": "d7fe61f0",
   "metadata": {},
   "outputs": [
    {
     "name": "stdout",
     "output_type": "stream",
     "text": [
      "[[1 2 3 4]\n",
      " [1 2 3 4]]\n",
      "\n",
      "[[1 2 3 4]\n",
      " [1 2 3 4]]\n",
      "\n",
      "[[2 4 6 8]\n",
      " [2 4 6 8]]\n"
     ]
    }
   ],
   "source": [
    "var1 = np.array([[1,2,3,4],[1,2,3,4]])\n",
    "var2 = np.array([[1,2,3,4],[1,2,3,4]])\n",
    "print(var1)\n",
    "print()\n",
    "print(var2)\n",
    "print()\n",
    "# var_add = var1 + var2\n",
    "var_add = np.add(var1, var2)\n",
    "print(var_add)"
   ]
  },
  {
   "cell_type": "code",
   "execution_count": 34,
   "id": "7bb436ef",
   "metadata": {},
   "outputs": [
    {
     "name": "stdout",
     "output_type": "stream",
     "text": [
      "[[1 2 3 4]\n",
      " [1 2 3 4]]\n",
      "\n",
      "[[1 2 3 4]\n",
      " [1 2 3 4]]\n",
      "\n",
      "[[0 0 0 0]\n",
      " [0 0 0 0]]\n"
     ]
    }
   ],
   "source": [
    "var1 = np.array([[1,2,3,4],[1,2,3,4]])\n",
    "var2 = np.array([[1,2,3,4],[1,2,3,4]])\n",
    "print(var1)\n",
    "print()\n",
    "print(var2)\n",
    "print()\n",
    "# var_add = var1 - var2\n",
    "var_add = np.subtract(var1,var2)\n",
    "print(var_add)"
   ]
  },
  {
   "cell_type": "code",
   "execution_count": 35,
   "id": "e9504920",
   "metadata": {},
   "outputs": [
    {
     "name": "stdout",
     "output_type": "stream",
     "text": [
      "[[1 2 3 4]\n",
      " [1 2 3 4]]\n",
      "\n",
      "[[1 2 3 4]\n",
      " [1 2 3 4]]\n",
      "\n",
      "[[ 1  4  9 16]\n",
      " [ 1  4  9 16]]\n"
     ]
    }
   ],
   "source": [
    "var1 = np.array([[1,2,3,4],[1,2,3,4]])\n",
    "var2 = np.array([[1,2,3,4],[1,2,3,4]])\n",
    "print(var1)\n",
    "print()\n",
    "print(var2)\n",
    "print()\n",
    "# var_add = var1 * var2\n",
    "var_add = np.multiply(var1, var2)\n",
    "print(var_add)"
   ]
  },
  {
   "cell_type": "code",
   "execution_count": 36,
   "id": "d5c3eca5",
   "metadata": {},
   "outputs": [
    {
     "name": "stdout",
     "output_type": "stream",
     "text": [
      "[[11 21 31 41]\n",
      " [21 22 23 24]]\n",
      "\n",
      "[[1 2 3 4]\n",
      " [1 2 3 4]]\n",
      "\n",
      "[[11.         10.5        10.33333333 10.25      ]\n",
      " [21.         11.          7.66666667  6.        ]]\n"
     ]
    }
   ],
   "source": [
    "var1 = np.array([[11,21,31,41],[21,22,23,24]])\n",
    "var2 = np.array([[1,2,3,4],[1,2,3,4]])\n",
    "print(var1)\n",
    "print()\n",
    "print(var2)\n",
    "print()\n",
    "# var_add = var1 / var2\n",
    "var_add = np.divide(var1,var2)\n",
    "print(var_add)"
   ]
  },
  {
   "cell_type": "code",
   "execution_count": 37,
   "id": "888d1fdc",
   "metadata": {},
   "outputs": [
    {
     "name": "stdout",
     "output_type": "stream",
     "text": [
      "[[1 2 3 4]\n",
      " [1 2 3 4]]\n",
      "\n",
      "[[1 2 3 4]\n",
      " [1 2 3 4]]\n",
      "\n",
      "[[0 0 0 0]\n",
      " [0 0 0 0]]\n"
     ]
    }
   ],
   "source": [
    "var1 = np.array([[1,2,3,4],[1,2,3,4]])\n",
    "var2 = np.array([[1,2,3,4],[1,2,3,4]])\n",
    "print(var1)\n",
    "print()\n",
    "print(var2)\n",
    "print()\n",
    "var_add = var1 % var2\n",
    "print(var_add)"
   ]
  },
  {
   "cell_type": "code",
   "execution_count": 38,
   "id": "dd3a7df0",
   "metadata": {},
   "outputs": [
    {
     "name": "stdout",
     "output_type": "stream",
     "text": [
      "[[1 2 3 4]\n",
      " [1 2 3 4]]\n",
      "\n",
      "[[1 2 3 4]\n",
      " [1 2 3 4]]\n",
      "\n",
      "[[0 0 0 0]\n",
      " [0 0 0 0]]\n"
     ]
    }
   ],
   "source": [
    "var1 = np.array([[1,2,3,4],[1,2,3,4]])\n",
    "var2 = np.array([[1,2,3,4],[1,2,3,4]])\n",
    "print(var1)\n",
    "print()\n",
    "print(var2)\n",
    "print()\n",
    "# var_add = var1 % var2\n",
    "var_add = np.mod(var1, var2)\n",
    "print(var_add)"
   ]
  },
  {
   "cell_type": "markdown",
   "id": "b8074d4b",
   "metadata": {},
   "source": [
    "# Arithmetic Function"
   ]
  },
  {
   "cell_type": "code",
   "execution_count": 40,
   "id": "e96cc636",
   "metadata": {},
   "outputs": [
    {
     "name": "stdout",
     "output_type": "stream",
     "text": [
      "Mini value is:  3\n"
     ]
    }
   ],
   "source": [
    "var = np.array([12,23,3,45])\n",
    "\n",
    "var_add = np.min(var)\n",
    "print(\"Mini value is: \",var_add)"
   ]
  },
  {
   "cell_type": "code",
   "execution_count": 41,
   "id": "a0712350",
   "metadata": {},
   "outputs": [
    {
     "name": "stdout",
     "output_type": "stream",
     "text": [
      "Maxi value is:  45\n"
     ]
    }
   ],
   "source": [
    "var = np.array([12,23,3,45])\n",
    "\n",
    "var_add = np.max(var)\n",
    "print(\"Maxi value is: \",var_add)"
   ]
  },
  {
   "cell_type": "markdown",
   "id": "b0717f90",
   "metadata": {},
   "source": [
    "#### For index of minimum & maximum "
   ]
  },
  {
   "cell_type": "code",
   "execution_count": 43,
   "id": "30b4c590",
   "metadata": {},
   "outputs": [
    {
     "name": "stdout",
     "output_type": "stream",
     "text": [
      "Mini value is:  (1, 4)\n"
     ]
    }
   ],
   "source": [
    "var = np.array([12,23,3,45,1])\n",
    "\n",
    "var_add = np.min(var),np.argmin(var)\n",
    "print(\"Mini value is: \",var_add)"
   ]
  },
  {
   "cell_type": "code",
   "execution_count": 44,
   "id": "c432d558",
   "metadata": {},
   "outputs": [
    {
     "name": "stdout",
     "output_type": "stream",
     "text": [
      "Maxi value is:  (45, 3)\n"
     ]
    }
   ],
   "source": [
    "var = np.array([12,23,3,45,1])\n",
    "\n",
    "var_add = np.max(var),np.argmax(var)\n",
    "print(\"Maxi value is: \",var_add)"
   ]
  },
  {
   "cell_type": "markdown",
   "id": "81fc85a9",
   "metadata": {},
   "source": [
    "#### Min Max in 2D  "
   ]
  },
  {
   "cell_type": "code",
   "execution_count": null,
   "id": "52211e4f",
   "metadata": {},
   "outputs": [],
   "source": [
    "# for row = 0\n",
    "# for col = 1\n"
   ]
  },
  {
   "cell_type": "code",
   "execution_count": 55,
   "id": "0790aa64",
   "metadata": {},
   "outputs": [
    {
     "name": "stdout",
     "output_type": "stream",
     "text": [
      "[3 9]\n"
     ]
    }
   ],
   "source": [
    "# for col = 1\n",
    "\n",
    "# [[12,23,3,45,11], min = 3\n",
    "#  [67,14,44,67,9]] min = 9\n",
    "var = np.array([[12,23,3,45,11],[67,14,44,67,9]])\n",
    "var_add = np.min(var,axis = 1)\n",
    "print(var_add)"
   ]
  },
  {
   "cell_type": "code",
   "execution_count": 56,
   "id": "20ffeea8",
   "metadata": {},
   "outputs": [
    {
     "name": "stdout",
     "output_type": "stream",
     "text": [
      "[12 14  3 45  9]\n"
     ]
    }
   ],
   "source": [
    "# for row = 0\n",
    "\n",
    "# [[12,23,3,45,11], min = 3\n",
    "#  [67,14,44,67,9]] min = 9\n",
    "var = np.array([[12,23,3,45,11],[67,14,44,67,9]])\n",
    "var_add = np.min(var,axis = 0)\n",
    "print(var_add)"
   ]
  },
  {
   "cell_type": "markdown",
   "id": "ef716ca5",
   "metadata": {},
   "source": [
    "### Sqrt "
   ]
  },
  {
   "cell_type": "code",
   "execution_count": 57,
   "id": "52d7e4d8",
   "metadata": {},
   "outputs": [
    {
     "name": "stdout",
     "output_type": "stream",
     "text": [
      "[[3.46410162 4.79583152 1.73205081 6.70820393 3.31662479]\n",
      " [8.18535277 3.74165739 6.63324958 8.18535277 3.        ]]\n"
     ]
    }
   ],
   "source": [
    "\n",
    "var = np.array([[12,23,3,45,11],[67,14,44,67,9]])\n",
    "var_add = np.sqrt(var)\n",
    "print(var_add)"
   ]
  },
  {
   "cell_type": "markdown",
   "id": "ec072880",
   "metadata": {},
   "source": [
    "### Sin & Cos"
   ]
  },
  {
   "cell_type": "code",
   "execution_count": 60,
   "id": "294992af",
   "metadata": {},
   "outputs": [
    {
     "name": "stdout",
     "output_type": "stream",
     "text": [
      "[0.         0.84147098 0.90929743 0.14112001]\n"
     ]
    }
   ],
   "source": [
    "var = np.array([0,1,2,3])\n",
    "var_add = np.sin(var)\n",
    "print(var_add)"
   ]
  },
  {
   "cell_type": "code",
   "execution_count": 61,
   "id": "3fc787a5",
   "metadata": {},
   "outputs": [
    {
     "name": "stdout",
     "output_type": "stream",
     "text": [
      "[ 1.          0.54030231 -0.41614684 -0.9899925 ]\n"
     ]
    }
   ],
   "source": [
    "var = np.array([0,1,2,3])\n",
    "var_add = np.cos(var)\n",
    "print(var_add)"
   ]
  },
  {
   "cell_type": "markdown",
   "id": "de2b0c66",
   "metadata": {},
   "source": [
    "### cumsum"
   ]
  },
  {
   "cell_type": "code",
   "execution_count": null,
   "id": "ac3ef410",
   "metadata": {},
   "outputs": [],
   "source": [
    "In NumPy, you can calculate the cumulative sum of elements in an array using \n",
    "the numpy.cumsum() function. The cumulative sum computes the running total of \n",
    "elements in the array, where each element in the result is the sum of all the\n",
    "elements before and including the corresponding element in the original array.\n",
    "Here's how to use numpy.cumsum():\n",
    "\n",
    "In this example, cumulative_sum contains the cumulative sum of the elements in \n",
    "the arr array. The first element is 1 (the same as in the original array), the \n",
    "second element is 1 + 2 = 3, the third element is 1 + 2 + 3 = 6, and so on.\n",
    "\n",
    "You can also calculate the cumulative sum along a specific axis in a multi-dimensional \n",
    "array by specifying the axis parameter in the numpy.cumsum() function"
   ]
  },
  {
   "cell_type": "code",
   "execution_count": 63,
   "id": "c282ac4c",
   "metadata": {},
   "outputs": [
    {
     "name": "stdout",
     "output_type": "stream",
     "text": [
      "[0 1 3 6]\n"
     ]
    }
   ],
   "source": [
    "var = np.array([0,1,2,3]) # 0, 0+1 = 1, 1+2 = 3, 3+3 = 6 , first as it is\n",
    "#[0,1,3,6]\n",
    "var_add = np.cumsum(var)\n",
    "print(var_add)"
   ]
  },
  {
   "cell_type": "markdown",
   "id": "b7ecbc4a",
   "metadata": {},
   "source": [
    "## Broadcasting  "
   ]
  },
  {
   "cell_type": "code",
   "execution_count": null,
   "id": "fc6b1771",
   "metadata": {},
   "outputs": [],
   "source": [
    "The broadcasting rules in NumPy define how arrays with different shapes can be combined \n",
    "or operated on together in a way that makes sense. NumPy automatically broadcasts arrays\n",
    "to match their shapes when performing element-wise operations, making it easier to work \n",
    "with arrays of different sizes. The primary broadcasting rule is that two dimensions are \n",
    "compatible when:\n",
    "\n",
    "They are equal.\n",
    "One of them is 1.\n",
    "Here's a more detailed explanation of the broadcasting rules in NumPy:\n",
    "\n",
    "If two arrays have a different number of dimensions, the shape of the smaller-dimensional \n",
    "array is padded with ones on the left side to make their shapes compatible.\n",
    "\n",
    "The sizes of the dimensions are compared element-wise. Starting from the trailing dimensions,\n",
    "the sizes are considered compatible when they are equal or when one of them is 1.\n",
    "\n",
    "If the sizes in a dimension don't match and none of them is 1, it results in a \"ValueError\"\n",
    "because the arrays cannot be broadcast together.\n",
    "\n"
   ]
  },
  {
   "cell_type": "code",
   "execution_count": 65,
   "id": "57389219",
   "metadata": {},
   "outputs": [
    {
     "ename": "ValueError",
     "evalue": "operands could not be broadcast together with shapes (2,3) (3,2) ",
     "output_type": "error",
     "traceback": [
      "\u001b[0;31m---------------------------------------------------------------------------\u001b[0m",
      "\u001b[0;31mValueError\u001b[0m                                Traceback (most recent call last)",
      "Cell \u001b[0;32mIn[65], line 4\u001b[0m\n\u001b[1;32m      1\u001b[0m arr1 \u001b[38;5;241m=\u001b[39m np\u001b[38;5;241m.\u001b[39marray([[\u001b[38;5;241m1\u001b[39m, \u001b[38;5;241m2\u001b[39m, \u001b[38;5;241m3\u001b[39m],[\u001b[38;5;241m4\u001b[39m,\u001b[38;5;241m5\u001b[39m,\u001b[38;5;241m6\u001b[39m]])\n\u001b[1;32m      2\u001b[0m arr2 \u001b[38;5;241m=\u001b[39m np\u001b[38;5;241m.\u001b[39marray([[\u001b[38;5;241m10\u001b[39m, \u001b[38;5;241m20\u001b[39m],[\u001b[38;5;241m1\u001b[39m,\u001b[38;5;241m2\u001b[39m],[\u001b[38;5;241m4\u001b[39m,\u001b[38;5;241m5\u001b[39m]])\n\u001b[0;32m----> 4\u001b[0m result \u001b[38;5;241m=\u001b[39m arr1 \u001b[38;5;241m+\u001b[39m arr2  \u001b[38;5;66;03m# Broadcasting arr2 to match the shape of arr1\u001b[39;00m\n\u001b[1;32m      6\u001b[0m \u001b[38;5;28mprint\u001b[39m(result)\n",
      "\u001b[0;31mValueError\u001b[0m: operands could not be broadcast together with shapes (2,3) (3,2) "
     ]
    }
   ],
   "source": [
    "arr1 = np.array([[1, 2, 3],[4,5,6]])\n",
    "arr2 = np.array([[10, 20],[1,2],[4,5]])\n",
    "\n",
    "result = arr1 + arr2  # Broadcasting arr2 to match the shape of arr1\n",
    "\n",
    "print(result)"
   ]
  },
  {
   "cell_type": "code",
   "execution_count": 69,
   "id": "dc489f9d",
   "metadata": {},
   "outputs": [
    {
     "name": "stdout",
     "output_type": "stream",
     "text": [
      "[[11 12 13]\n",
      " [21 22 23]]\n"
     ]
    }
   ],
   "source": [
    "arr1 = np.array([1, 2, 3])\n",
    "arr2 = np.array([[10],[20]])\n",
    "\n",
    "result = arr1 + arr2  # Broadcasting arr2 to match the shape of arr1\n",
    "\n",
    "print(result)"
   ]
  },
  {
   "cell_type": "code",
   "execution_count": 76,
   "id": "cb81d569",
   "metadata": {},
   "outputs": [
    {
     "name": "stdout",
     "output_type": "stream",
     "text": [
      "(3, 1)\n",
      "\n",
      "(2, 1)\n"
     ]
    },
    {
     "ename": "ValueError",
     "evalue": "operands could not be broadcast together with shapes (3,1) (2,1) ",
     "output_type": "error",
     "traceback": [
      "\u001b[0;31m---------------------------------------------------------------------------\u001b[0m",
      "\u001b[0;31mValueError\u001b[0m                                Traceback (most recent call last)",
      "Cell \u001b[0;32mIn[76], line 6\u001b[0m\n\u001b[1;32m      4\u001b[0m \u001b[38;5;28mprint\u001b[39m()\n\u001b[1;32m      5\u001b[0m \u001b[38;5;28mprint\u001b[39m(arr2\u001b[38;5;241m.\u001b[39mshape)\n\u001b[0;32m----> 6\u001b[0m result \u001b[38;5;241m=\u001b[39m arr1 \u001b[38;5;241m+\u001b[39m arr2  \u001b[38;5;66;03m# Broadcasting arr2 to match the shape of arr1\u001b[39;00m\n\u001b[1;32m      8\u001b[0m \u001b[38;5;28mprint\u001b[39m(result)\n",
      "\u001b[0;31mValueError\u001b[0m: operands could not be broadcast together with shapes (3,1) (2,1) "
     ]
    }
   ],
   "source": [
    "arr1 = np.array([[1],[4],[5]])\n",
    "arr2 = np.array([[10],[5]])\n",
    "print(arr1.shape)\n",
    "print()\n",
    "print(arr2.shape)\n",
    "result = arr1 + arr2  # Broadcasting arr2 to match the shape of arr1\n",
    "\n",
    "print(result)"
   ]
  },
  {
   "cell_type": "code",
   "execution_count": 88,
   "id": "64a47f69",
   "metadata": {},
   "outputs": [
    {
     "name": "stdout",
     "output_type": "stream",
     "text": [
      "(3, 1)\n",
      "\n",
      "(3, 1)\n",
      "[[11]\n",
      " [ 9]\n",
      " [ 8]]\n"
     ]
    }
   ],
   "source": [
    "arr1 = np.array([[1],[4],[5]])\n",
    "arr2 = np.array([[10],[5],[3]])\n",
    "print(arr1.shape)\n",
    "print()\n",
    "print(arr2.shape)\n",
    "result = arr1 + arr2  # Broadcasting arr2 to match the shape of arr1\n",
    "\n",
    "print(result)"
   ]
  },
  {
   "cell_type": "code",
   "execution_count": 81,
   "id": "ed9df2df",
   "metadata": {},
   "outputs": [
    {
     "name": "stdout",
     "output_type": "stream",
     "text": [
      "(2,)\n",
      "\n",
      "(3, 2)\n",
      "[[11 22]\n",
      " [ 3  6]\n",
      " [ 6 12]]\n"
     ]
    }
   ],
   "source": [
    "arr1 = np.array([1,2])\n",
    "arr2 = np.array([[10,20],[2,4],[5,10]])\n",
    "print(arr1.shape)\n",
    "print()\n",
    "print(arr2.shape)\n",
    "# result = arr1 + arr2  # Broadcasting arr2 to match the shape of arr1\n",
    "print(arr1+arr2)\n",
    "# print(result)"
   ]
  },
  {
   "cell_type": "code",
   "execution_count": 83,
   "id": "20defa3b",
   "metadata": {},
   "outputs": [
    {
     "name": "stdout",
     "output_type": "stream",
     "text": [
      "(2, 1)\n",
      "\n",
      "(2, 3)\n",
      "\n",
      "[[22 32 32]\n",
      " [15 17 47]]\n"
     ]
    }
   ],
   "source": [
    "arr1 = np.array([[12],[13]])\n",
    "arr2 = np.array([[10,20,20],[2,4,34]])\n",
    "print(arr1.shape)\n",
    "print()\n",
    "print(arr2.shape)\n",
    "print()\n",
    "# result = arr1 + arr2  # Broadcasting arr2 to match the shape of arr1\n",
    "print(arr1+arr2)\n",
    "# print(result)"
   ]
  },
  {
   "cell_type": "code",
   "execution_count": 86,
   "id": "321ede96",
   "metadata": {},
   "outputs": [
    {
     "name": "stdout",
     "output_type": "stream",
     "text": [
      "(3, 2)\n",
      "\n",
      "(2, 2)\n"
     ]
    },
    {
     "ename": "ValueError",
     "evalue": "operands could not be broadcast together with shapes (3,2) (2,2) ",
     "output_type": "error",
     "traceback": [
      "\u001b[0;31m---------------------------------------------------------------------------\u001b[0m",
      "\u001b[0;31mValueError\u001b[0m                                Traceback (most recent call last)",
      "Cell \u001b[0;32mIn[86], line 7\u001b[0m\n\u001b[1;32m      5\u001b[0m \u001b[38;5;28mprint\u001b[39m(arr2\u001b[38;5;241m.\u001b[39mshape)\n\u001b[1;32m      6\u001b[0m \u001b[38;5;66;03m# result = arr1 + arr2  # Broadcasting arr2 to match the shape of arr1\u001b[39;00m\n\u001b[0;32m----> 7\u001b[0m \u001b[38;5;28mprint\u001b[39m(arr1\u001b[38;5;241m+\u001b[39marr2)\n",
      "\u001b[0;31mValueError\u001b[0m: operands could not be broadcast together with shapes (3,2) (2,2) "
     ]
    }
   ],
   "source": [
    "arr1 = np.array([[1,2],[2,1],[3,1]])\n",
    "arr2 = np.array([[10,20],[2,4]])\n",
    "print(arr1.shape)\n",
    "print()\n",
    "print(arr2.shape)\n",
    "# result = arr1 + arr2  # Broadcasting arr2 to match the shape of arr1\n",
    "print(arr1+arr2)\n",
    "# print(result)"
   ]
  },
  {
   "cell_type": "code",
   "execution_count": 87,
   "id": "3ccfbded",
   "metadata": {},
   "outputs": [
    {
     "name": "stdout",
     "output_type": "stream",
     "text": [
      "(3, 2)\n",
      "\n",
      "(2,)\n",
      "[[11 22]\n",
      " [12 21]\n",
      " [13 21]]\n"
     ]
    }
   ],
   "source": [
    "arr1 = np.array([[1,2],[2,1],[3,1]])\n",
    "arr2 = np.array([10,20])\n",
    "print(arr1.shape)\n",
    "print()\n",
    "print(arr2.shape)\n",
    "# result = arr1 + arr2  # Broadcasting arr2 to match the shape of arr1\n",
    "print(arr1+arr2)\n",
    "# print(result)"
   ]
  },
  {
   "cell_type": "code",
   "execution_count": 89,
   "id": "0d75760a",
   "metadata": {},
   "outputs": [
    {
     "name": "stdout",
     "output_type": "stream",
     "text": [
      "(3, 2)\n",
      "\n",
      "(3,)\n"
     ]
    },
    {
     "ename": "ValueError",
     "evalue": "operands could not be broadcast together with shapes (3,2) (3,) ",
     "output_type": "error",
     "traceback": [
      "\u001b[0;31m---------------------------------------------------------------------------\u001b[0m",
      "\u001b[0;31mValueError\u001b[0m                                Traceback (most recent call last)",
      "Cell \u001b[0;32mIn[89], line 6\u001b[0m\n\u001b[1;32m      4\u001b[0m \u001b[38;5;28mprint\u001b[39m()\n\u001b[1;32m      5\u001b[0m \u001b[38;5;28mprint\u001b[39m(arr2\u001b[38;5;241m.\u001b[39mshape)\n\u001b[0;32m----> 6\u001b[0m result \u001b[38;5;241m=\u001b[39m arr1 \u001b[38;5;241m+\u001b[39m arr2  \u001b[38;5;66;03m# Broadcasting arr2 to match the shape of arr1\u001b[39;00m\n\u001b[1;32m      8\u001b[0m \u001b[38;5;28mprint\u001b[39m(result)\n",
      "\u001b[0;31mValueError\u001b[0m: operands could not be broadcast together with shapes (3,2) (3,) "
     ]
    }
   ],
   "source": [
    "arr1 = np.array([[1,2],[4,2],[5,3]])\n",
    "arr2 = np.array([2,3,10])\n",
    "print(arr1.shape)\n",
    "print()\n",
    "print(arr2.shape)\n",
    "result = arr1 + arr2  # Broadcasting arr2 to match the shape of arr1\n",
    "\n",
    "print(result)"
   ]
  },
  {
   "cell_type": "code",
   "execution_count": 90,
   "id": "909ad58d",
   "metadata": {},
   "outputs": [
    {
     "name": "stdout",
     "output_type": "stream",
     "text": [
      "(1,)\n",
      "\n",
      "(3,)\n",
      "[ 3  4 11]\n"
     ]
    }
   ],
   "source": [
    "arr1 = np.array([1])\n",
    "arr2 = np.array([2,3,10])\n",
    "print(arr1.shape)\n",
    "print()\n",
    "print(arr2.shape)\n",
    "result = arr1 + arr2  # Broadcasting arr2 to match the shape of arr1\n",
    "\n",
    "print(result)"
   ]
  },
  {
   "cell_type": "code",
   "execution_count": 92,
   "id": "496810e8",
   "metadata": {},
   "outputs": [
    {
     "name": "stdout",
     "output_type": "stream",
     "text": [
      "(3, 2)\n",
      "\n",
      "(2,)\n",
      "[[20 40]\n",
      " [40 60]\n",
      " [60 80]]\n"
     ]
    }
   ],
   "source": [
    "arr1 = np.array([[10,20],[30,40],[50,60]])\n",
    "arr2 = np.array([10,20])\n",
    "print(arr1.shape)\n",
    "print()\n",
    "print(arr2.shape)\n",
    "result = arr1 + arr2  # Broadcasting arr2 to match the shape of arr1\n",
    "\n",
    "print(result)"
   ]
  },
  {
   "cell_type": "code",
   "execution_count": 93,
   "id": "0c6901de",
   "metadata": {},
   "outputs": [
    {
     "name": "stdout",
     "output_type": "stream",
     "text": [
      "(3, 1)\n",
      "\n",
      "(3,)\n",
      "[[ 3  4 11]\n",
      " [ 6  7 14]\n",
      " [ 7  8 15]]\n"
     ]
    }
   ],
   "source": [
    "arr1 = np.array([[1],[4],[5]])\n",
    "arr2 = np.array([2,3,10])\n",
    "print(arr1.shape)\n",
    "print()\n",
    "print(arr2.shape)\n",
    "result = arr1 + arr2  # Broadcasting arr2 to match the shape of arr1\n",
    "\n",
    "print(result)"
   ]
  },
  {
   "cell_type": "markdown",
   "id": "55c19425",
   "metadata": {},
   "source": [
    "## Indexing "
   ]
  },
  {
   "cell_type": "code",
   "execution_count": 94,
   "id": "03158fed",
   "metadata": {},
   "outputs": [
    {
     "name": "stdout",
     "output_type": "stream",
     "text": [
      "30\n"
     ]
    }
   ],
   "source": [
    "var = np.array([10,20,30,40])\n",
    "                #0 ,1, 2 , 3\n",
    "print(var[2])\n"
   ]
  },
  {
   "cell_type": "code",
   "execution_count": 95,
   "id": "17690504",
   "metadata": {},
   "outputs": [
    {
     "name": "stdout",
     "output_type": "stream",
     "text": [
      "30\n"
     ]
    }
   ],
   "source": [
    "# negative indeing \n",
    "var = np.array([10,20,30,40])\n",
    "              #-4,-3,-2,-1\n",
    "print(var[-2])\n"
   ]
  },
  {
   "cell_type": "markdown",
   "id": "1a98c39b",
   "metadata": {},
   "source": [
    "### 2D array index  "
   ]
  },
  {
   "cell_type": "markdown",
   "id": "32cd0299",
   "metadata": {},
   "source": [
    "To access data in a 2D NumPy array, you can use indexing and slicing. Here's an example of how to access and manipulate data in a 2D array:\n",
    "\n"
   ]
  },
  {
   "cell_type": "code",
   "execution_count": 97,
   "id": "ac2f138f",
   "metadata": {},
   "outputs": [
    {
     "name": "stdout",
     "output_type": "stream",
     "text": [
      "Value at row 0, column 1: 2\n",
      "First row: [1 2 3]\n",
      "Second column: [2 5 8]\n",
      "Sub-array from rows 0 to 1, columns 1 to 2:\n",
      "[[2 3]\n",
      " [5 6]]\n",
      "Modified array:\n",
      "[[ 1  2  3]\n",
      " [ 4  5 10]\n",
      " [ 7  8  9]]\n"
     ]
    }
   ],
   "source": [
    "# Create a 2D NumPy array\n",
    "arr_2d = np.array([[1, 2, 3],\n",
    "                  [4, 5, 6],\n",
    "                  [7, 8, 9]])\n",
    "\n",
    "# Accessing individual elements\n",
    "print(\"Value at row 0, column 1:\", arr_2d[0, 1])  # Accessing element at row 0, column 1\n",
    "\n",
    "# Slicing rows and columns\n",
    "print(\"First row:\", arr_2d[0, :])  # Accessing the first row\n",
    "print(\"Second column:\", arr_2d[:, 1])  # Accessing the second column\n",
    "\n",
    "# Slicing sub-arrays\n",
    "print(\"Sub-array from rows 0 to 1, columns 1 to 2:\")\n",
    "print(arr_2d[0:2, 1:3])  # Slicing a sub-array from rows 0 to 1 and columns 1 to 2\n",
    "\n",
    "# Modifying elements\n",
    "arr_2d[1, 2] = 10  # Modifying element at row 1, column 2\n",
    "print(\"Modified array:\")\n",
    "print(arr_2d)"
   ]
  },
  {
   "cell_type": "code",
   "execution_count": null,
   "id": "96aea356",
   "metadata": {},
   "outputs": [],
   "source": [
    "In this example, we create a 2D NumPy array arr_2d and demonstrate how to access elements \n",
    "using indexing and slicing. You can access individual elements using the \n",
    "syntax arr_2d[row_index, column_index], and you can slice rows or columns\n",
    "using arr_2d[start_row:end_row, start_column:end_column]. Modifying elements \n",
    "is as simple as assigning a new value to the desired location.\n",
    "\n",
    "These operations are fundamental for working with data in 2D arrays, and they\n",
    "can be used in various data analysis, scientific computing, and machine learning tasks.\n",
    "\n",
    "\n",
    "\n",
    "\n",
    "\n"
   ]
  },
  {
   "cell_type": "markdown",
   "id": "11cac3e2",
   "metadata": {},
   "source": [
    "### 3D numpy array indexing"
   ]
  },
  {
   "cell_type": "code",
   "execution_count": 98,
   "id": "35b48047",
   "metadata": {},
   "outputs": [
    {
     "name": "stdout",
     "output_type": "stream",
     "text": [
      "2\n"
     ]
    }
   ],
   "source": [
    "var = np.array([[[1,2],[6,7]]])\n",
    "print(var[0,0,1])"
   ]
  },
  {
   "cell_type": "code",
   "execution_count": 99,
   "id": "956e1b11",
   "metadata": {},
   "outputs": [
    {
     "name": "stdout",
     "output_type": "stream",
     "text": [
      "6\n"
     ]
    }
   ],
   "source": [
    "var = np.array([[[1,2,3],[4,5,6],[7,8,9]],[[1,2,3],[4,5,6],[7,8,9]]])\n",
    "print(var[1,1,2])"
   ]
  },
  {
   "cell_type": "markdown",
   "id": "c8f875cd",
   "metadata": {},
   "source": [
    "\n",
    "Creating and working with 3D NumPy arrays involves managing data in a three-dimensional space. You can create, manipulate, and access elements in 3D arrays similarly to 2D arrays. Here's an example demonstrating the creation and basic operations on a 3D array:"
   ]
  },
  {
   "cell_type": "code",
   "execution_count": null,
   "id": "b5cdee61",
   "metadata": {},
   "outputs": [],
   "source": [
    "# Create a 3D NumPy array\n",
    "arr_3d = np.array([[[1, 2, 3],\n",
    "                    [4, 5, 6]],\n",
    "                   [[7, 8, 9],\n",
    "                    [10, 11, 12]],\n",
    "                   [[13, 14, 15],\n",
    "                    [16, 17, 18]]])\n",
    "\n",
    "# Accessing individual elements\n",
    "print(\"Value at position (1, 0, 2):\", arr_3d[1, 0, 2])  # Accessing element at position (1, 0, 2)\n",
    "\n",
    "# Slicing along different axes\n",
    "print(\"First 'slice' along the first axis:\")\n",
    "print(arr_3d[0, :, :])  # Accessing the first \"slice\" along the first axis\n",
    "\n",
    "print(\"Second 'slice' along the second axis:\")\n",
    "print(arr_3d[:, 1, :])  # Accessing the second \"slice\" along the second axis\n",
    "\n",
    "print(\"Third 'slice' along the third axis:\")\n",
    "print(arr_3d[:, :, 2])  # Accessing the third \"slice\" along the third axis\n",
    "\n",
    "# Modifying elements\n",
    "arr_3d[2, 1, 0] = 20  # Modifying element at position (2, 1, 0)\n",
    "print(\"Modified array:\")\n",
    "print(arr_3d)"
   ]
  },
  {
   "cell_type": "code",
   "execution_count": null,
   "id": "c92a0e52",
   "metadata": {},
   "outputs": [],
   "source": [
    "In this example, we create a 3D NumPy array arr_3d and demonstrate how to access elements \n",
    "using indexing and slicing along different axes. You can access individual elements using \n",
    "the syntax arr_3d[x, y, z], where x, y, and z represent the indices along each dimension.\n",
    "Slicing works similarly to 2D arrays, but now you have an additional axis to consider.\n",
    "\n",
    "Understanding how to work with 3D arrays is crucial for various tasks, including image\n",
    "processing, volumetric data processing, and other applications involving three-dimensional \n",
    "data.\n"
   ]
  },
  {
   "cell_type": "markdown",
   "id": "bb07336c",
   "metadata": {},
   "source": [
    "### Slicing in numpy "
   ]
  },
  {
   "cell_type": "code",
   "execution_count": null,
   "id": "6ea6057c",
   "metadata": {},
   "outputs": [],
   "source": [
    "Sure, slicing in NumPy is the operation of extracting specific elements from an array. \n",
    "It allows you to create views on the original array, which means that the data is not \n",
    "copied, and any modifications to the sliced array will affect the original array.\n",
    "Slicing is performed using the colon (:) operator within square brackets, and it allows\n",
    "for a versatile way of accessing different parts of the array.\n",
    "\n",
    "#Here are the key components of slicing in NumPy:\n",
    "\n",
    "Start, Stop, and Step: The general form of slicing is start:stop:step. These parameters \n",
    "are optional and have default values. The start parameter indicates the starting index \n",
    "of the slice, the stop parameter indicates the ending index (exclusive), and the step\n",
    "parameter indicates the step size between elements.\n",
    "\n",
    "Positive and Negative Indices: NumPy allows the use of negative indices, where -1 refers \n",
    "to the last element, -2 refers to the second-to-last element, and so on.\n",
    "\n",
    "Slicing Multi-dimensional Arrays: For multi-dimensional arrays, you can use slicing\n",
    "along different axes. For example, you can slice rows, columns, or specific elements \n",
    "based on their indices.\n",
    "\n",
    "Slicing is a powerful tool in NumPy, making it easy to manipulate and extract specific\n",
    "data from arrays without the need for cumbersome loops or iterations.\n",
    "It's a fundamental technique for various numerical operations and data processing\n",
    "tasks in scientific computing and data analysis."
   ]
  },
  {
   "cell_type": "code",
   "execution_count": 100,
   "id": "407f6e91",
   "metadata": {},
   "outputs": [
    {
     "name": "stdout",
     "output_type": "stream",
     "text": [
      "[20 40 60 80]\n"
     ]
    }
   ],
   "source": [
    "var = np.array([10,20,30,40,50,60,70,80,90,100])\n",
    "                #0 1, 2 ,3, 4, 5, 6, 7, 8 , 9 \n",
    "# print(start:stop:step)\n",
    "print(var[1:8:2])\n"
   ]
  },
  {
   "cell_type": "code",
   "execution_count": 101,
   "id": "a214d6b1",
   "metadata": {},
   "outputs": [
    {
     "name": "stdout",
     "output_type": "stream",
     "text": [
      "[3 4 5 6 7]\n",
      "[1 2 3 4 5]\n",
      "[ 3  4  5  6  7  8  9 10]\n",
      "[2 4 6 8]\n"
     ]
    }
   ],
   "source": [
    "# Example of slicing with start, stop, and step\n",
    "arr = np.array([1, 2, 3, 4, 5, 6, 7, 8, 9, 10])\n",
    "print(arr[2:7])  # Slicing elements from index 2 to 6 (7 is exclusive)\n",
    "# Output: [3 4 5 6 7]\n",
    "\n",
    "print(arr[:5])  # Slicing elements from the start to index 4 (5 is exclusive)\n",
    "# Output: [1 2 3 4 5]\n",
    "\n",
    "print(arr[2:])  # Slicing elements from index 2 to the end\n",
    "# Output: [3 4 5 6 7 8 9 10]\n",
    "\n",
    "print(arr[1:8:2])  # Slicing elements from index 1 to 7 with step size 2\n",
    "# Output: [2 4 6 8]"
   ]
  },
  {
   "cell_type": "markdown",
   "id": "2fa68d12",
   "metadata": {},
   "source": [
    "####   Positive and Negative Indices:\n",
    " "
   ]
  },
  {
   "cell_type": "markdown",
   "id": "b1f6b213",
   "metadata": {},
   "source": [
    "Positive indices refer to the positions of elements from the beginning, starting at 0. Negative indices count from the end, with -1 being the last element, -2 being the second-to-last element, and so forth.\n",
    "\n"
   ]
  },
  {
   "cell_type": "code",
   "execution_count": 102,
   "id": "d502aeca",
   "metadata": {},
   "outputs": [
    {
     "name": "stdout",
     "output_type": "stream",
     "text": [
      "12\n",
      "15\n"
     ]
    }
   ],
   "source": [
    "arr = np.array([11, 12, 13, 14, 15])\n",
    "\n",
    "# Example of positive and negative indices\n",
    "print(arr[1])  # Accessing element at index 1\n",
    "# Output: 12\n",
    "\n",
    "print(arr[-1])  # Accessing the last element\n",
    "# Output: 15"
   ]
  },
  {
   "cell_type": "markdown",
   "id": "bdaf634c",
   "metadata": {},
   "source": [
    "####  Slicing Multi-dimensional Arrays:\n",
    " "
   ]
  },
  {
   "cell_type": "code",
   "execution_count": 104,
   "id": "c56a9c0e",
   "metadata": {},
   "outputs": [
    {
     "name": "stdout",
     "output_type": "stream",
     "text": [
      "[5 6 7 8]\n",
      "\n",
      "[ 3  7 11]\n",
      "\n",
      "[[2 3]\n",
      " [6 7]]\n",
      "\n",
      "[[ 1  3]\n",
      " [ 9 11]]\n",
      "\n",
      "[[ 1  2  3  4]\n",
      " [ 5  0  0  8]\n",
      " [ 9  0  0 12]]\n"
     ]
    }
   ],
   "source": [
    "# Creating a 2D array\n",
    "arr_2d = np.array([[1, 2, 3, 4],\n",
    "                   [5, 6, 7, 8],\n",
    "                   [9, 10, 11, 12]])\n",
    "\n",
    "# Slicing rows and columns\n",
    "print(arr_2d[1])  # Accessing the second row\n",
    "# Output: [5 6 7 8]\n",
    "print()\n",
    "print(arr_2d[:, 2])  # Accessing the third column\n",
    "# Output: [3 7 11]\n",
    "print()\n",
    "print(arr_2d[0:2, 1:3])  # Slicing a sub-array from the first two rows and the second and third columns\n",
    "# Output:\n",
    "# [[2 3]\n",
    "#  [6 7]]\n",
    "print()\n",
    "# Using step in slicing\n",
    "print(arr_2d[::2, ::2])  # Slicing every other row and every other column\n",
    "# Output:\n",
    "# [[1 3]\n",
    "#  [9 11]]\n",
    "print()\n",
    "# Modifying elements through slicing\n",
    "arr_2d[1:, 1:3] = 0  # Setting elements in the second and third rows, and second and third columns to 0\n",
    "print(arr_2d)\n",
    "# Output:\n",
    "# [[1 2 3 4]\n",
    "#  [5 0 0 8]\n",
    "#  [9 0 0 12]]\n"
   ]
  },
  {
   "cell_type": "code",
   "execution_count": 105,
   "id": "13549c67",
   "metadata": {},
   "outputs": [
    {
     "name": "stdout",
     "output_type": "stream",
     "text": [
      "[6 7 8]\n"
     ]
    }
   ],
   "source": [
    "arr_2d = np.array([[1, 2, 3, 4],\n",
    "                   [5, 6, 7, 8],\n",
    "                   [9, 10, 11, 12],\n",
    "                   [1, 2, 3, 4],\n",
    "                   [5, 6, 7, 8],\n",
    "                   [9, 10, 11, 12]])\n",
    "print(arr_2d[1,1:])"
   ]
  },
  {
   "cell_type": "code",
   "execution_count": 106,
   "id": "cb038607",
   "metadata": {},
   "outputs": [
    {
     "name": "stdout",
     "output_type": "stream",
     "text": [
      "[10 11 12]\n"
     ]
    }
   ],
   "source": [
    "arr_2d = np.array([[1, 2, 3, 4],\n",
    "                   [5, 6, 7, 8],\n",
    "                   [9, 10, 11, 12],\n",
    "                   [1, 2, 3, 4],\n",
    "                   [5, 6, 7, 8],\n",
    "                   [9, 10, 11, 12]])\n",
    "print(arr_2d[5,1:])"
   ]
  },
  {
   "cell_type": "markdown",
   "id": "a90a204d",
   "metadata": {},
   "source": [
    "## Iteration in numpy "
   ]
  },
  {
   "cell_type": "code",
   "execution_count": 107,
   "id": "095ca4f7",
   "metadata": {},
   "outputs": [
    {
     "name": "stdout",
     "output_type": "stream",
     "text": [
      "1\n",
      "2\n",
      "3\n",
      "4\n",
      "5\n",
      "6\n",
      "7\n",
      "8\n",
      "9\n"
     ]
    }
   ],
   "source": [
    "var = np.array([1,2,3,4,5,6,7,8,9])\n",
    "for i in var:\n",
    "    print(i)"
   ]
  },
  {
   "cell_type": "code",
   "execution_count": 109,
   "id": "7fca35d8",
   "metadata": {},
   "outputs": [
    {
     "name": "stdout",
     "output_type": "stream",
     "text": [
      "[[1 2 3 4]\n",
      " [5 6 7 8]]\n"
     ]
    }
   ],
   "source": [
    "var = np.array([[1,2,3,4],[5,6,7,8]])\n",
    "print(var)"
   ]
  },
  {
   "cell_type": "code",
   "execution_count": 111,
   "id": "6a96a10f",
   "metadata": {},
   "outputs": [
    {
     "name": "stdout",
     "output_type": "stream",
     "text": [
      "[[1 2 3 4]\n",
      " [5 6 7 8]]\n",
      "1\n",
      "2\n",
      "3\n",
      "4\n",
      "\n",
      "5\n",
      "6\n",
      "7\n",
      "8\n",
      "\n"
     ]
    }
   ],
   "source": [
    "var = np.array([[1,2,3,4],[5,6,7,8]])\n",
    "print(var)\n",
    "\n",
    "for i in var:\n",
    "    for j in i:\n",
    "        print(j)\n",
    "    print()    "
   ]
  },
  {
   "cell_type": "code",
   "execution_count": 118,
   "id": "7becb956",
   "metadata": {},
   "outputs": [
    {
     "name": "stdout",
     "output_type": "stream",
     "text": [
      "3\n",
      "\n",
      "[[[ 1  2  3  4  5]\n",
      "  [ 6  7  8  9 10]]\n",
      "\n",
      " [[11 12 13 14 15]\n",
      "  [ 2  4  5  7  9]]]\n",
      "\n",
      "1\n",
      "2\n",
      "3\n",
      "4\n",
      "5\n",
      "\n",
      "6\n",
      "7\n",
      "8\n",
      "9\n",
      "10\n",
      "\n",
      "11\n",
      "12\n",
      "13\n",
      "14\n",
      "15\n",
      "\n",
      "2\n",
      "4\n",
      "5\n",
      "7\n",
      "9\n",
      "\n"
     ]
    }
   ],
   "source": [
    "var = np.array([[[1,2,3,4,5],[6,7,8,9,10]],[[11,12,13,14,15],[2,4,5,7,9]]])\n",
    "print(var.ndim)\n",
    "print()\n",
    "print(var)\n",
    "print()\n",
    "for i in var:\n",
    "    for j in i:\n",
    "        for k in j:\n",
    "            print(k)\n",
    "        print()\n",
    "    "
   ]
  },
  {
   "cell_type": "code",
   "execution_count": 121,
   "id": "b0e8480e",
   "metadata": {},
   "outputs": [
    {
     "name": "stdout",
     "output_type": "stream",
     "text": [
      "3\n",
      "\n",
      "1\n",
      "2\n",
      "3\n",
      "4\n",
      "5\n",
      "6\n",
      "7\n",
      "8\n",
      "9\n",
      "10\n",
      "11\n",
      "12\n",
      "13\n",
      "14\n",
      "15\n",
      "2\n",
      "4\n",
      "5\n",
      "7\n",
      "9\n"
     ]
    }
   ],
   "source": [
    "var = np.array([[[1,2,3,4,5],[6,7,8,9,10]],[[11,12,13,14,15],[2,4,5,7,9]]])\n",
    "\n",
    "print(var.ndim)\n",
    "print()\n",
    "for i in np.nditer(var):\n",
    "    print(i)"
   ]
  },
  {
   "cell_type": "code",
   "execution_count": 125,
   "id": "a66a9799",
   "metadata": {},
   "outputs": [
    {
     "name": "stdout",
     "output_type": "stream",
     "text": [
      "b'1'\n",
      "b'2'\n",
      "b'3'\n",
      "b'4'\n",
      "b'5'\n",
      "b'6'\n",
      "b'7'\n",
      "b'8'\n",
      "b'9'\n",
      "b'10'\n",
      "b'11'\n",
      "b'12'\n",
      "b'13'\n",
      "b'14'\n",
      "b'15'\n",
      "b'2'\n",
      "b'4'\n",
      "b'5'\n",
      "b'7'\n",
      "b'9'\n",
      "int64\n"
     ]
    }
   ],
   "source": [
    "var = np.array([[[1,2,3,4,5],[6,7,8,9,10]],[[11,12,13,14,15],[2,4,5,7,9]]])\n",
    "\n",
    "for i in np.nditer(var, flags = ['buffered'], op_dtypes = 'S'):\n",
    "    print(i) \n",
    "print(var.dtype)    "
   ]
  },
  {
   "cell_type": "code",
   "execution_count": 129,
   "id": "f4430a3f",
   "metadata": {},
   "outputs": [
    {
     "name": "stdout",
     "output_type": "stream",
     "text": [
      "(0,) 10\n",
      "(1,) 20\n",
      "(2,) 30\n",
      "(3,) 40\n",
      "(4,) 50\n"
     ]
    }
   ],
   "source": [
    "var = np.array([10,20,30,40,50])\n",
    "for val,index in np.ndenumerate(var):\n",
    "    print(val,index)"
   ]
  },
  {
   "cell_type": "code",
   "execution_count": 130,
   "id": "dc0c614e",
   "metadata": {},
   "outputs": [
    {
     "name": "stdout",
     "output_type": "stream",
     "text": [
      "(0, 0) 11\n",
      "(0, 1) 23\n",
      "(0, 2) 45\n",
      "(0, 3) 67\n",
      "(1, 0) 45\n",
      "(1, 1) 32\n",
      "(1, 2) 13\n",
      "(1, 3) 40\n"
     ]
    }
   ],
   "source": [
    "var = np.array([[11,23,45,67],[45,32,13,40]])\n",
    "for val,index in np.ndenumerate(var):\n",
    "    print(val,index)"
   ]
  },
  {
   "cell_type": "code",
   "execution_count": 131,
   "id": "0c59f7ba",
   "metadata": {},
   "outputs": [
    {
     "name": "stdout",
     "output_type": "stream",
     "text": [
      "(0, 0, 0) 11\n",
      "(0, 0, 1) 23\n",
      "(0, 0, 2) 45\n",
      "(0, 0, 3) 67\n",
      "(0, 1, 0) 45\n",
      "(0, 1, 1) 32\n",
      "(0, 1, 2) 13\n",
      "(0, 1, 3) 40\n"
     ]
    }
   ],
   "source": [
    "var = np.array([[[11,23,45,67],[45,32,13,40]]])\n",
    "for val,index in np.ndenumerate(var):\n",
    "    print(val,index)"
   ]
  },
  {
   "cell_type": "markdown",
   "id": "3a6dc041",
   "metadata": {},
   "source": [
    "### copy & view "
   ]
  },
  {
   "cell_type": "code",
   "execution_count": 132,
   "id": "fe32d5c1",
   "metadata": {},
   "outputs": [
    {
     "name": "stdout",
     "output_type": "stream",
     "text": [
      "[15  8  3  5 90]\n",
      "\n",
      "[15  8  3  5 90]\n"
     ]
    }
   ],
   "source": [
    "var = np.array([15,8,3,5,90])\n",
    "cpy = var.copy()\n",
    "print(var)\n",
    "print()\n",
    "print(cpy)"
   ]
  },
  {
   "cell_type": "code",
   "execution_count": 133,
   "id": "ad29b215",
   "metadata": {},
   "outputs": [
    {
     "name": "stdout",
     "output_type": "stream",
     "text": [
      "[15  8  3  5 90]\n",
      "\n",
      "[15  8  3  5 90]\n"
     ]
    }
   ],
   "source": [
    "var = np.array([15,8,3,5,90])\n",
    "vew = var.view()\n",
    "print(var)\n",
    "print()\n",
    "print(vew)"
   ]
  },
  {
   "cell_type": "markdown",
   "id": "523a1bf1",
   "metadata": {},
   "source": [
    "#### diff b/w copy & view "
   ]
  },
  {
   "cell_type": "code",
   "execution_count": null,
   "id": "53468169",
   "metadata": {},
   "outputs": [],
   "source": [
    "#Copy in NumPy:\n",
    "A copy is a new array that is created in a different location in memory.\n",
    "It is completely independent of the original array, and changes made to\n",
    "the copy do not affect the original array.\n",
    "\n",
    "Modifying the copied array does not affect the original array, and vice versa.\n",
    "\n",
    "To explicitly create a copy of a NumPy array, you can use the copy() method.\n",
    "#------------------------------------------------------------------------------\n",
    "#View in NumPy:\n",
    "A view is a new array that refers to the same data as the original array. \n",
    "It is a shallow copy in the sense that it shares the same data buffer as \n",
    "the original array.\n",
    "\n",
    "Modifying the view will affect the original array, and changes made to the original \n",
    "array will be reflected in the view.\n",
    "\n",
    "Views can be created using slicing or using the view() method.\n"
   ]
  },
  {
   "cell_type": "code",
   "execution_count": 135,
   "id": "368c00a6",
   "metadata": {},
   "outputs": [
    {
     "name": "stdout",
     "output_type": "stream",
     "text": [
      "[15  8  3  5 90]\n",
      "\n",
      "[15  8  7  5 90]\n"
     ]
    }
   ],
   "source": [
    "var = np.array([15,8,3,5,90])\n",
    "cpy = var.copy()\n",
    "print(var)\n",
    "print()\n",
    "cpy[2] = 7\n",
    "print(cpy)"
   ]
  },
  {
   "cell_type": "code",
   "execution_count": 147,
   "id": "c9e81336",
   "metadata": {},
   "outputs": [
    {
     "name": "stdout",
     "output_type": "stream",
     "text": [
      "[15  7  3  5 90]\n",
      "\n",
      "[15  7  3  5 90]\n"
     ]
    }
   ],
   "source": [
    "var = np.array([15,8,3,5,90])\n",
    "vew = var.view()\n",
    "vew[1] = 7\n",
    "print(var)\n",
    "print()\n",
    "print(vew)"
   ]
  },
  {
   "cell_type": "markdown",
   "id": "db4a8b0f",
   "metadata": {},
   "source": [
    "## join & split in numpy "
   ]
  },
  {
   "cell_type": "markdown",
   "id": "42b7b426",
   "metadata": {},
   "source": [
    "#### Join array "
   ]
  },
  {
   "cell_type": "code",
   "execution_count": 149,
   "id": "60cfaab6",
   "metadata": {},
   "outputs": [
    {
     "name": "stdout",
     "output_type": "stream",
     "text": [
      "[ 1  2  3  4 11 12 13 14]\n"
     ]
    }
   ],
   "source": [
    "#1D Array\n",
    "var1 = np.array([1,2,3,4])\n",
    "var2 = np.array([11,12,13,14])\n",
    "\n",
    "v_new = np.concatenate((var1,var2))\n",
    "print(v_new)\n"
   ]
  },
  {
   "cell_type": "code",
   "execution_count": 151,
   "id": "e944f20e",
   "metadata": {},
   "outputs": [
    {
     "name": "stdout",
     "output_type": "stream",
     "text": [
      "2\n",
      "\n",
      "[[ 1  2  3  4 11 12 13 14]\n",
      " [ 5  6  7  8 15 16 17 18]]\n"
     ]
    }
   ],
   "source": [
    "#2D array\n",
    "var1= np.array([[1,2,3,4],[5,6,7,8]])\n",
    "var2= np.array([[11,12,13,14],[15,16,17,18]])\n",
    "\n",
    "\n",
    "v_new = np.concatenate((var1,var2),axis = 1) # it concate column-wise meaning 0f 1 is column\n",
    "print(var1.ndim)\n",
    "print()\n",
    "print(v_new)"
   ]
  },
  {
   "cell_type": "code",
   "execution_count": 152,
   "id": "7a6b37d4",
   "metadata": {},
   "outputs": [
    {
     "name": "stdout",
     "output_type": "stream",
     "text": [
      "2\n",
      "\n",
      "[[ 1  2  3  4]\n",
      " [ 5  6  7  8]\n",
      " [11 12 13 14]\n",
      " [15 16 17 18]]\n"
     ]
    }
   ],
   "source": [
    "#2D array\n",
    "var1= np.array([[1,2,3,4],[5,6,7,8]])\n",
    "var2= np.array([[11,12,13,14],[15,16,17,18]])\n",
    "\n",
    "\n",
    "v_new = np.concatenate((var1,var2),axis = 0) # it concate row-wise meaning 0f 0 is row\n",
    "print(var1.ndim)\n",
    "print()\n",
    "print(v_new)"
   ]
  },
  {
   "cell_type": "markdown",
   "id": "aba48ecf",
   "metadata": {},
   "source": [
    "### using Stack to join array "
   ]
  },
  {
   "cell_type": "code",
   "execution_count": 157,
   "id": "78312b97",
   "metadata": {},
   "outputs": [
    {
     "name": "stdout",
     "output_type": "stream",
     "text": [
      "[[ 1  2  3  4]\n",
      " [11 12 13 14]]\n",
      "\n",
      "[ 1  2  3  4 11 12 13 14]\n",
      "\n",
      "[[ 1  2  3  4]\n",
      " [11 12 13 14]]\n",
      "\n",
      "[[[ 1 11]\n",
      "  [ 2 12]\n",
      "  [ 3 13]\n",
      "  [ 4 14]]]\n"
     ]
    }
   ],
   "source": [
    "#1D Array\n",
    "var1 = np.array([1,2,3,4])\n",
    "var2 = np.array([11,12,13,14])\n",
    "\n",
    "var_axis = np.stack((var1,var2),axis = 0)\n",
    "\n",
    "\n",
    "var_new = np.stack((var1,var2))\n",
    "\n",
    "var_row = np.hstack((var1,var2))\n",
    "var_col = np.vstack((var1,var2))\n",
    "var_height = np.dstack((var1,var2))\n",
    "\n",
    "\n",
    "print(var_new)\n",
    "print()\n",
    "print(var_row)\n",
    "print()\n",
    "print(var_col)\n",
    "print()\n",
    "print(var_height)\n",
    "\n"
   ]
  },
  {
   "cell_type": "markdown",
   "id": "cf57ba5c",
   "metadata": {},
   "source": [
    "### Split in numpy "
   ]
  },
  {
   "cell_type": "code",
   "execution_count": 162,
   "id": "de9ac487",
   "metadata": {},
   "outputs": [
    {
     "name": "stdout",
     "output_type": "stream",
     "text": [
      "[1 2 3 4]\n",
      "\n",
      "[array([1, 2]), array([3]), array([4])]\n",
      "\n",
      "<class 'list'>\n",
      "\n",
      "[1 2]\n",
      "\n",
      "<class 'numpy.ndarray'>\n"
     ]
    }
   ],
   "source": [
    "var = np.array([1,2,3,4])\n",
    "\n",
    "print(var)\n",
    "print()\n",
    "\n",
    "splt = np.array_split(var,3)\n",
    "print(splt)\n",
    "print()\n",
    "\n",
    "print(type(splt))\n",
    "print()\n",
    "\n",
    "print(splt[0])\n",
    "print()\n",
    "\n",
    "print(type(splt[0]))"
   ]
  },
  {
   "cell_type": "code",
   "execution_count": 165,
   "id": "a7c7f308",
   "metadata": {},
   "outputs": [
    {
     "name": "stdout",
     "output_type": "stream",
     "text": [
      "[[1 2 3 4]\n",
      " [5 6 7 8]]\n",
      "\n",
      "[array([[1, 2, 3, 4]]), array([[5, 6, 7, 8]]), array([], shape=(0, 4), dtype=int64)]\n",
      "\n",
      "<class 'list'>\n",
      "\n",
      "[[1 2 3 4]]\n",
      "\n",
      "<class 'numpy.ndarray'>\n"
     ]
    }
   ],
   "source": [
    "var = np.array([[1,2,3,4],[5,6,7,8]])\n",
    "\n",
    "print(var)\n",
    "print()\n",
    "\n",
    "splt = np.array_split(var,3, axis = 0)\n",
    "print(splt)\n",
    "print()\n",
    "\n",
    "print(type(splt))\n",
    "print()\n",
    "\n",
    "print(splt[0])\n",
    "print()\n",
    "\n",
    "print(type(splt[0]))"
   ]
  },
  {
   "cell_type": "markdown",
   "id": "d8feaad4",
   "metadata": {},
   "source": [
    "### Search in array in numpy "
   ]
  },
  {
   "cell_type": "code",
   "execution_count": 166,
   "id": "855daeed",
   "metadata": {},
   "outputs": [
    {
     "name": "stdout",
     "output_type": "stream",
     "text": [
      "(array([ 3, 14, 16, 20]),)\n"
     ]
    }
   ],
   "source": [
    "var = np.array([1,2,3,4,5,6,7,8,3,1,5,8,9,2,4,5,4,1,3,6,4])\n",
    "\n",
    "srch = np.where(var == 4)\n",
    "print(srch)"
   ]
  },
  {
   "cell_type": "code",
   "execution_count": 167,
   "id": "a8991509",
   "metadata": {},
   "outputs": [
    {
     "name": "stdout",
     "output_type": "stream",
     "text": [
      "(array([ 1,  3,  5,  7, 11, 13, 14, 16, 19, 20]),)\n"
     ]
    }
   ],
   "source": [
    "var = np.array([1,2,3,4,5,6,7,8,3,1,5,8,9,2,4,5,4,1,3,6,4])\n",
    "\n",
    "srch = np.where((var%2) == 0)\n",
    "print(srch)"
   ]
  },
  {
   "cell_type": "markdown",
   "id": "ae3f968f",
   "metadata": {},
   "source": [
    "### Search_Sort in numpy array"
   ]
  },
  {
   "cell_type": "markdown",
   "id": "5d52e2af",
   "metadata": {},
   "source": [
    "It gives the index where the element is placed on array\n",
    "It works only in sorted array"
   ]
  },
  {
   "cell_type": "code",
   "execution_count": 173,
   "id": "d7fa5693",
   "metadata": {},
   "outputs": [
    {
     "name": "stdout",
     "output_type": "stream",
     "text": [
      "8\n"
     ]
    }
   ],
   "source": [
    "var = np.array([1,2,3,5,7,9,13,15,20,24,25,29])\n",
    "        # index 0,1 2 3 4 5 6  7  8  9  10 11 \n",
    "srchsot = np.searchsorted(var,19)\n",
    "print(srchsot)"
   ]
  },
  {
   "cell_type": "code",
   "execution_count": 175,
   "id": "462a030a",
   "metadata": {},
   "outputs": [
    {
     "name": "stdout",
     "output_type": "stream",
     "text": [
      "3\n"
     ]
    }
   ],
   "source": [
    "var = np.array([1,2,3,5,7,9,13,15,20,24,25,29])\n",
    "        # index 0,1 2 3 4 5 6  7  8  9  10 11 \n",
    "srchsot = np.searchsorted(var,4, side = \"right\")\n",
    "print(srchsot)"
   ]
  },
  {
   "cell_type": "code",
   "execution_count": 178,
   "id": "e61c4fda",
   "metadata": {},
   "outputs": [
    {
     "name": "stdout",
     "output_type": "stream",
     "text": [
      "3\n"
     ]
    }
   ],
   "source": [
    "var = np.array([1,2,3,5,7,9,13,15,20,24,25,29])\n",
    "        # index 0,1 2 3 4 5 6  7  8  9  10 11 \n",
    "srchsot = np.searchsorted(var,4 ,side = 'left')\n",
    "print(srchsot)"
   ]
  },
  {
   "cell_type": "code",
   "execution_count": 182,
   "id": "64a83090",
   "metadata": {},
   "outputs": [
    {
     "name": "stdout",
     "output_type": "stream",
     "text": [
      "3\n",
      "[1 3 5 6 7 9]\n"
     ]
    }
   ],
   "source": [
    "# Creating a sorted NumPy array\n",
    "arr = np.array([1, 3, 5, 7, 9])\n",
    "\n",
    "# Using searchsorted to find the indices for insertion\n",
    "indices = np.searchsorted(arr, 6, side='right')  # 'right' indicates to insert to the right of any existing entries of the same value\n",
    "print(indices)\n",
    "# Inserting the element 6 at the computed index\n",
    "arr = np.insert(arr, indices, 6)\n",
    "\n",
    "# Printing the updated array\n",
    "print(arr)"
   ]
  },
  {
   "cell_type": "markdown",
   "id": "92cdf9b5",
   "metadata": {},
   "source": [
    "### sort "
   ]
  },
  {
   "cell_type": "code",
   "execution_count": 183,
   "id": "d2906150",
   "metadata": {},
   "outputs": [
    {
     "name": "stdout",
     "output_type": "stream",
     "text": [
      "[ 1  2  3  5  7  9 13 15 20 24 25 29]\n"
     ]
    }
   ],
   "source": [
    "var = np.array([1,2,3,5,7,9,13,15,20,24,25,29])\n",
    "srt = np.sort(var)\n",
    "print(srt)"
   ]
  },
  {
   "cell_type": "code",
   "execution_count": 184,
   "id": "dbba9d97",
   "metadata": {},
   "outputs": [
    {
     "name": "stdout",
     "output_type": "stream",
     "text": [
      "['a' 'a' 'b' 'h' 'h' 's' 'z']\n"
     ]
    }
   ],
   "source": [
    "var = np.array(['s','h','a','h','b','a','z'])\n",
    "print(np.sort(var))\n"
   ]
  },
  {
   "cell_type": "markdown",
   "id": "dee92e68",
   "metadata": {},
   "source": [
    "### Filter in numpy"
   ]
  },
  {
   "cell_type": "code",
   "execution_count": 186,
   "id": "31c2a949",
   "metadata": {},
   "outputs": [
    {
     "name": "stdout",
     "output_type": "stream",
     "text": [
      "['s' 'a' 'h' 'a' 'z']\n"
     ]
    }
   ],
   "source": [
    "var = np.array(['s','h','a','h','b','a','z'])\n",
    "f = [True,False,True,True,False,True,True]\n",
    "\n",
    "new_var = var[f]\n",
    "\n",
    "print(new_var)\n"
   ]
  },
  {
   "cell_type": "markdown",
   "id": "23f963cf",
   "metadata": {},
   "source": [
    "#### Shuffle in numpy "
   ]
  },
  {
   "cell_type": "code",
   "execution_count": 188,
   "id": "0458cce9",
   "metadata": {},
   "outputs": [
    {
     "name": "stdout",
     "output_type": "stream",
     "text": [
      "[ 7  5  3 20  2 24  1 29 15 13  9 25]\n"
     ]
    }
   ],
   "source": [
    "var = np.array([1,2,3,5,7,9,13,15,20,24,25,29])\n",
    "np.random.shuffle(var)\n",
    "print(var)"
   ]
  },
  {
   "cell_type": "code",
   "execution_count": 189,
   "id": "cc852884",
   "metadata": {},
   "outputs": [
    {
     "name": "stdout",
     "output_type": "stream",
     "text": [
      "None\n"
     ]
    }
   ],
   "source": [
    "var = np.array([1,2,3,5,7,9,13,15,20,24,25,29])\n",
    "sfl = np.random.shuffle(var)\n",
    "print(sfl)"
   ]
  },
  {
   "cell_type": "markdown",
   "id": "be661904",
   "metadata": {},
   "source": [
    "It not allow to assign shuffle value to store in another variable"
   ]
  },
  {
   "cell_type": "code",
   "execution_count": 195,
   "id": "df94b184",
   "metadata": {},
   "outputs": [
    {
     "name": "stdout",
     "output_type": "stream",
     "text": [
      "(array([ 1,  2,  3,  4,  5,  7, 29]), array([0, 1, 2, 9, 3, 4, 6]), array([2, 2, 2, 1, 1, 1, 1]))\n"
     ]
    }
   ],
   "source": [
    "#unique => it remove the duplicate value\n",
    "var = np.array([1,2,3,5,7,2,29,1,3,4])\n",
    "unq = np.unique(var,return_index = True, return_counts = True)\n",
    "print(unq)\n",
    "# print(var)"
   ]
  },
  {
   "cell_type": "markdown",
   "id": "682ea7b6",
   "metadata": {},
   "source": [
    "#### Resize in numpy  array"
   ]
  },
  {
   "cell_type": "code",
   "execution_count": 201,
   "id": "07f10d54",
   "metadata": {},
   "outputs": [
    {
     "name": "stdout",
     "output_type": "stream",
     "text": [
      "[[1 2 3]\n",
      " [5 7 2]]\n"
     ]
    }
   ],
   "source": [
    "var = np.array([1,2,3,5,7,2])\n",
    "rsz = np.resize(var,(2,3))\n",
    "print(rsz)"
   ]
  },
  {
   "cell_type": "code",
   "execution_count": 202,
   "id": "bc45cab4",
   "metadata": {},
   "outputs": [
    {
     "name": "stdout",
     "output_type": "stream",
     "text": [
      "[[0 1 2]\n",
      " [3 5 7]]\n"
     ]
    }
   ],
   "source": [
    "var = np.array([0,1,2,3,5,7,2])\n",
    "rsz = np.resize(var,(2,3))\n",
    "print(rsz)"
   ]
  },
  {
   "cell_type": "code",
   "execution_count": 204,
   "id": "31041c17",
   "metadata": {},
   "outputs": [
    {
     "name": "stdout",
     "output_type": "stream",
     "text": [
      "[[1]\n",
      " [2]\n",
      " [3]]\n",
      "[1 2 3 5 7 2]\n"
     ]
    }
   ],
   "source": [
    "var = np.array([1,2,3,5,7,2])\n",
    "rsz = np.resize(var,(3,1))\n",
    "print(rsz)\n",
    "print(var)"
   ]
  },
  {
   "cell_type": "code",
   "execution_count": 211,
   "id": "37e3ea19",
   "metadata": {},
   "outputs": [
    {
     "name": "stdout",
     "output_type": "stream",
     "text": [
      "[1 2 3 5 7 2 3 6 8 3 4 8]\n"
     ]
    }
   ],
   "source": [
    "var = np.array([[1,2,3,5,7,2],[3,6,8,3,4,8]])\n",
    "rsz = var.flatten()\n",
    "print(rsz)"
   ]
  },
  {
   "cell_type": "code",
   "execution_count": 212,
   "id": "0c4ded43",
   "metadata": {},
   "outputs": [
    {
     "name": "stdout",
     "output_type": "stream",
     "text": [
      "[1 3 2 6 3 8 5 3 7 4 2 8]\n"
     ]
    }
   ],
   "source": [
    "var = np.array([[1,2,3,5,7,2],[3,6,8,3,4,8]])\n",
    "#[1,2,3,5,7,2],\n",
    "#[3,6,8,3,4,8]\n",
    "rsz = var.flatten(order = \"F\")\n",
    "print(rsz)"
   ]
  },
  {
   "cell_type": "code",
   "execution_count": 213,
   "id": "83d46fc7",
   "metadata": {},
   "outputs": [
    {
     "name": "stdout",
     "output_type": "stream",
     "text": [
      "[1 2 3 5 7 2 3 6 8 3 4 8]\n"
     ]
    }
   ],
   "source": [
    "var = np.array([[1,2,3,5,7,2],[3,6,8,3,4,8]])\n",
    "#[1,2,3,5,7,2],\n",
    "#[3,6,8,3,4,8]\n",
    "rsz = var.flatten(order = \"C\")\n",
    "print(rsz)"
   ]
  },
  {
   "cell_type": "markdown",
   "id": "16721ace",
   "metadata": {},
   "source": [
    "#### Ravel in numpy "
   ]
  },
  {
   "cell_type": "code",
   "execution_count": 214,
   "id": "7410324a",
   "metadata": {},
   "outputs": [
    {
     "name": "stdout",
     "output_type": "stream",
     "text": [
      "[1 2 3 5 7 2 3 6 8 3 4 8]\n"
     ]
    }
   ],
   "source": [
    "var = np.array([[1,2,3,5,7,2],[3,6,8,3,4,8]])\n",
    "#[1,2,3,5,7,2],\n",
    "#[3,6,8,3,4,8]\n",
    "rsz = var.ravel(order = \"C\")\n",
    "print(rsz)"
   ]
  },
  {
   "cell_type": "code",
   "execution_count": 215,
   "id": "114f219f",
   "metadata": {},
   "outputs": [
    {
     "name": "stdout",
     "output_type": "stream",
     "text": [
      "[1 3 2 6 3 8 5 3 7 4 2 8]\n"
     ]
    }
   ],
   "source": [
    "var = np.array([[1,2,3,5,7,2],[3,6,8,3,4,8]])\n",
    "#[1,2,3,5,7,2],\n",
    "#[3,6,8,3,4,8]\n",
    "rsz = var.ravel(order = \"F\")\n",
    "print(rsz)"
   ]
  },
  {
   "cell_type": "code",
   "execution_count": null,
   "id": "7b5325fd",
   "metadata": {},
   "outputs": [],
   "source": [
    "NumPy, both the flatten and ravel functions are used to convert multi-dimensional \n",
    "arrays into one-dimensional arrays, but they have some subtle differences.\n",
    "\n",
    "#flatten:\n",
    "Returns a Copy: The flatten function always returns a copy of the original array,\n",
    "ensuring that any changes made to the flattened array do not affect the original array.\n",
    "\n",
    "Performance: As it involves copying all the elements into a new one-dimensional array,\n",
    "it might be less efficient for large arrays compared to other methods that retain \n",
    "the original array structure.\n",
    "\n",
    "#ravel:\n",
    "Returns a View if Possible: The ravel function returns a flattened one-dimensional array\n",
    "that may be a view of the original array. If no copy is required, it will return a view\n",
    "to improve performance. However, if the array is non-contiguous in memory, a copy will\n",
    "be made.\n",
    "\n",
    "Memory Efficiency: When the array is contiguous in memory, ravel does not create a new\n",
    "copy, making it more memory-efficient compared to flatten."
   ]
  },
  {
   "cell_type": "markdown",
   "id": "ea6aae31",
   "metadata": {},
   "source": [
    "### Insert "
   ]
  },
  {
   "cell_type": "code",
   "execution_count": 217,
   "id": "9c24e70a",
   "metadata": {},
   "outputs": [
    {
     "name": "stdout",
     "output_type": "stream",
     "text": [
      "[ 1  2  3  5 60  7  2]\n",
      "[1 2 3 5 7 2]\n"
     ]
    }
   ],
   "source": [
    "var = np.array([1,2,3,5,7,2])\n",
    "rsz = np.insert(var,4,60)\n",
    "print(rsz)\n",
    "print(var)"
   ]
  },
  {
   "cell_type": "code",
   "execution_count": null,
   "id": "f8ad2016",
   "metadata": {},
   "outputs": [],
   "source": [
    "var = np.array([1,2,3,5,7,2])\n",
    "rsz = np.insert(var,4,60)\n",
    "print(rsz)\n",
    "print(var)"
   ]
  },
  {
   "cell_type": "code",
   "execution_count": 223,
   "id": "41053225",
   "metadata": {},
   "outputs": [
    {
     "name": "stdout",
     "output_type": "stream",
     "text": [
      "[100   1   2   3 100   5   7   2]\n",
      "[1 2 3 5 7 2]\n"
     ]
    }
   ],
   "source": [
    "var = np.array([1,2,3,5,7,2])\n",
    "rsz = np.insert(var,(0,3),(100))\n",
    "print(rsz)\n",
    "print(var)"
   ]
  },
  {
   "cell_type": "code",
   "execution_count": 226,
   "id": "2cdcf31e",
   "metadata": {},
   "outputs": [
    {
     "name": "stdout",
     "output_type": "stream",
     "text": [
      "[1 2 3 5 7 2 8]\n",
      "[1 2 3 5 7 2]\n"
     ]
    }
   ],
   "source": [
    "var = np.array([1,2,3,5,7,2])\n",
    "rsz = np.insert(var,(6),8.5)\n",
    "print(rsz)\n",
    "print(var)"
   ]
  },
  {
   "cell_type": "code",
   "execution_count": 228,
   "id": "0fa3ecc5",
   "metadata": {},
   "outputs": [
    {
     "name": "stdout",
     "output_type": "stream",
     "text": [
      "[[ 1  2 20  3]\n",
      " [ 4  5 20  6]]\n",
      "[[1 2 3]\n",
      " [4 5 6]]\n"
     ]
    }
   ],
   "source": [
    "#axis 1 => means column\n",
    "var = np.array([[1,2,3],[4,5,6]])\n",
    "rsz = np.insert(var, 2 ,20, axis = 1)\n",
    "print(rsz)\n",
    "print(var)"
   ]
  },
  {
   "cell_type": "code",
   "execution_count": 229,
   "id": "09845114",
   "metadata": {},
   "outputs": [
    {
     "name": "stdout",
     "output_type": "stream",
     "text": [
      "[[ 1  2  3]\n",
      " [ 4  5  6]\n",
      " [20 20 20]]\n",
      "[[1 2 3]\n",
      " [4 5 6]]\n"
     ]
    }
   ],
   "source": [
    "#axis 1 => means row\n",
    "\n",
    "var = np.array([[1,2,3],[4,5,6]])\n",
    "rsz = np.insert(var, 2 ,20, axis = 0)\n",
    "print(rsz)\n",
    "print(var)"
   ]
  },
  {
   "cell_type": "markdown",
   "id": "eda9f74a",
   "metadata": {},
   "source": [
    "### append "
   ]
  },
  {
   "cell_type": "code",
   "execution_count": 231,
   "id": "cda8b463",
   "metadata": {},
   "outputs": [
    {
     "name": "stdout",
     "output_type": "stream",
     "text": [
      "[ 1.   2.   3.   5.   7.   2.  30.7]\n",
      "<class 'numpy.ndarray'>\n",
      "[1 2 3 5 7 2]\n"
     ]
    }
   ],
   "source": [
    "var = np.array([1,2,3,5,7,2])\n",
    "new = np.append(var, 30.7)\n",
    "print(new)\n",
    "print(type(new))\n",
    "print(var)"
   ]
  },
  {
   "cell_type": "code",
   "execution_count": 235,
   "id": "c6c20d80",
   "metadata": {},
   "outputs": [
    {
     "name": "stdout",
     "output_type": "stream",
     "text": [
      "[[ 1  2  3]\n",
      " [ 4  6  7]\n",
      " [10 11 12]]\n",
      "\n",
      "[[1 2 3]\n",
      " [4 6 7]]\n"
     ]
    }
   ],
   "source": [
    "var = np.array([[1,2,3],[4,6,7]])\n",
    "new = np.append(var, [[10,11,12]], axis = 0)\n",
    "print(new)\n",
    "print()\n",
    "print(var)"
   ]
  },
  {
   "cell_type": "code",
   "execution_count": 239,
   "id": "c599c660",
   "metadata": {},
   "outputs": [
    {
     "name": "stdout",
     "output_type": "stream",
     "text": [
      "[[  1   2   3 101]\n",
      " [  4   6   7 111]]\n",
      "2\n",
      "[[1 2 3]\n",
      " [4 6 7]]\n"
     ]
    }
   ],
   "source": [
    "var = np.array([[1, 2, 3], [4, 6, 7]])\n",
    "# Transpose the array to match the dimensions\n",
    "new = np.append(var, [[101], [111]], axis=1)\n",
    "print(new)\n",
    "print(var.ndim)\n",
    "print(var)"
   ]
  },
  {
   "cell_type": "code",
   "execution_count": 245,
   "id": "d7acf846",
   "metadata": {},
   "outputs": [
    {
     "name": "stdout",
     "output_type": "stream",
     "text": [
      "[12 25 31 46 67 77]\n",
      "\n",
      "[12 25 46 67 77]\n"
     ]
    }
   ],
   "source": [
    "var = np.array([12, 25, 31,46, 67, 77])\n",
    "# Transpose the array to match the dimensions\n",
    "new = np.delete(var,2)\n",
    "\n",
    "print(var)\n",
    "print()\n",
    "print(new)"
   ]
  },
  {
   "cell_type": "markdown",
   "id": "8dbf9d70",
   "metadata": {},
   "source": [
    "### Matrix"
   ]
  },
  {
   "cell_type": "code",
   "execution_count": 246,
   "id": "53690cb4",
   "metadata": {},
   "outputs": [
    {
     "name": "stdout",
     "output_type": "stream",
     "text": [
      "[2 4 6]\n"
     ]
    }
   ],
   "source": [
    "#Woking with array\n",
    "var1 = np.array([1,2,3])\n",
    "var2 = np.array([1,2,3])\n",
    "print(var1+var2)"
   ]
  },
  {
   "cell_type": "code",
   "execution_count": 248,
   "id": "57f28f29",
   "metadata": {},
   "outputs": [
    {
     "name": "stdout",
     "output_type": "stream",
     "text": [
      "[0 0 0]\n"
     ]
    }
   ],
   "source": [
    "var1 = np.array([1,2,3])\n",
    "var2 = np.array([1,2,3])\n",
    "print(var1-var2)"
   ]
  },
  {
   "cell_type": "code",
   "execution_count": 249,
   "id": "6a2b0846",
   "metadata": {},
   "outputs": [
    {
     "name": "stdout",
     "output_type": "stream",
     "text": [
      "[1. 1. 1.]\n"
     ]
    }
   ],
   "source": [
    "var1 = np.array([1,2,3])\n",
    "var2 = np.array([1,2,3])\n",
    "print(var1/var2)"
   ]
  },
  {
   "cell_type": "code",
   "execution_count": 250,
   "id": "b39a8d75",
   "metadata": {},
   "outputs": [
    {
     "name": "stdout",
     "output_type": "stream",
     "text": [
      "[0 0 0]\n"
     ]
    }
   ],
   "source": [
    "var1 = np.array([1,2,3])\n",
    "var2 = np.array([1,2,3])\n",
    "print(var1 % var2)"
   ]
  },
  {
   "cell_type": "code",
   "execution_count": 251,
   "id": "68871b06",
   "metadata": {},
   "outputs": [
    {
     "name": "stdout",
     "output_type": "stream",
     "text": [
      "[1 4 9]\n"
     ]
    }
   ],
   "source": [
    "var1 = np.array([1,2,3])\n",
    "var2 = np.array([1,2,3])\n",
    "print(var1 * var2)"
   ]
  },
  {
   "cell_type": "code",
   "execution_count": 256,
   "id": "87f70f4a",
   "metadata": {},
   "outputs": [
    {
     "name": "stdout",
     "output_type": "stream",
     "text": [
      "[[ 7  6]\n",
      " [15 14]]\n"
     ]
    }
   ],
   "source": [
    "#working with matrix\n",
    "### using .dot() \n",
    "var1 = np.matrix([[1,2],[3,4]])\n",
    "var2 = np.matrix([[1,2],[3,2]])\n",
    "print(var1.dot(var2))"
   ]
  },
  {
   "cell_type": "code",
   "execution_count": 258,
   "id": "17b6bf54",
   "metadata": {},
   "outputs": [
    {
     "name": "stdout",
     "output_type": "stream",
     "text": [
      "[[ 2  4]\n",
      " [34 25]]\n"
     ]
    }
   ],
   "source": [
    "#working with matrix\n",
    "### using .dot() \n",
    "var1 = np.matrix([[1,2],[3,4]])\n",
    "var2 = np.matrix([[1,2],[31,21]])\n",
    "# print(var1.dot(var2))\n",
    "print(var1 + var2)"
   ]
  },
  {
   "cell_type": "code",
   "execution_count": 259,
   "id": "c30e8c8a",
   "metadata": {},
   "outputs": [
    {
     "name": "stdout",
     "output_type": "stream",
     "text": [
      "[[  0   0]\n",
      " [-28 -17]]\n"
     ]
    }
   ],
   "source": [
    "#working with matrix\n",
    "### using .dot() \n",
    "var1 = np.matrix([[1,2],[3,4]])\n",
    "var2 = np.matrix([[1,2],[31,21]])\n",
    "# print(var1.dot(var2))\n",
    "print(var1 - var2)"
   ]
  },
  {
   "cell_type": "markdown",
   "id": "69f79b1c",
   "metadata": {},
   "source": [
    "### Matrix transpose Fuction"
   ]
  },
  {
   "cell_type": "code",
   "execution_count": 261,
   "id": "6f2d1294",
   "metadata": {},
   "outputs": [
    {
     "name": "stdout",
     "output_type": "stream",
     "text": [
      "[[1 2 3]\n",
      " [4 6 7]]\n",
      "\n",
      "[[1 4]\n",
      " [2 6]\n",
      " [3 7]]\n"
     ]
    }
   ],
   "source": [
    "var = np.array([[1, 2, 3], [4, 6, 7]])\n",
    "new_var = np.transpose(var)\n",
    "\n",
    "print(var)\n",
    "print()\n",
    "print(new_var)\n"
   ]
  },
  {
   "cell_type": "code",
   "execution_count": 266,
   "id": "6c8d0528",
   "metadata": {},
   "outputs": [
    {
     "name": "stdout",
     "output_type": "stream",
     "text": [
      "[[1 4]\n",
      " [2 6]\n",
      " [3 7]]\n"
     ]
    }
   ],
   "source": [
    "# using T for transpose\n",
    "var = np.array([[1, 2, 3], [4, 6, 7]])\n",
    "print(var.T) # only we can apply not store\n"
   ]
  },
  {
   "cell_type": "code",
   "execution_count": 271,
   "id": "0952fb82",
   "metadata": {},
   "outputs": [
    {
     "name": "stdout",
     "output_type": "stream",
     "text": [
      "[[ 1  4]\n",
      " [ 2  6]\n",
      " [ 3  7]\n",
      " [ 5 10]]\n"
     ]
    }
   ],
   "source": [
    "\n",
    "var = np.array([[1, 2, 3,5], [4, 6, 7,10]])\n",
    "print(np.swapaxes(var, 0,1))\n"
   ]
  },
  {
   "cell_type": "code",
   "execution_count": 2,
   "id": "82828ecb",
   "metadata": {},
   "outputs": [
    {
     "name": "stdout",
     "output_type": "stream",
     "text": [
      "[[1 4]\n",
      " [2 6]\n",
      " [3 7]\n",
      " [4 9]]\n"
     ]
    }
   ],
   "source": [
    "import numpy as np\n",
    "var = np.array([[1, 2, 3,4], [4, 6, 7,9]])\n",
    "print(np.swapaxes(var, 1,0))\n"
   ]
  },
  {
   "cell_type": "code",
   "execution_count": null,
   "id": "ac7b4976",
   "metadata": {},
   "outputs": [],
   "source": []
  }
 ],
 "metadata": {
  "kernelspec": {
   "display_name": "Python 3 (ipykernel)",
   "language": "python",
   "name": "python3"
  },
  "language_info": {
   "codemirror_mode": {
    "name": "ipython",
    "version": 3
   },
   "file_extension": ".py",
   "mimetype": "text/x-python",
   "name": "python",
   "nbconvert_exporter": "python",
   "pygments_lexer": "ipython3",
   "version": "3.11.5"
  }
 },
 "nbformat": 4,
 "nbformat_minor": 5
}
